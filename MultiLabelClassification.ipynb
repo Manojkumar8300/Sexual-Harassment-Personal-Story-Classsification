{
 "cells": [
  {
   "cell_type": "markdown",
   "metadata": {
    "id": "8yerk862dIqv"
   },
   "source": [
    "# MULTI-LABEL CLASSIFICATION"
   ]
  },
  {
   "cell_type": "markdown",
   "metadata": {
    "id": "WHy-XPnyO8qm"
   },
   "source": [
    "##Feature Engineering"
   ]
  },
  {
   "cell_type": "code",
   "execution_count": 1,
   "metadata": {
    "colab": {
     "base_uri": "https://localhost:8080/"
    },
    "id": "Gu5kmnEaqNGx",
    "outputId": "fe3bbb4b-7feb-4aef-905f-00cea10d6a22"
   },
   "outputs": [
    {
     "name": "stdout",
     "output_type": "stream",
     "text": [
      "Requirement already satisfied: kaggle in /usr/local/lib/python3.7/dist-packages (1.5.12)\n",
      "Requirement already satisfied: python-dateutil in /usr/local/lib/python3.7/dist-packages (from kaggle) (2.8.1)\n",
      "Requirement already satisfied: tqdm in /usr/local/lib/python3.7/dist-packages (from kaggle) (4.41.1)\n",
      "Requirement already satisfied: urllib3 in /usr/local/lib/python3.7/dist-packages (from kaggle) (1.24.3)\n",
      "Requirement already satisfied: python-slugify in /usr/local/lib/python3.7/dist-packages (from kaggle) (5.0.2)\n",
      "Requirement already satisfied: requests in /usr/local/lib/python3.7/dist-packages (from kaggle) (2.23.0)\n",
      "Requirement already satisfied: certifi in /usr/local/lib/python3.7/dist-packages (from kaggle) (2020.12.5)\n",
      "Requirement already satisfied: six>=1.10 in /usr/local/lib/python3.7/dist-packages (from kaggle) (1.15.0)\n",
      "Requirement already satisfied: text-unidecode>=1.3 in /usr/local/lib/python3.7/dist-packages (from python-slugify->kaggle) (1.3)\n",
      "Requirement already satisfied: idna<3,>=2.5 in /usr/local/lib/python3.7/dist-packages (from requests->kaggle) (2.10)\n",
      "Requirement already satisfied: chardet<4,>=3.0.2 in /usr/local/lib/python3.7/dist-packages (from requests->kaggle) (3.0.4)\n"
     ]
    }
   ],
   "source": [
    "!pip install kaggle\n",
    "\"\"\"\n",
    "To use the Kaggle API, sign up for a Kaggle account at https://www.kaggle.com. \n",
    "Then go to the 'Account' tab of your user profile (https://www.kaggle.com/<username>/account) and select 'Create API Token'. \n",
    "This will trigger the download of kaggle.json, a file containing your API credentials.\n",
    "Upload that file to google colab/google cloud platform \n",
    "\"\"\"\n",
    "api_token = {\"username\":\"manojkumar83000\",\"key\":\"a6c354dd1bc5460d07ffb4844b923064\"}"
   ]
  },
  {
   "cell_type": "code",
   "execution_count": 2,
   "metadata": {
    "colab": {
     "base_uri": "https://localhost:8080/"
    },
    "id": "u6TjJAkrq7qG",
    "outputId": "265da11b-ab22-4336-8684-82df3cf60896"
   },
   "outputs": [
    {
     "name": "stdout",
     "output_type": "stream",
     "text": [
      "Downloading fasttext-crawl-300d-2m.zip to /content\n",
      " 99% 1.43G/1.44G [00:17<00:00, 119MB/s]\n",
      "100% 1.44G/1.44G [00:17<00:00, 88.5MB/s]\n"
     ]
    }
   ],
   "source": [
    "!mkdir ~/.kaggle\n",
    "!cp kaggle.json ~/.kaggle/\n",
    "!chmod 600 /root/.kaggle/kaggle.json\n",
    "!kaggle datasets download -d yekenot/fasttext-crawl-300d-2m\n"
   ]
  },
  {
   "cell_type": "code",
   "execution_count": null,
   "metadata": {
    "colab": {
     "base_uri": "https://localhost:8080/"
    },
    "id": "3vyMMsxLsxuB",
    "outputId": "f338d6c3-d9a3-4587-b453-2b1da1b8e536"
   },
   "outputs": [
    {
     "name": "stdout",
     "output_type": "stream",
     "text": [
      "\n",
      "7-Zip [64] 16.02 : Copyright (c) 1999-2016 Igor Pavlov : 2016-05-21\n",
      "p7zip Version 16.02 (locale=en_US.UTF-8,Utf16=on,HugeFiles=on,64 bits,2 CPUs Intel(R) Xeon(R) CPU @ 2.00GHz (50653),ASM,AES-NI)\n",
      "\n",
      "Scanning the drive for archives:\n",
      "  0M Scan\b\b\b\b\b\b\b\b\b         \b\b\b\b\b\b\b\b\b1 file, 1545551987 bytes (1474 MiB)\n",
      "\n",
      "Extracting archive: fasttext-crawl-300d-2m.zip\n",
      "--\n",
      "Path = fasttext-crawl-300d-2m.zip\n",
      "Type = zip\n",
      "Physical Size = 1545551987\n",
      "\n",
      "  0%\b\b\b\b    \b\b\b\b  0% - crawl-300d-2M.vec\b\b\b\b\b\b\b\b\b\b\b\b\b\b\b\b\b\b\b\b\b\b\b\b                        \b\b\b\b\b\b\b\b\b\b\b\b\b\b\b\b\b\b\b\b\b\b\b\b  1% - crawl-300d-2M.vec\b\b\b\b\b\b\b\b\b\b\b\b\b\b\b\b\b\b\b\b\b\b\b\b                        \b\b\b\b\b\b\b\b\b\b\b\b\b\b\b\b\b\b\b\b\b\b\b\b  2% - crawl-300d-2M.vec\b\b\b\b\b\b\b\b\b\b\b\b\b\b\b\b\b\b\b\b\b\b\b\b                        \b\b\b\b\b\b\b\b\b\b\b\b\b\b\b\b\b\b\b\b\b\b\b\b  3% - crawl-300d-2M.vec\b\b\b\b\b\b\b\b\b\b\b\b\b\b\b\b\b\b\b\b\b\b\b\b                        \b\b\b\b\b\b\b\b\b\b\b\b\b\b\b\b\b\b\b\b\b\b\b\b  4% - crawl-300d-2M.vec\b\b\b\b\b\b\b\b\b\b\b\b\b\b\b\b\b\b\b\b\b\b\b\b                        \b\b\b\b\b\b\b\b\b\b\b\b\b\b\b\b\b\b\b\b\b\b\b\b  5% - crawl-300d-2M.vec\b\b\b\b\b\b\b\b\b\b\b\b\b\b\b\b\b\b\b\b\b\b\b\b                        \b\b\b\b\b\b\b\b\b\b\b\b\b\b\b\b\b\b\b\b\b\b\b\b  6% - crawl-300d-2M.vec\b\b\b\b\b\b\b\b\b\b\b\b\b\b\b\b\b\b\b\b\b\b\b\b                        \b\b\b\b\b\b\b\b\b\b\b\b\b\b\b\b\b\b\b\b\b\b\b\b  7% - crawl-300d-2M.vec\b\b\b\b\b\b\b\b\b\b\b\b\b\b\b\b\b\b\b\b\b\b\b\b                        \b\b\b\b\b\b\b\b\b\b\b\b\b\b\b\b\b\b\b\b\b\b\b\b  8% - crawl-300d-2M.vec\b\b\b\b\b\b\b\b\b\b\b\b\b\b\b\b\b\b\b\b\b\b\b\b                        \b\b\b\b\b\b\b\b\b\b\b\b\b\b\b\b\b\b\b\b\b\b\b\b  9% - crawl-300d-2M.vec\b\b\b\b\b\b\b\b\b\b\b\b\b\b\b\b\b\b\b\b\b\b\b\b                        \b\b\b\b\b\b\b\b\b\b\b\b\b\b\b\b\b\b\b\b\b\b\b\b 10% - crawl-300d-2M.vec\b\b\b\b\b\b\b\b\b\b\b\b\b\b\b\b\b\b\b\b\b\b\b\b                        \b\b\b\b\b\b\b\b\b\b\b\b\b\b\b\b\b\b\b\b\b\b\b\b 11% - crawl-300d-2M.vec\b\b\b\b\b\b\b\b\b\b\b\b\b\b\b\b\b\b\b\b\b\b\b\b                        \b\b\b\b\b\b\b\b\b\b\b\b\b\b\b\b\b\b\b\b\b\b\b\b 12% - crawl-300d-2M.vec\b\b\b\b\b\b\b\b\b\b\b\b\b\b\b\b\b\b\b\b\b\b\b\b                        \b\b\b\b\b\b\b\b\b\b\b\b\b\b\b\b\b\b\b\b\b\b\b\b 13% - crawl-300d-2M.vec\b\b\b\b\b\b\b\b\b\b\b\b\b\b\b\b\b\b\b\b\b\b\b\b                        \b\b\b\b\b\b\b\b\b\b\b\b\b\b\b\b\b\b\b\b\b\b\b\b 14% - crawl-300d-2M.vec\b\b\b\b\b\b\b\b\b\b\b\b\b\b\b\b\b\b\b\b\b\b\b\b                        \b\b\b\b\b\b\b\b\b\b\b\b\b\b\b\b\b\b\b\b\b\b\b\b 15% - crawl-300d-2M.vec\b\b\b\b\b\b\b\b\b\b\b\b\b\b\b\b\b\b\b\b\b\b\b\b                        \b\b\b\b\b\b\b\b\b\b\b\b\b\b\b\b\b\b\b\b\b\b\b\b 16% - crawl-300d-2M.vec\b\b\b\b\b\b\b\b\b\b\b\b\b\b\b\b\b\b\b\b\b\b\b\b                        \b\b\b\b\b\b\b\b\b\b\b\b\b\b\b\b\b\b\b\b\b\b\b\b 17% - crawl-300d-2M.vec\b\b\b\b\b\b\b\b\b\b\b\b\b\b\b\b\b\b\b\b\b\b\b\b                        \b\b\b\b\b\b\b\b\b\b\b\b\b\b\b\b\b\b\b\b\b\b\b\b 18% - crawl-300d-2M.vec\b\b\b\b\b\b\b\b\b\b\b\b\b\b\b\b\b\b\b\b\b\b\b\b                        \b\b\b\b\b\b\b\b\b\b\b\b\b\b\b\b\b\b\b\b\b\b\b\b 19% - crawl-300d-2M.vec\b\b\b\b\b\b\b\b\b\b\b\b\b\b\b\b\b\b\b\b\b\b\b\b                        \b\b\b\b\b\b\b\b\b\b\b\b\b\b\b\b\b\b\b\b\b\b\b\b 20% - crawl-300d-2M.vec\b\b\b\b\b\b\b\b\b\b\b\b\b\b\b\b\b\b\b\b\b\b\b\b                        \b\b\b\b\b\b\b\b\b\b\b\b\b\b\b\b\b\b\b\b\b\b\b\b 21% - crawl-300d-2M.vec\b\b\b\b\b\b\b\b\b\b\b\b\b\b\b\b\b\b\b\b\b\b\b\b                        \b\b\b\b\b\b\b\b\b\b\b\b\b\b\b\b\b\b\b\b\b\b\b\b 22% - crawl-300d-2M.vec\b\b\b\b\b\b\b\b\b\b\b\b\b\b\b\b\b\b\b\b\b\b\b\b                        \b\b\b\b\b\b\b\b\b\b\b\b\b\b\b\b\b\b\b\b\b\b\b\b 23% - crawl-300d-2M.vec\b\b\b\b\b\b\b\b\b\b\b\b\b\b\b\b\b\b\b\b\b\b\b\b                        \b\b\b\b\b\b\b\b\b\b\b\b\b\b\b\b\b\b\b\b\b\b\b\b 24% - crawl-300d-2M.vec\b\b\b\b\b\b\b\b\b\b\b\b\b\b\b\b\b\b\b\b\b\b\b\b                        \b\b\b\b\b\b\b\b\b\b\b\b\b\b\b\b\b\b\b\b\b\b\b\b 25% - crawl-300d-2M.vec\b\b\b\b\b\b\b\b\b\b\b\b\b\b\b\b\b\b\b\b\b\b\b\b                        \b\b\b\b\b\b\b\b\b\b\b\b\b\b\b\b\b\b\b\b\b\b\b\b 26% - crawl-300d-2M.vec\b\b\b\b\b\b\b\b\b\b\b\b\b\b\b\b\b\b\b\b\b\b\b\b                        \b\b\b\b\b\b\b\b\b\b\b\b\b\b\b\b\b\b\b\b\b\b\b\b 27% - crawl-300d-2M.vec\b\b\b\b\b\b\b\b\b\b\b\b\b\b\b\b\b\b\b\b\b\b\b\b                        \b\b\b\b\b\b\b\b\b\b\b\b\b\b\b\b\b\b\b\b\b\b\b\b 28% - crawl-300d-2M.vec\b\b\b\b\b\b\b\b\b\b\b\b\b\b\b\b\b\b\b\b\b\b\b\b                        \b\b\b\b\b\b\b\b\b\b\b\b\b\b\b\b\b\b\b\b\b\b\b\b 29% - crawl-300d-2M.vec\b\b\b\b\b\b\b\b\b\b\b\b\b\b\b\b\b\b\b\b\b\b\b\b                        \b\b\b\b\b\b\b\b\b\b\b\b\b\b\b\b\b\b\b\b\b\b\b\b 30% - crawl-300d-2M.vec\b\b\b\b\b\b\b\b\b\b\b\b\b\b\b\b\b\b\b\b\b\b\b\b                        \b\b\b\b\b\b\b\b\b\b\b\b\b\b\b\b\b\b\b\b\b\b\b\b 31% - crawl-300d-2M.vec\b\b\b\b\b\b\b\b\b\b\b\b\b\b\b\b\b\b\b\b\b\b\b\b                        \b\b\b\b\b\b\b\b\b\b\b\b\b\b\b\b\b\b\b\b\b\b\b\b 32% - crawl-300d-2M.vec\b\b\b\b\b\b\b\b\b\b\b\b\b\b\b\b\b\b\b\b\b\b\b\b                        \b\b\b\b\b\b\b\b\b\b\b\b\b\b\b\b\b\b\b\b\b\b\b\b 33% - crawl-300d-2M.vec\b\b\b\b\b\b\b\b\b\b\b\b\b\b\b\b\b\b\b\b\b\b\b\b                        \b\b\b\b\b\b\b\b\b\b\b\b\b\b\b\b\b\b\b\b\b\b\b\b 34% - crawl-300d-2M.vec\b\b\b\b\b\b\b\b\b\b\b\b\b\b\b\b\b\b\b\b\b\b\b\b                        \b\b\b\b\b\b\b\b\b\b\b\b\b\b\b\b\b\b\b\b\b\b\b\b 35% - crawl-300d-2M.vec\b\b\b\b\b\b\b\b\b\b\b\b\b\b\b\b\b\b\b\b\b\b\b\b                        \b\b\b\b\b\b\b\b\b\b\b\b\b\b\b\b\b\b\b\b\b\b\b\b 36% - crawl-300d-2M.vec\b\b\b\b\b\b\b\b\b\b\b\b\b\b\b\b\b\b\b\b\b\b\b\b                        \b\b\b\b\b\b\b\b\b\b\b\b\b\b\b\b\b\b\b\b\b\b\b\b 37% - crawl-300d-2M.vec\b\b\b\b\b\b\b\b\b\b\b\b\b\b\b\b\b\b\b\b\b\b\b\b                        \b\b\b\b\b\b\b\b\b\b\b\b\b\b\b\b\b\b\b\b\b\b\b\b 38% - crawl-300d-2M.vec\b\b\b\b\b\b\b\b\b\b\b\b\b\b\b\b\b\b\b\b\b\b\b\b                        \b\b\b\b\b\b\b\b\b\b\b\b\b\b\b\b\b\b\b\b\b\b\b\b 39% - crawl-300d-2M.vec\b\b\b\b\b\b\b\b\b\b\b\b\b\b\b\b\b\b\b\b\b\b\b\b                        \b\b\b\b\b\b\b\b\b\b\b\b\b\b\b\b\b\b\b\b\b\b\b\b 40% - crawl-300d-2M.vec\b\b\b\b\b\b\b\b\b\b\b\b\b\b\b\b\b\b\b\b\b\b\b\b                        \b\b\b\b\b\b\b\b\b\b\b\b\b\b\b\b\b\b\b\b\b\b\b\b 41% - crawl-300d-2M.vec\b\b\b\b\b\b\b\b\b\b\b\b\b\b\b\b\b\b\b\b\b\b\b\b                        \b\b\b\b\b\b\b\b\b\b\b\b\b\b\b\b\b\b\b\b\b\b\b\b 42% - crawl-300d-2M.vec\b\b\b\b\b\b\b\b\b\b\b\b\b\b\b\b\b\b\b\b\b\b\b\b                        \b\b\b\b\b\b\b\b\b\b\b\b\b\b\b\b\b\b\b\b\b\b\b\b 43% - crawl-300d-2M.vec\b\b\b\b\b\b\b\b\b\b\b\b\b\b\b\b\b\b\b\b\b\b\b\b                        \b\b\b\b\b\b\b\b\b\b\b\b\b\b\b\b\b\b\b\b\b\b\b\b 44% - crawl-300d-2M.vec\b\b\b\b\b\b\b\b\b\b\b\b\b\b\b\b\b\b\b\b\b\b\b\b                        \b\b\b\b\b\b\b\b\b\b\b\b\b\b\b\b\b\b\b\b\b\b\b\b 45% - crawl-300d-2M.vec\b\b\b\b\b\b\b\b\b\b\b\b\b\b\b\b\b\b\b\b\b\b\b\b                        \b\b\b\b\b\b\b\b\b\b\b\b\b\b\b\b\b\b\b\b\b\b\b\b 46% - crawl-300d-2M.vec\b\b\b\b\b\b\b\b\b\b\b\b\b\b\b\b\b\b\b\b\b\b\b\b                        \b\b\b\b\b\b\b\b\b\b\b\b\b\b\b\b\b\b\b\b\b\b\b\b 47% - crawl-300d-2M.vec\b\b\b\b\b\b\b\b\b\b\b\b\b\b\b\b\b\b\b\b\b\b\b\b                        \b\b\b\b\b\b\b\b\b\b\b\b\b\b\b\b\b\b\b\b\b\b\b\b 48% - crawl-300d-2M.vec\b\b\b\b\b\b\b\b\b\b\b\b\b\b\b\b\b\b\b\b\b\b\b\b                        \b\b\b\b\b\b\b\b\b\b\b\b\b\b\b\b\b\b\b\b\b\b\b\b 49% - crawl-300d-2M.vec\b\b\b\b\b\b\b\b\b\b\b\b\b\b\b\b\b\b\b\b\b\b\b\b                        \b\b\b\b\b\b\b\b\b\b\b\b\b\b\b\b\b\b\b\b\b\b\b\b 50% - crawl-300d-2M.vec\b\b\b\b\b\b\b\b\b\b\b\b\b\b\b\b\b\b\b\b\b\b\b\b                        \b\b\b\b\b\b\b\b\b\b\b\b\b\b\b\b\b\b\b\b\b\b\b\b 51% - crawl-300d-2M.vec\b\b\b\b\b\b\b\b\b\b\b\b\b\b\b\b\b\b\b\b\b\b\b\b                        \b\b\b\b\b\b\b\b\b\b\b\b\b\b\b\b\b\b\b\b\b\b\b\b 52% - crawl-300d-2M.vec\b\b\b\b\b\b\b\b\b\b\b\b\b\b\b\b\b\b\b\b\b\b\b\b                        \b\b\b\b\b\b\b\b\b\b\b\b\b\b\b\b\b\b\b\b\b\b\b\b 53% - crawl-300d-2M.vec\b\b\b\b\b\b\b\b\b\b\b\b\b\b\b\b\b\b\b\b\b\b\b\b                        \b\b\b\b\b\b\b\b\b\b\b\b\b\b\b\b\b\b\b\b\b\b\b\b 54% - crawl-300d-2M.vec\b\b\b\b\b\b\b\b\b\b\b\b\b\b\b\b\b\b\b\b\b\b\b\b                        \b\b\b\b\b\b\b\b\b\b\b\b\b\b\b\b\b\b\b\b\b\b\b\b 55% - crawl-300d-2M.vec\b\b\b\b\b\b\b\b\b\b\b\b\b\b\b\b\b\b\b\b\b\b\b\b                        \b\b\b\b\b\b\b\b\b\b\b\b\b\b\b\b\b\b\b\b\b\b\b\b 56% - crawl-300d-2M.vec\b\b\b\b\b\b\b\b\b\b\b\b\b\b\b\b\b\b\b\b\b\b\b\b                        \b\b\b\b\b\b\b\b\b\b\b\b\b\b\b\b\b\b\b\b\b\b\b\b 57% - crawl-300d-2M.vec\b\b\b\b\b\b\b\b\b\b\b\b\b\b\b\b\b\b\b\b\b\b\b\b                        \b\b\b\b\b\b\b\b\b\b\b\b\b\b\b\b\b\b\b\b\b\b\b\b 58% - crawl-300d-2M.vec\b\b\b\b\b\b\b\b\b\b\b\b\b\b\b\b\b\b\b\b\b\b\b\b                        \b\b\b\b\b\b\b\b\b\b\b\b\b\b\b\b\b\b\b\b\b\b\b\b 59% - crawl-300d-2M.vec\b\b\b\b\b\b\b\b\b\b\b\b\b\b\b\b\b\b\b\b\b\b\b\b                        \b\b\b\b\b\b\b\b\b\b\b\b\b\b\b\b\b\b\b\b\b\b\b\b 60% - crawl-300d-2M.vec\b\b\b\b\b\b\b\b\b\b\b\b\b\b\b\b\b\b\b\b\b\b\b\b                        \b\b\b\b\b\b\b\b\b\b\b\b\b\b\b\b\b\b\b\b\b\b\b\b 61% - crawl-300d-2M.vec\b\b\b\b\b\b\b\b\b\b\b\b\b\b\b\b\b\b\b\b\b\b\b\b                        \b\b\b\b\b\b\b\b\b\b\b\b\b\b\b\b\b\b\b\b\b\b\b\b 62% - crawl-300d-2M.vec\b\b\b\b\b\b\b\b\b\b\b\b\b\b\b\b\b\b\b\b\b\b\b\b                        \b\b\b\b\b\b\b\b\b\b\b\b\b\b\b\b\b\b\b\b\b\b\b\b 63% - crawl-300d-2M.vec\b\b\b\b\b\b\b\b\b\b\b\b\b\b\b\b\b\b\b\b\b\b\b\b                        \b\b\b\b\b\b\b\b\b\b\b\b\b\b\b\b\b\b\b\b\b\b\b\b 64% - crawl-300d-2M.vec\b\b\b\b\b\b\b\b\b\b\b\b\b\b\b\b\b\b\b\b\b\b\b\b                        \b\b\b\b\b\b\b\b\b\b\b\b\b\b\b\b\b\b\b\b\b\b\b\b 65% - crawl-300d-2M.vec\b\b\b\b\b\b\b\b\b\b\b\b\b\b\b\b\b\b\b\b\b\b\b\b                        \b\b\b\b\b\b\b\b\b\b\b\b\b\b\b\b\b\b\b\b\b\b\b\b 66% - crawl-300d-2M.vec\b\b\b\b\b\b\b\b\b\b\b\b\b\b\b\b\b\b\b\b\b\b\b\b                        \b\b\b\b\b\b\b\b\b\b\b\b\b\b\b\b\b\b\b\b\b\b\b\b 67% - crawl-300d-2M.vec\b\b\b\b\b\b\b\b\b\b\b\b\b\b\b\b\b\b\b\b\b\b\b\b                        \b\b\b\b\b\b\b\b\b\b\b\b\b\b\b\b\b\b\b\b\b\b\b\b 68% - crawl-300d-2M.vec\b\b\b\b\b\b\b\b\b\b\b\b\b\b\b\b\b\b\b\b\b\b\b\b                        \b\b\b\b\b\b\b\b\b\b\b\b\b\b\b\b\b\b\b\b\b\b\b\b 69% - crawl-300d-2M.vec\b\b\b\b\b\b\b\b\b\b\b\b\b\b\b\b\b\b\b\b\b\b\b\b                        \b\b\b\b\b\b\b\b\b\b\b\b\b\b\b\b\b\b\b\b\b\b\b\b 70% - crawl-300d-2M.vec\b\b\b\b\b\b\b\b\b\b\b\b\b\b\b\b\b\b\b\b\b\b\b\b                        \b\b\b\b\b\b\b\b\b\b\b\b\b\b\b\b\b\b\b\b\b\b\b\b 71% - crawl-300d-2M.vec\b\b\b\b\b\b\b\b\b\b\b\b\b\b\b\b\b\b\b\b\b\b\b\b                        \b\b\b\b\b\b\b\b\b\b\b\b\b\b\b\b\b\b\b\b\b\b\b\b 72% - crawl-300d-2M.vec\b\b\b\b\b\b\b\b\b\b\b\b\b\b\b\b\b\b\b\b\b\b\b\b                        \b\b\b\b\b\b\b\b\b\b\b\b\b\b\b\b\b\b\b\b\b\b\b\b 73% - crawl-300d-2M.vec\b\b\b\b\b\b\b\b\b\b\b\b\b\b\b\b\b\b\b\b\b\b\b\b                        \b\b\b\b\b\b\b\b\b\b\b\b\b\b\b\b\b\b\b\b\b\b\b\b 74% - crawl-300d-2M.vec\b\b\b\b\b\b\b\b\b\b\b\b\b\b\b\b\b\b\b\b\b\b\b\b                        \b\b\b\b\b\b\b\b\b\b\b\b\b\b\b\b\b\b\b\b\b\b\b\b 75% - crawl-300d-2M.vec\b\b\b\b\b\b\b\b\b\b\b\b\b\b\b\b\b\b\b\b\b\b\b\b                        \b\b\b\b\b\b\b\b\b\b\b\b\b\b\b\b\b\b\b\b\b\b\b\b 76% - crawl-300d-2M.vec\b\b\b\b\b\b\b\b\b\b\b\b\b\b\b\b\b\b\b\b\b\b\b\b                        \b\b\b\b\b\b\b\b\b\b\b\b\b\b\b\b\b\b\b\b\b\b\b\b 77% - crawl-300d-2M.vec\b\b\b\b\b\b\b\b\b\b\b\b\b\b\b\b\b\b\b\b\b\b\b\b                        \b\b\b\b\b\b\b\b\b\b\b\b\b\b\b\b\b\b\b\b\b\b\b\b 78% - crawl-300d-2M.vec\b\b\b\b\b\b\b\b\b\b\b\b\b\b\b\b\b\b\b\b\b\b\b\b                        \b\b\b\b\b\b\b\b\b\b\b\b\b\b\b\b\b\b\b\b\b\b\b\b 79% - crawl-300d-2M.vec\b\b\b\b\b\b\b\b\b\b\b\b\b\b\b\b\b\b\b\b\b\b\b\b                        \b\b\b\b\b\b\b\b\b\b\b\b\b\b\b\b\b\b\b\b\b\b\b\b 80% - crawl-300d-2M.vec\b\b\b\b\b\b\b\b\b\b\b\b\b\b\b\b\b\b\b\b\b\b\b\b                        \b\b\b\b\b\b\b\b\b\b\b\b\b\b\b\b\b\b\b\b\b\b\b\b 81% - crawl-300d-2M.vec\b\b\b\b\b\b\b\b\b\b\b\b\b\b\b\b\b\b\b\b\b\b\b\b                        \b\b\b\b\b\b\b\b\b\b\b\b\b\b\b\b\b\b\b\b\b\b\b\b 82% - crawl-300d-2M.vec\b\b\b\b\b\b\b\b\b\b\b\b\b\b\b\b\b\b\b\b\b\b\b\b                        \b\b\b\b\b\b\b\b\b\b\b\b\b\b\b\b\b\b\b\b\b\b\b\b 83% - crawl-300d-2M.vec\b\b\b\b\b\b\b\b\b\b\b\b\b\b\b\b\b\b\b\b\b\b\b\b                        \b\b\b\b\b\b\b\b\b\b\b\b\b\b\b\b\b\b\b\b\b\b\b\b 84% - crawl-300d-2M.vec\b\b\b\b\b\b\b\b\b\b\b\b\b\b\b\b\b\b\b\b\b\b\b\b                        \b\b\b\b\b\b\b\b\b\b\b\b\b\b\b\b\b\b\b\b\b\b\b\b 85% - crawl-300d-2M.vec\b\b\b\b\b\b\b\b\b\b\b\b\b\b\b\b\b\b\b\b\b\b\b\b                        \b\b\b\b\b\b\b\b\b\b\b\b\b\b\b\b\b\b\b\b\b\b\b\b 86% - crawl-300d-2M.vec\b\b\b\b\b\b\b\b\b\b\b\b\b\b\b\b\b\b\b\b\b\b\b\b                        \b\b\b\b\b\b\b\b\b\b\b\b\b\b\b\b\b\b\b\b\b\b\b\b 87% - crawl-300d-2M.vec\b\b\b\b\b\b\b\b\b\b\b\b\b\b\b\b\b\b\b\b\b\b\b\b                        \b\b\b\b\b\b\b\b\b\b\b\b\b\b\b\b\b\b\b\b\b\b\b\b 88% - crawl-300d-2M.vec\b\b\b\b\b\b\b\b\b\b\b\b\b\b\b\b\b\b\b\b\b\b\b\b                        \b\b\b\b\b\b\b\b\b\b\b\b\b\b\b\b\b\b\b\b\b\b\b\b 89% - crawl-300d-2M.vec\b\b\b\b\b\b\b\b\b\b\b\b\b\b\b\b\b\b\b\b\b\b\b\b                        \b\b\b\b\b\b\b\b\b\b\b\b\b\b\b\b\b\b\b\b\b\b\b\b 90% - crawl-300d-2M.vec\b\b\b\b\b\b\b\b\b\b\b\b\b\b\b\b\b\b\b\b\b\b\b\b                        \b\b\b\b\b\b\b\b\b\b\b\b\b\b\b\b\b\b\b\b\b\b\b\b 91% - crawl-300d-2M.vec\b\b\b\b\b\b\b\b\b\b\b\b\b\b\b\b\b\b\b\b\b\b\b\b                        \b\b\b\b\b\b\b\b\b\b\b\b\b\b\b\b\b\b\b\b\b\b\b\b 92% - crawl-300d-2M.vec\b\b\b\b\b\b\b\b\b\b\b\b\b\b\b\b\b\b\b\b\b\b\b\b                        \b\b\b\b\b\b\b\b\b\b\b\b\b\b\b\b\b\b\b\b\b\b\b\b 93% - crawl-300d-2M.vec\b\b\b\b\b\b\b\b\b\b\b\b\b\b\b\b\b\b\b\b\b\b\b\b                        \b\b\b\b\b\b\b\b\b\b\b\b\b\b\b\b\b\b\b\b\b\b\b\b 94% - crawl-300d-2M.vec\b\b\b\b\b\b\b\b\b\b\b\b\b\b\b\b\b\b\b\b\b\b\b\b                        \b\b\b\b\b\b\b\b\b\b\b\b\b\b\b\b\b\b\b\b\b\b\b\b 95% - crawl-300d-2M.vec\b\b\b\b\b\b\b\b\b\b\b\b\b\b\b\b\b\b\b\b\b\b\b\b                        \b\b\b\b\b\b\b\b\b\b\b\b\b\b\b\b\b\b\b\b\b\b\b\b 96% - crawl-300d-2M.vec\b\b\b\b\b\b\b\b\b\b\b\b\b\b\b\b\b\b\b\b\b\b\b\b                        \b\b\b\b\b\b\b\b\b\b\b\b\b\b\b\b\b\b\b\b\b\b\b\b 97% - crawl-300d-2M.vec\b\b\b\b\b\b\b\b\b\b\b\b\b\b\b\b\b\b\b\b\b\b\b\b                        \b\b\b\b\b\b\b\b\b\b\b\b\b\b\b\b\b\b\b\b\b\b\b\b 98% - crawl-300d-2M.vec\b\b\b\b\b\b\b\b\b\b\b\b\b\b\b\b\b\b\b\b\b\b\b\b                        \b\b\b\b\b\b\b\b\b\b\b\b\b\b\b\b\b\b\b\b\b\b\b\b 99% - crawl-300d-2M.vec\b\b\b\b\b\b\b\b\b\b\b\b\b\b\b\b\b\b\b\b\b\b\b\b                        \b\b\b\b\b\b\b\b\b\b\b\b\b\b\b\b\b\b\b\b\b\b\b\b100% - crawl-300d-2M.vec\b\b\b\b\b\b\b\b\b\b\b\b\b\b\b\b\b\b\b\b\b\b\b\b                        \b\b\b\b\b\b\b\b\b\b\b\b\b\b\b\b\b\b\b\b\b\b\b\bEverything is Ok\n",
      "\n",
      "Size:       4516698366\n",
      "Compressed: 1545551987\n"
     ]
    }
   ],
   "source": [
    "!7z e fasttext-crawl-300d-2m.zip -o/content -r\n"
   ]
  },
  {
   "cell_type": "code",
   "execution_count": 6,
   "metadata": {
    "colab": {
     "base_uri": "https://localhost:8080/"
    },
    "id": "Xhd5xIJoXKGB",
    "outputId": "2a777733-b4c7-455f-97e0-f60edf82d102"
   },
   "outputs": [
    {
     "name": "stdout",
     "output_type": "stream",
     "text": [
      "Collecting scikit-multilearn\n",
      "\u001b[?25l  Downloading https://files.pythonhosted.org/packages/bb/1f/e6ff649c72a1cdf2c7a1d31eb21705110ce1c5d3e7e26b2cc300e1637272/scikit_multilearn-0.2.0-py3-none-any.whl (89kB)\n",
      "\r",
      "\u001b[K     |███▊                            | 10kB 24.6MB/s eta 0:00:01\r",
      "\u001b[K     |███████▍                        | 20kB 29.8MB/s eta 0:00:01\r",
      "\u001b[K     |███████████                     | 30kB 35.1MB/s eta 0:00:01\r",
      "\u001b[K     |██████████████▊                 | 40kB 27.5MB/s eta 0:00:01\r",
      "\u001b[K     |██████████████████▍             | 51kB 28.9MB/s eta 0:00:01\r",
      "\u001b[K     |██████████████████████          | 61kB 30.6MB/s eta 0:00:01\r",
      "\u001b[K     |█████████████████████████▊      | 71kB 31.6MB/s eta 0:00:01\r",
      "\u001b[K     |█████████████████████████████▍  | 81kB 26.9MB/s eta 0:00:01\r",
      "\u001b[K     |████████████████████████████████| 92kB 10.5MB/s \n",
      "\u001b[?25hInstalling collected packages: scikit-multilearn\n",
      "Successfully installed scikit-multilearn-0.2.0\n"
     ]
    }
   ],
   "source": [
    "!pip install scikit-multilearn"
   ]
  },
  {
   "cell_type": "code",
   "execution_count": 7,
   "metadata": {
    "id": "YimKa95_tVvo"
   },
   "outputs": [],
   "source": [
    "#importing libraries\n",
    "import pandas as pd\n",
    "import numpy as np\n",
    "import tensorflow as tf\n",
    "import tqdm\n",
    "from sklearn.multiclass import OneVsRestClassifier\n",
    "from skmultilearn.problem_transform import ClassifierChain\n",
    "from skmultilearn.problem_transform import BinaryRelevance\n",
    "from skmultilearn.problem_transform import LabelPowerset"
   ]
  },
  {
   "cell_type": "code",
   "execution_count": 8,
   "metadata": {
    "id": "k_OKMzRSIcBg"
   },
   "outputs": [],
   "source": [
    "preprocessed_data_train=pd.read_csv(\"preprocessed_data_train.csv\")#loading preprocessed data into panda Dataframe"
   ]
  },
  {
   "cell_type": "code",
   "execution_count": 9,
   "metadata": {
    "id": "GnaN6OwI42ql"
   },
   "outputs": [],
   "source": [
    "preprocessed_data_train=preprocessed_data_train.dropna()#removing the nan values"
   ]
  },
  {
   "cell_type": "code",
   "execution_count": 10,
   "metadata": {
    "colab": {
     "base_uri": "https://localhost:8080/",
     "height": 172
    },
    "id": "waCZ5L0eI3aw",
    "outputId": "0112fa68-ce2d-4cd5-c591-dec7698f4a45"
   },
   "outputs": [
    {
     "data": {
      "text/html": [
       "<div>\n",
       "<style scoped>\n",
       "    .dataframe tbody tr th:only-of-type {\n",
       "        vertical-align: middle;\n",
       "    }\n",
       "\n",
       "    .dataframe tbody tr th {\n",
       "        vertical-align: top;\n",
       "    }\n",
       "\n",
       "    .dataframe thead th {\n",
       "        text-align: right;\n",
       "    }\n",
       "</style>\n",
       "<table border=\"1\" class=\"dataframe\">\n",
       "  <thead>\n",
       "    <tr style=\"text-align: right;\">\n",
       "      <th></th>\n",
       "      <th>Unnamed: 0</th>\n",
       "      <th>Description</th>\n",
       "      <th>commenting</th>\n",
       "      <th>ogling</th>\n",
       "      <th>groping</th>\n",
       "      <th>cleaned_text</th>\n",
       "    </tr>\n",
       "  </thead>\n",
       "  <tbody>\n",
       "    <tr>\n",
       "      <th>0</th>\n",
       "      <td>0</td>\n",
       "      <td>During morning, a woman was walking by and thi...</td>\n",
       "      <td>1</td>\n",
       "      <td>1</td>\n",
       "      <td>0</td>\n",
       "      <td>morning woman walking thin guy came around cal...</td>\n",
       "    </tr>\n",
       "    <tr>\n",
       "      <th>1</th>\n",
       "      <td>1</td>\n",
       "      <td>A man tried to brush his penis off of a woman'...</td>\n",
       "      <td>0</td>\n",
       "      <td>0</td>\n",
       "      <td>1</td>\n",
       "      <td>man tried brush penis woman shoulder bus</td>\n",
       "    </tr>\n",
       "    <tr>\n",
       "      <th>2</th>\n",
       "      <td>2</td>\n",
       "      <td>This happened to a fellow passenger of mine tr...</td>\n",
       "      <td>0</td>\n",
       "      <td>1</td>\n",
       "      <td>0</td>\n",
       "      <td>happened fellow passenger mine travelling metr...</td>\n",
       "    </tr>\n",
       "    <tr>\n",
       "      <th>3</th>\n",
       "      <td>3</td>\n",
       "      <td>ogling</td>\n",
       "      <td>0</td>\n",
       "      <td>1</td>\n",
       "      <td>0</td>\n",
       "      <td>ogling</td>\n",
       "    </tr>\n",
       "  </tbody>\n",
       "</table>\n",
       "</div>"
      ],
      "text/plain": [
       "   Unnamed: 0  ...                                       cleaned_text\n",
       "0           0  ...  morning woman walking thin guy came around cal...\n",
       "1           1  ...           man tried brush penis woman shoulder bus\n",
       "2           2  ...  happened fellow passenger mine travelling metr...\n",
       "3           3  ...                                             ogling\n",
       "\n",
       "[4 rows x 6 columns]"
      ]
     },
     "execution_count": 10,
     "metadata": {
      "tags": []
     },
     "output_type": "execute_result"
    }
   ],
   "source": [
    "preprocessed_data_test=pd.read_csv(\"preprocessed_data_test.csv\")#loading preprocessed data into panda Dataframe\n",
    "preprocessed_data_test.head(4)"
   ]
  },
  {
   "cell_type": "code",
   "execution_count": null,
   "metadata": {
    "colab": {
     "base_uri": "https://localhost:8080/"
    },
    "id": "ZIGiYPHGWCYl",
    "outputId": "d105d25f-375a-4704-b643-f0057ad7f297"
   },
   "outputs": [
    {
     "name": "stdout",
     "output_type": "stream",
     "text": [
      "Loading Fasttext Model\n",
      "Done. 2000000  words loaded!\n"
     ]
    }
   ],
   "source": [
    "# Reading glove vectors in python: https://stackoverflow.com/a/38230349/4084039\n",
    "def fasttextModel(gloveFile):\n",
    "    print (\"Loading Fasttext Model\")\n",
    "    f = open(gloveFile,'r', encoding=\"utf8\")\n",
    "    model = {}#for storing word and the corresponding embedding vector for that word\n",
    "    for line in f:\n",
    "        splitLine = line.split()#splitting the line and storing it in a list\n",
    "        word = splitLine[0]#getting the first element and storing it in word\n",
    "        embedding = np.array([float(val) for val in splitLine[1:]])#obtaining corresponding vector for that word\n",
    "        model[word] = embedding#storing word as key and embedding vector for that word as value\n",
    "    print (\"Done.\",len(model),\" words loaded!\")\n",
    "    return model\n",
    "model = fasttextModel('/content/crawl-300d-2M.vec')"
   ]
  },
  {
   "cell_type": "code",
   "execution_count": null,
   "metadata": {
    "colab": {
     "base_uri": "https://localhost:8080/"
    },
    "id": "8-i_AnusIign",
    "outputId": "d8d7724c-036f-49e6-964d-7822cdd13c17"
   },
   "outputs": [
    {
     "name": "stdout",
     "output_type": "stream",
     "text": [
      "the unique words in the corpus 7877\n",
      "fastvec length 6731\n"
     ]
    }
   ],
   "source": [
    "words = []#for storing all the words in the train data\n",
    "for i in preprocessed_data_train['cleaned_text']:\n",
    "    words.extend(str(i).split(' '))\n",
    "\n",
    "words = set(words)#getting corresponding unique words in the whole text corpus\n",
    "print(\"the unique words in the corpus\", len(words))#printing the uniques words length\n",
    "\n",
    "#here we are obtainig the embeddings for the words that are present in the whole corpus\n",
    "words_courpus = {}\n",
    "words_glove = set(model.keys())\n",
    "for i in words:\n",
    "    if i in words_glove:\n",
    "        words_courpus[i] = model[i]\n",
    "print(\"fastvec length\", len(words_courpus))\n",
    "\n",
    "\n",
    "# stronging variables into pickle files python: http://www.jessicayung.com/how-to-use-pickle-to-save-and-load-variables-in-python/\n",
    "\n",
    "import pickle\n",
    "with open('fast_vectors', 'wb') as f:\n",
    "    pickle.dump(words_courpus, f)"
   ]
  },
  {
   "cell_type": "code",
   "execution_count": null,
   "metadata": {
    "id": "CB15ilNBKEzt"
   },
   "outputs": [],
   "source": [
    "with open('fast_vectors', 'rb') as f:\n",
    "    model = pickle.load(f)\n",
    "    fast_words =  set(model.keys())"
   ]
  },
  {
   "cell_type": "code",
   "execution_count": null,
   "metadata": {
    "colab": {
     "base_uri": "https://localhost:8080/"
    },
    "id": "wnvfgh1GZA22",
    "outputId": "18dfce90-58a8-4315-ea8f-ac731259775f"
   },
   "outputs": [
    {
     "data": {
      "text/plain": [
       "array([-0.0051, -0.4417, -0.044 , -0.344 , -0.1405, -0.1064,  0.1349,\n",
       "       -0.0281,  0.3249,  0.0485,  0.1994,  0.1098,  0.5005, -0.0635,\n",
       "       -0.2376,  0.1094, -0.1058, -0.0696, -0.0585,  0.3074,  0.1115,\n",
       "       -0.0943, -0.3071, -0.21  ,  0.1331, -0.2107, -0.0882,  0.1755,\n",
       "       -0.0358,  0.1818,  0.0921,  0.1831, -0.0982, -0.3284, -0.1072,\n",
       "       -0.384 , -0.0036,  0.3687,  0.1681, -0.0567, -0.1918, -0.337 ,\n",
       "       -0.206 , -0.1122,  0.0433,  0.0639, -0.0275,  0.2598,  0.1519,\n",
       "        0.0347, -0.2054, -0.3528,  0.4976, -0.1242,  0.2713,  0.039 ,\n",
       "       -0.0139, -0.1997,  0.0187,  0.0664, -0.0383, -0.0274, -0.1064,\n",
       "       -0.0861,  0.0717, -0.0934,  0.3908, -0.2086,  0.1645, -0.6222,\n",
       "       -0.1018, -0.3692,  0.2942,  0.0502,  0.1019, -0.141 , -0.6319,\n",
       "       -0.0846,  0.0254, -0.2069, -0.1305, -0.1702, -0.1573,  0.1331,\n",
       "       -0.4226,  0.0945,  0.139 , -0.4037, -0.1124,  0.2481,  0.188 ,\n",
       "        0.2011,  0.14  ,  0.147 , -0.031 ,  0.3591, -0.0417, -0.5554,\n",
       "        0.1189, -0.1325,  0.1368,  0.2906, -0.5972,  0.052 , -0.1006,\n",
       "       -0.0584, -0.0653, -0.0666, -0.1169, -0.0271,  0.0432, -0.1206,\n",
       "        0.0199, -0.3453, -0.1691, -0.3068, -0.2882, -0.2942,  0.1618,\n",
       "       -0.0581,  0.4625, -0.1162,  0.0975,  0.0312,  0.0912,  0.33  ,\n",
       "        0.261 , -0.148 ,  0.7421, -0.0423, -0.4659, -0.0359,  0.3592,\n",
       "       -0.2039,  0.0172, -0.0972, -0.1587, -0.203 ,  0.0363, -0.4867,\n",
       "        0.0126, -0.4184,  0.4007,  0.2412, -0.1529, -0.1228, -0.3334,\n",
       "        0.1241, -0.0111,  0.2414,  0.3209, -0.0503,  0.0281, -0.0327,\n",
       "       -0.2649,  0.2701, -0.4573,  0.0662, -0.2451,  0.128 ,  0.3747,\n",
       "        0.2763,  0.1045, -0.1683, -0.1323, -0.1385,  0.2047, -0.1066,\n",
       "       -0.1774, -0.0925, -0.2001,  0.1151, -0.1941,  0.0447,  0.2591,\n",
       "        0.1164, -0.2357,  0.4632,  0.0841, -0.1474, -0.2927,  0.0296,\n",
       "       -0.3562,  0.2295,  0.1315, -0.0273,  0.1476,  0.0031,  0.3492,\n",
       "        0.0378, -0.0819,  0.3821, -0.3423,  0.2907, -0.0771, -0.1446,\n",
       "        0.2536, -0.1516,  0.0664, -0.3455, -0.5454, -0.122 ,  0.0905,\n",
       "        0.0694, -0.1124, -0.0479, -0.1155,  0.1409,  0.2009,  0.1878,\n",
       "       -0.095 ,  0.639 , -0.1788,  0.0747, -0.0672,  0.0253, -0.0104,\n",
       "        0.1096, -0.099 , -0.0519, -0.0343,  0.3933,  0.032 ,  0.0798,\n",
       "       -0.0046,  0.0959,  0.3037,  0.1986,  0.0757,  0.0569,  0.0112,\n",
       "        0.0826,  0.2591, -0.2733,  0.1709, -0.0827,  0.3365, -0.0635,\n",
       "       -0.0898, -0.2455, -0.3057,  0.3218,  0.1993,  0.2337,  0.1879,\n",
       "       -0.1078,  0.3826,  0.3258, -0.1526, -0.0901,  0.3777,  0.0603,\n",
       "        0.2405, -0.3783, -0.173 , -0.0061,  0.0276,  0.0265,  0.101 ,\n",
       "        0.1448, -0.0958,  0.1206,  0.4775,  0.0229,  0.1345, -0.095 ,\n",
       "       -0.1039, -0.2159, -0.0942, -0.1997, -0.2599,  0.1544,  0.1907,\n",
       "        0.2654,  0.3778,  0.2622, -0.3729, -0.1306, -0.2838,  0.1407,\n",
       "        0.1971,  0.3317,  0.0541, -0.0784,  0.0709,  0.0895,  0.4342,\n",
       "        0.1876, -0.1152, -0.3832,  0.0578, -0.0317, -0.0625,  0.2849,\n",
       "       -0.0312,  0.1748, -0.2   , -0.1073,  0.1605, -0.1314])"
      ]
     },
     "execution_count": 12,
     "metadata": {
      "tags": []
     },
     "output_type": "execute_result"
    }
   ],
   "source": [
    "model['walking']"
   ]
  },
  {
   "cell_type": "code",
   "execution_count": null,
   "metadata": {
    "id": "jBJOIFtcYnmO"
   },
   "outputs": [],
   "source": [
    "text=preprocessed_data_train['cleaned_text'].values"
   ]
  },
  {
   "cell_type": "code",
   "execution_count": null,
   "metadata": {
    "colab": {
     "base_uri": "https://localhost:8080/"
    },
    "id": "SP3RAbI5Yaf1",
    "outputId": "0067cd6b-ebfa-4fcc-9b7d-1723075a15f8"
   },
   "outputs": [
    {
     "name": "stdout",
     "output_type": "stream",
     "text": [
      "7200\n",
      "300\n"
     ]
    }
   ],
   "source": [
    "fast_text_vectors= [];\n",
    "for sentence in text: # for each review/sentence\n",
    "    sentence=str(sentence)  \n",
    "    vector = np.zeros(300) # as word vectors are of zero length\n",
    "    cnt_words =0; # num of words with a valid vector in the sentence/review\n",
    "    for word in sentence.split(): # for each word in a review/sentence\n",
    "        if word in fast_words:\n",
    "            vector += model[word]\n",
    "            cnt_words += 1\n",
    "    if cnt_words != 0:\n",
    "        vector /= cnt_words#here we are averaging the vectors for individual sentence\n",
    "    fast_text_vectors.append(vector)\n",
    "\n",
    "print(len(fast_text_vectors))\n",
    "print(len(fast_text_vectors[0]))"
   ]
  },
  {
   "cell_type": "code",
   "execution_count": null,
   "metadata": {
    "id": "H2qCWNJnJhGM"
   },
   "outputs": [],
   "source": [
    "text1=preprocessed_data_test['cleaned_text'].values"
   ]
  },
  {
   "cell_type": "code",
   "execution_count": null,
   "metadata": {
    "colab": {
     "base_uri": "https://localhost:8080/"
    },
    "id": "c1zzMcBaJb3F",
    "outputId": "fa26a097-e7ad-4ba0-c07a-6281c0d186bb"
   },
   "outputs": [
    {
     "name": "stdout",
     "output_type": "stream",
     "text": [
      "1701\n",
      "300\n"
     ]
    }
   ],
   "source": [
    "fast_text_vectors1= [];\n",
    "for sentence in text1: # for each review/sentence\n",
    "    sentence=str(sentence)  \n",
    "    vector = np.zeros(300) # as word vectors are of zero length\n",
    "    cnt_words =0; # num of words with a valid vector in the sentence/review\n",
    "    for word in sentence.split(): # for each word in a review/sentence\n",
    "        if word in fast_words:\n",
    "            vector += model[word]\n",
    "            cnt_words += 1\n",
    "    if cnt_words != 0:\n",
    "        vector /= cnt_words#here we are averaging the vectors for individual sentence\n",
    "    fast_text_vectors1.append(vector)\n",
    "\n",
    "print(len(fast_text_vectors1))\n",
    "print(len(fast_text_vectors1[0]))"
   ]
  },
  {
   "cell_type": "code",
   "execution_count": null,
   "metadata": {
    "id": "s6QqfC040lWl"
   },
   "outputs": [],
   "source": [
    "from scipy.sparse import coo_matrix\n",
    "fasttext_train=coo_matrix(fast_text_vectors)\n",
    "fasttext_test=coo_matrix(fast_text_vectors1)\n"
   ]
  },
  {
   "cell_type": "markdown",
   "metadata": {
    "id": "OgJRzF5bPaUW"
   },
   "source": [
    "Adding Extra Features"
   ]
  },
  {
   "cell_type": "code",
   "execution_count": null,
   "metadata": {
    "id": "7RjJhtTcaCK2"
   },
   "outputs": [],
   "source": [
    "%matplotlib inline\n",
    "import warnings\n",
    "warnings.filterwarnings(\"ignore\")\n",
    "from textblob import TextBlob\n",
    "import nltk\n",
    "import pandas as pd\n",
    "import numpy as np\n",
    "from nltk.corpus import stopwords"
   ]
  },
  {
   "cell_type": "code",
   "execution_count": null,
   "metadata": {
    "id": "Cz2oc7ECabt9"
   },
   "outputs": [],
   "source": [
    "def length(text):\n",
    "    return len(str(text))\n",
    "def word_count(text):\n",
    "    text=str(text)\n",
    "    text=text.split()\n",
    "    return len(text)\n",
    "def stop_words_count(text):\n",
    "    text=str(text)\n",
    "    stop_words=set(stopwords.words('english'))\n",
    "    text = [word for word in text.split() if word.lower() in stop_words]\n",
    "    return len(text)\n",
    "def unique_words(text):\n",
    "    text=str(text)\n",
    "    text=text.split()\n",
    "    length=len(set(text))\n",
    "    return length"
   ]
  },
  {
   "cell_type": "code",
   "execution_count": null,
   "metadata": {
    "id": "fFaPxwYbarpn"
   },
   "outputs": [],
   "source": [
    "#https://www.kaggle.com/shivamb/extensive-text-data-feature-engineering\n",
    "def get_subjectivity(text):\n",
    "    try:\n",
    "        textblob = TextBlob(unicode(text, 'utf-8'))\n",
    "        subj = textblob.sentiment.subjectivity\n",
    "    except:\n",
    "        subj = 0.0\n",
    "    return subj"
   ]
  },
  {
   "cell_type": "code",
   "execution_count": null,
   "metadata": {
    "colab": {
     "base_uri": "https://localhost:8080/"
    },
    "id": "zb90VOKkbA8m",
    "outputId": "931ee946-880f-41b9-849a-805139fe470f"
   },
   "outputs": [
    {
     "name": "stdout",
     "output_type": "stream",
     "text": [
      "[nltk_data] Downloading package stopwords to /root/nltk_data...\n",
      "[nltk_data]   Unzipping corpora/stopwords.zip.\n"
     ]
    },
    {
     "data": {
      "text/plain": [
       "True"
      ]
     },
     "execution_count": 21,
     "metadata": {
      "tags": []
     },
     "output_type": "execute_result"
    }
   ],
   "source": [
    "nltk.download('stopwords')"
   ]
  },
  {
   "cell_type": "code",
   "execution_count": null,
   "metadata": {
    "id": "bZf1JoHvagt6"
   },
   "outputs": [],
   "source": [
    "#here we are adding some extra features to the dataset\n",
    "preprocessed_data_train['char_count']=preprocessed_data_train['Description'].apply(length)#counting the no of characters in each sentence\n",
    "preprocessed_data_train['word_count']=preprocessed_data_train['Description'].apply(word_count)#counting the no of words in each sentence\n",
    "preprocessed_data_train['stopwords_count']=preprocessed_data_train['Description'].apply(stop_words_count)#counting the no of stopwords in each sentence\n",
    "preprocessed_data_train['unique_words']=preprocessed_data_train['Description'].apply(unique_words)#counting the no of unique words in each sentence\n",
    "preprocessed_data_train['word_density']=preprocessed_data_train['char_count']/(preprocessed_data_train['word_count']+1)#calculating the word density in each sentence\n",
    "preprocessed_data_train['subjectivity']=preprocessed_data_train['cleaned_text'].apply(get_subjectivity)#calculating subjectivity scores for each sentence"
   ]
  },
  {
   "cell_type": "code",
   "execution_count": null,
   "metadata": {
    "id": "phhZ4NAZLbt-"
   },
   "outputs": [],
   "source": [
    "#here we are adding some extra features to the dataset\n",
    "preprocessed_data_test['char_count']=preprocessed_data_test['Description'].apply(length)#counting the no of characters in each sentence\n",
    "preprocessed_data_test['word_count']=preprocessed_data_test['Description'].apply(word_count)#counting the no of words in each sentence\n",
    "preprocessed_data_test['stopwords_count']=preprocessed_data_test['Description'].apply(stop_words_count)#counting the no of stopwords in each sentence\n",
    "preprocessed_data_test['unique_words']=preprocessed_data_test['Description'].apply(unique_words)#counting the no of unique words in each sentence\n",
    "preprocessed_data_test['word_density']=preprocessed_data_test['char_count']/(preprocessed_data_test['word_count']+1)#calculating the word density in each sentence\n",
    "preprocessed_data_test['subjectivity']=preprocessed_data_test['cleaned_text'].apply(get_subjectivity)#calculating subjectivity scores for each sentence"
   ]
  },
  {
   "cell_type": "code",
   "execution_count": null,
   "metadata": {
    "colab": {
     "base_uri": "https://localhost:8080/",
     "height": 438
    },
    "id": "WOv2IIMHa6Pa",
    "outputId": "cedbb0a1-41b1-4dfa-c4a6-6d64d896c381"
   },
   "outputs": [
    {
     "data": {
      "text/html": [
       "<div>\n",
       "<style scoped>\n",
       "    .dataframe tbody tr th:only-of-type {\n",
       "        vertical-align: middle;\n",
       "    }\n",
       "\n",
       "    .dataframe tbody tr th {\n",
       "        vertical-align: top;\n",
       "    }\n",
       "\n",
       "    .dataframe thead th {\n",
       "        text-align: right;\n",
       "    }\n",
       "</style>\n",
       "<table border=\"1\" class=\"dataframe\">\n",
       "  <thead>\n",
       "    <tr style=\"text-align: right;\">\n",
       "      <th></th>\n",
       "      <th>Unnamed: 0</th>\n",
       "      <th>Description</th>\n",
       "      <th>commenting</th>\n",
       "      <th>ogling</th>\n",
       "      <th>groping</th>\n",
       "      <th>cleaned_text</th>\n",
       "      <th>char_count</th>\n",
       "      <th>word_count</th>\n",
       "      <th>stopwords_count</th>\n",
       "      <th>unique_words</th>\n",
       "      <th>word_density</th>\n",
       "      <th>subjectivity</th>\n",
       "    </tr>\n",
       "  </thead>\n",
       "  <tbody>\n",
       "    <tr>\n",
       "      <th>0</th>\n",
       "      <td>0</td>\n",
       "      <td>Was walking along crowded street, holding mums...</td>\n",
       "      <td>0</td>\n",
       "      <td>0</td>\n",
       "      <td>1</td>\n",
       "      <td>walking along crowded street holding mum hand ...</td>\n",
       "      <td>183</td>\n",
       "      <td>36</td>\n",
       "      <td>15</td>\n",
       "      <td>35</td>\n",
       "      <td>4.945946</td>\n",
       "      <td>0.0</td>\n",
       "    </tr>\n",
       "    <tr>\n",
       "      <th>1</th>\n",
       "      <td>1</td>\n",
       "      <td>This incident took place in the evening.I was ...</td>\n",
       "      <td>0</td>\n",
       "      <td>1</td>\n",
       "      <td>0</td>\n",
       "      <td>incident took place evening metro two guy star...</td>\n",
       "      <td>89</td>\n",
       "      <td>16</td>\n",
       "      <td>7</td>\n",
       "      <td>14</td>\n",
       "      <td>5.235294</td>\n",
       "      <td>0.0</td>\n",
       "    </tr>\n",
       "    <tr>\n",
       "      <th>2</th>\n",
       "      <td>2</td>\n",
       "      <td>I WAS WAITING FOR THE BUS. A MAN CAME ON A BIK...</td>\n",
       "      <td>1</td>\n",
       "      <td>0</td>\n",
       "      <td>0</td>\n",
       "      <td>waiting bus man came bike offering liftvto you...</td>\n",
       "      <td>85</td>\n",
       "      <td>18</td>\n",
       "      <td>9</td>\n",
       "      <td>16</td>\n",
       "      <td>4.473684</td>\n",
       "      <td>0.0</td>\n",
       "    </tr>\n",
       "    <tr>\n",
       "      <th>3</th>\n",
       "      <td>3</td>\n",
       "      <td>Incident happened inside the train</td>\n",
       "      <td>0</td>\n",
       "      <td>0</td>\n",
       "      <td>0</td>\n",
       "      <td>incident happened inside train</td>\n",
       "      <td>34</td>\n",
       "      <td>5</td>\n",
       "      <td>1</td>\n",
       "      <td>5</td>\n",
       "      <td>5.666667</td>\n",
       "      <td>0.0</td>\n",
       "    </tr>\n",
       "  </tbody>\n",
       "</table>\n",
       "</div>"
      ],
      "text/plain": [
       "   Unnamed: 0  ... subjectivity\n",
       "0           0  ...          0.0\n",
       "1           1  ...          0.0\n",
       "2           2  ...          0.0\n",
       "3           3  ...          0.0\n",
       "\n",
       "[4 rows x 12 columns]"
      ]
     },
     "execution_count": 24,
     "metadata": {
      "tags": []
     },
     "output_type": "execute_result"
    }
   ],
   "source": [
    "preprocessed_data_train.head(4)"
   ]
  },
  {
   "cell_type": "code",
   "execution_count": null,
   "metadata": {
    "colab": {
     "base_uri": "https://localhost:8080/"
    },
    "id": "J1kNbT_Ly-_V",
    "outputId": "6805eb99-b4f5-4caa-c132-d76548329a9f"
   },
   "outputs": [
    {
     "name": "stdout",
     "output_type": "stream",
     "text": [
      "[nltk_data] Downloading package vader_lexicon to /root/nltk_data...\n"
     ]
    }
   ],
   "source": [
    "import nltk\n",
    "from nltk.sentiment.vader import SentimentIntensityAnalyzer\n",
    "\n",
    "import nltk\n",
    "nltk.download('vader_lexicon')\n",
    "\n",
    "sid = SentimentIntensityAnalyzer()"
   ]
  },
  {
   "cell_type": "code",
   "execution_count": null,
   "metadata": {
    "id": "AKEtLi8IbD8b"
   },
   "outputs": [],
   "source": [
    "import numpy as np\n",
    "def sentiment_score(X,feature):#this function is for calculating the sentimental scores of each sentence\n",
    "    neg=[]#calculating the negative sentimental scores and adding to the list\n",
    "    neu=[]#calculating the neutral sentimental scores and adding to the list\n",
    "    pos=[]#calculating the positive sentimental scores and adding to the list\n",
    "    compound=[]\n",
    "    for i in range(len(X)):\n",
    "        for_sentiment=X[feature].iloc[i]#here we are obtaining the individual sentence \n",
    "        for_sentiment=str(for_sentiment)\n",
    "        ss=sid.polarity_scores(for_sentiment)\n",
    "        neg.append(ss['neg'])\n",
    "        neu.append(ss['neu'])\n",
    "        pos.append(ss['pos'])\n",
    "        compound.append(ss['compound'])\n",
    "    return np.asarray(neg).reshape(-1,1),np.asarray(neu).reshape(-1,1),np.asarray(pos).reshape(-1,1),np.asarray(compound).reshape(-1,1)"
   ]
  },
  {
   "cell_type": "code",
   "execution_count": null,
   "metadata": {
    "id": "u1DbiMOgzB3Q"
   },
   "outputs": [],
   "source": [
    "p_neg,p_neu,p_pos,p_compound=sentiment_score(preprocessed_data_train,'cleaned_text')"
   ]
  },
  {
   "cell_type": "code",
   "execution_count": null,
   "metadata": {
    "id": "74EwVHhRy9co"
   },
   "outputs": [],
   "source": [
    "#adding polarity scores as features\n",
    "preprocessed_data_train['neg']=p_neg\n",
    "preprocessed_data_train['neu']=p_neu\n",
    "preprocessed_data_train['pos']=p_pos\n",
    "preprocessed_data_train['compound']=p_compound"
   ]
  },
  {
   "cell_type": "code",
   "execution_count": null,
   "metadata": {
    "id": "ZIM90muQMHbu"
   },
   "outputs": [],
   "source": [
    "p_neg1,p_neu1,p_pos1,p_compound1=sentiment_score(preprocessed_data_test,'cleaned_text')"
   ]
  },
  {
   "cell_type": "code",
   "execution_count": null,
   "metadata": {
    "id": "e-WJPBZxMHgd"
   },
   "outputs": [],
   "source": [
    "#adding polarity scores as features\n",
    "preprocessed_data_test['neg']=p_neg1\n",
    "preprocessed_data_test['neu']=p_neu1\n",
    "preprocessed_data_test['pos']=p_pos1\n",
    "preprocessed_data_test['compound']=p_compound1"
   ]
  },
  {
   "cell_type": "code",
   "execution_count": null,
   "metadata": {
    "colab": {
     "base_uri": "https://localhost:8080/",
     "height": 438
    },
    "id": "KidY_v1nzqB8",
    "outputId": "3f4739c0-bc07-45bb-c603-7c6403cb0c31"
   },
   "outputs": [
    {
     "data": {
      "text/html": [
       "<div>\n",
       "<style scoped>\n",
       "    .dataframe tbody tr th:only-of-type {\n",
       "        vertical-align: middle;\n",
       "    }\n",
       "\n",
       "    .dataframe tbody tr th {\n",
       "        vertical-align: top;\n",
       "    }\n",
       "\n",
       "    .dataframe thead th {\n",
       "        text-align: right;\n",
       "    }\n",
       "</style>\n",
       "<table border=\"1\" class=\"dataframe\">\n",
       "  <thead>\n",
       "    <tr style=\"text-align: right;\">\n",
       "      <th></th>\n",
       "      <th>Unnamed: 0</th>\n",
       "      <th>Description</th>\n",
       "      <th>commenting</th>\n",
       "      <th>ogling</th>\n",
       "      <th>groping</th>\n",
       "      <th>cleaned_text</th>\n",
       "      <th>char_count</th>\n",
       "      <th>word_count</th>\n",
       "      <th>stopwords_count</th>\n",
       "      <th>unique_words</th>\n",
       "      <th>word_density</th>\n",
       "      <th>subjectivity</th>\n",
       "      <th>neg</th>\n",
       "      <th>neu</th>\n",
       "      <th>pos</th>\n",
       "      <th>compound</th>\n",
       "    </tr>\n",
       "  </thead>\n",
       "  <tbody>\n",
       "    <tr>\n",
       "      <th>0</th>\n",
       "      <td>0</td>\n",
       "      <td>Was walking along crowded street, holding mums...</td>\n",
       "      <td>0</td>\n",
       "      <td>0</td>\n",
       "      <td>1</td>\n",
       "      <td>walking along crowded street holding mum hand ...</td>\n",
       "      <td>183</td>\n",
       "      <td>36</td>\n",
       "      <td>15</td>\n",
       "      <td>35</td>\n",
       "      <td>4.945946</td>\n",
       "      <td>0.0</td>\n",
       "      <td>0.0</td>\n",
       "      <td>0.849</td>\n",
       "      <td>0.151</td>\n",
       "      <td>0.4939</td>\n",
       "    </tr>\n",
       "    <tr>\n",
       "      <th>1</th>\n",
       "      <td>1</td>\n",
       "      <td>This incident took place in the evening.I was ...</td>\n",
       "      <td>0</td>\n",
       "      <td>1</td>\n",
       "      <td>0</td>\n",
       "      <td>incident took place evening metro two guy star...</td>\n",
       "      <td>89</td>\n",
       "      <td>16</td>\n",
       "      <td>7</td>\n",
       "      <td>14</td>\n",
       "      <td>5.235294</td>\n",
       "      <td>0.0</td>\n",
       "      <td>0.0</td>\n",
       "      <td>1.000</td>\n",
       "      <td>0.000</td>\n",
       "      <td>0.0000</td>\n",
       "    </tr>\n",
       "    <tr>\n",
       "      <th>2</th>\n",
       "      <td>2</td>\n",
       "      <td>I WAS WAITING FOR THE BUS. A MAN CAME ON A BIK...</td>\n",
       "      <td>1</td>\n",
       "      <td>0</td>\n",
       "      <td>0</td>\n",
       "      <td>waiting bus man came bike offering liftvto you...</td>\n",
       "      <td>85</td>\n",
       "      <td>18</td>\n",
       "      <td>9</td>\n",
       "      <td>16</td>\n",
       "      <td>4.473684</td>\n",
       "      <td>0.0</td>\n",
       "      <td>0.0</td>\n",
       "      <td>1.000</td>\n",
       "      <td>0.000</td>\n",
       "      <td>0.0000</td>\n",
       "    </tr>\n",
       "    <tr>\n",
       "      <th>3</th>\n",
       "      <td>3</td>\n",
       "      <td>Incident happened inside the train</td>\n",
       "      <td>0</td>\n",
       "      <td>0</td>\n",
       "      <td>0</td>\n",
       "      <td>incident happened inside train</td>\n",
       "      <td>34</td>\n",
       "      <td>5</td>\n",
       "      <td>1</td>\n",
       "      <td>5</td>\n",
       "      <td>5.666667</td>\n",
       "      <td>0.0</td>\n",
       "      <td>0.0</td>\n",
       "      <td>1.000</td>\n",
       "      <td>0.000</td>\n",
       "      <td>0.0000</td>\n",
       "    </tr>\n",
       "  </tbody>\n",
       "</table>\n",
       "</div>"
      ],
      "text/plain": [
       "   Unnamed: 0  ... compound\n",
       "0           0  ...   0.4939\n",
       "1           1  ...   0.0000\n",
       "2           2  ...   0.0000\n",
       "3           3  ...   0.0000\n",
       "\n",
       "[4 rows x 16 columns]"
      ]
     },
     "execution_count": 31,
     "metadata": {
      "tags": []
     },
     "output_type": "execute_result"
    }
   ],
   "source": [
    "preprocessed_data_train.head(4)"
   ]
  },
  {
   "cell_type": "code",
   "execution_count": null,
   "metadata": {
    "colab": {
     "base_uri": "https://localhost:8080/"
    },
    "id": "O0kj1LW-MaOI",
    "outputId": "e2580771-0477-40ff-8917-9d7b5a4d171a"
   },
   "outputs": [
    {
     "data": {
      "text/plain": [
       "(7200, 16)"
      ]
     },
     "execution_count": 32,
     "metadata": {
      "tags": []
     },
     "output_type": "execute_result"
    }
   ],
   "source": [
    "preprocessed_data_train.shape"
   ]
  },
  {
   "cell_type": "markdown",
   "metadata": {
    "id": "xoMTADduPpem"
   },
   "source": [
    "Standardizing Numerical Features"
   ]
  },
  {
   "cell_type": "code",
   "execution_count": null,
   "metadata": {
    "colab": {
     "base_uri": "https://localhost:8080/"
    },
    "id": "_uToO6xTzttm",
    "outputId": "11cb7f8e-7ec3-492b-8b23-934c121a8f94"
   },
   "outputs": [
    {
     "name": "stdout",
     "output_type": "stream",
     "text": [
      "(7200, 1)\n",
      "(1701, 1)\n"
     ]
    }
   ],
   "source": [
    "#Standardizing the char_count feature\n",
    "from sklearn.preprocessing import StandardScaler\n",
    "scaler=StandardScaler()#intializing StandardScaler\n",
    "scaler.fit(preprocessed_data_train['char_count'].values.reshape(-1,1))\n",
    "char_count_train=scaler.transform(preprocessed_data_train['char_count'].values.reshape(-1,1))\n",
    "char_count_test=scaler.transform(preprocessed_data_test['char_count'].values.reshape(-1,1))\n",
    "char_count_train=char_count_train.reshape(-1,1)\n",
    "char_count_test=char_count_test.reshape(-1,1)\n",
    "print(char_count_train.shape)\n",
    "print(char_count_test.shape)"
   ]
  },
  {
   "cell_type": "code",
   "execution_count": null,
   "metadata": {
    "colab": {
     "base_uri": "https://localhost:8080/"
    },
    "id": "ZcWZU3CfMmt3",
    "outputId": "0b5a91b0-166c-484b-9c23-d472aa637e1f"
   },
   "outputs": [
    {
     "name": "stdout",
     "output_type": "stream",
     "text": [
      "(7200, 1)\n",
      "(1701, 1)\n"
     ]
    }
   ],
   "source": [
    "#Standardizing the word_count feature\n",
    "from sklearn.preprocessing import StandardScaler\n",
    "scaler=StandardScaler()#intializing StandardScaler\n",
    "scaler.fit(preprocessed_data_train['word_count'].values.reshape(-1,1))\n",
    "word_count_train=scaler.transform(preprocessed_data_train['word_count'].values.reshape(-1,1))\n",
    "word_count_test=scaler.transform(preprocessed_data_test['word_count'].values.reshape(-1,1))\n",
    "word_count_train=word_count_train.reshape(-1,1)\n",
    "word_count_test=word_count_test.reshape(-1,1)\n",
    "print(word_count_train.shape)\n",
    "print(word_count_test.shape)"
   ]
  },
  {
   "cell_type": "code",
   "execution_count": null,
   "metadata": {
    "colab": {
     "base_uri": "https://localhost:8080/"
    },
    "id": "rbc5u1JkNFz9",
    "outputId": "38b56b8a-952d-479a-cf3d-63df4dc8ec36"
   },
   "outputs": [
    {
     "name": "stdout",
     "output_type": "stream",
     "text": [
      "(7200, 1)\n",
      "(1701, 1)\n"
     ]
    }
   ],
   "source": [
    "#Standardizing the stopwords_count feature\n",
    "from sklearn.preprocessing import StandardScaler\n",
    "scaler=StandardScaler()#intializing StandardScaler\n",
    "scaler.fit(preprocessed_data_train['stopwords_count'].values.reshape(-1,1))\n",
    "stopwords_count_train=scaler.transform(preprocessed_data_train['stopwords_count'].values.reshape(-1,1))\n",
    "stopwords_count_test=scaler.transform(preprocessed_data_test['stopwords_count'].values.reshape(-1,1))\n",
    "stopwords_count_train=stopwords_count_train.reshape(-1,1)\n",
    "stopwords_count_test=stopwords_count_test.reshape(-1,1)\n",
    "print(stopwords_count_train.shape)\n",
    "print(stopwords_count_test.shape)"
   ]
  },
  {
   "cell_type": "code",
   "execution_count": null,
   "metadata": {
    "colab": {
     "base_uri": "https://localhost:8080/"
    },
    "id": "xZciCjhzNO6O",
    "outputId": "b961193e-6318-4d7c-e99b-73bfa3d31218"
   },
   "outputs": [
    {
     "name": "stdout",
     "output_type": "stream",
     "text": [
      "(7200, 1)\n",
      "(1701, 1)\n"
     ]
    }
   ],
   "source": [
    "#Standardizing the unique_words feature\n",
    "from sklearn.preprocessing import StandardScaler\n",
    "scaler=StandardScaler()#intializing StandardScaler\n",
    "scaler.fit(preprocessed_data_train['unique_words'].values.reshape(-1,1))\n",
    "unique_words_train=scaler.transform(preprocessed_data_train['unique_words'].values.reshape(-1,1))\n",
    "unique_words_test=scaler.transform(preprocessed_data_test['unique_words'].values.reshape(-1,1))\n",
    "unique_words_train=unique_words_train.reshape(-1,1)\n",
    "unique_words_test=unique_words_test.reshape(-1,1)\n",
    "print(unique_words_train.shape)\n",
    "print(unique_words_test.shape)"
   ]
  },
  {
   "cell_type": "code",
   "execution_count": null,
   "metadata": {
    "colab": {
     "base_uri": "https://localhost:8080/"
    },
    "id": "2OzxHTxqNakF",
    "outputId": "44a8603c-947c-47db-884c-44c33a65f297"
   },
   "outputs": [
    {
     "name": "stdout",
     "output_type": "stream",
     "text": [
      "(7200, 1)\n",
      "(1701, 1)\n"
     ]
    }
   ],
   "source": [
    "#Standardizing the word_density feature\n",
    "from sklearn.preprocessing import StandardScaler\n",
    "scaler=StandardScaler()#intializing StandardScaler\n",
    "scaler.fit(preprocessed_data_train['word_density'].values.reshape(-1,1))\n",
    "word_density_train=scaler.transform(preprocessed_data_train['word_density'].values.reshape(-1,1))\n",
    "word_density_test=scaler.transform(preprocessed_data_test['word_density'].values.reshape(-1,1))\n",
    "word_density_train=word_density_train.reshape(-1,1)\n",
    "word_density_test=word_density_test.reshape(-1,1)\n",
    "print(word_density_train.shape)\n",
    "print(word_density_test.shape)"
   ]
  },
  {
   "cell_type": "code",
   "execution_count": null,
   "metadata": {
    "colab": {
     "base_uri": "https://localhost:8080/"
    },
    "id": "M7doGMqvNjV3",
    "outputId": "8b56e252-c94b-4cf6-a808-529b295ad091"
   },
   "outputs": [
    {
     "name": "stdout",
     "output_type": "stream",
     "text": [
      "(7200, 1)\n",
      "(1701, 1)\n"
     ]
    }
   ],
   "source": [
    "#Standardizing the subjectivity feature\n",
    "from sklearn.preprocessing import StandardScaler\n",
    "scaler=StandardScaler()#intializing StandardScaler\n",
    "scaler.fit(preprocessed_data_train['subjectivity'].values.reshape(-1,1))\n",
    "subjectivity_train=scaler.transform(preprocessed_data_train['subjectivity'].values.reshape(-1,1))\n",
    "subjectivity_test=scaler.transform(preprocessed_data_test['subjectivity'].values.reshape(-1,1))\n",
    "subjectivity_train=subjectivity_train.reshape(-1,1)\n",
    "subjectivity_test=subjectivity_test.reshape(-1,1)\n",
    "print(subjectivity_train.shape)\n",
    "print(subjectivity_test.shape)"
   ]
  },
  {
   "cell_type": "code",
   "execution_count": null,
   "metadata": {
    "colab": {
     "base_uri": "https://localhost:8080/"
    },
    "id": "D6iEad3vN-qJ",
    "outputId": "53ed3042-2d93-4c5b-a10d-2df41dd305de"
   },
   "outputs": [
    {
     "name": "stdout",
     "output_type": "stream",
     "text": [
      "(7200, 1)\n",
      "(1701, 1)\n"
     ]
    }
   ],
   "source": [
    "#Standardizing the neg feature\n",
    "from sklearn.preprocessing import StandardScaler\n",
    "scaler=StandardScaler()#intializing StandardScaler\n",
    "scaler.fit(preprocessed_data_train['neg'].values.reshape(-1,1))\n",
    "neg_train=scaler.transform(preprocessed_data_train['neg'].values.reshape(-1,1))\n",
    "neg_test=scaler.transform(preprocessed_data_test['neg'].values.reshape(-1,1))\n",
    "neg_train=neg_train.reshape(-1,1)\n",
    "neg_test=neg_test.reshape(-1,1)\n",
    "print(neg_train.shape)\n",
    "print(neg_test.shape)"
   ]
  },
  {
   "cell_type": "code",
   "execution_count": null,
   "metadata": {
    "colab": {
     "base_uri": "https://localhost:8080/"
    },
    "id": "JIgKtR-4OxmP",
    "outputId": "a4453e30-eec3-4f32-900f-51c32f70518c"
   },
   "outputs": [
    {
     "name": "stdout",
     "output_type": "stream",
     "text": [
      "(7200, 1)\n",
      "(1701, 1)\n"
     ]
    }
   ],
   "source": [
    "#Standardizing the neu feature\n",
    "from sklearn.preprocessing import StandardScaler\n",
    "scaler=StandardScaler()#intializing StandardScaler\n",
    "scaler.fit(preprocessed_data_train['neu'].values.reshape(-1,1))\n",
    "neu_train=scaler.transform(preprocessed_data_train['neu'].values.reshape(-1,1))\n",
    "neu_test=scaler.transform(preprocessed_data_test['neu'].values.reshape(-1,1))\n",
    "neu_train=neu_train.reshape(-1,1)\n",
    "neu_test=neu_test.reshape(-1,1)\n",
    "print(neu_train.shape)\n",
    "print(neu_test.shape)"
   ]
  },
  {
   "cell_type": "code",
   "execution_count": null,
   "metadata": {
    "colab": {
     "base_uri": "https://localhost:8080/"
    },
    "id": "ljT0V8XGO0fq",
    "outputId": "ee385a03-b5a5-4d28-df71-ac9faa30a6e8"
   },
   "outputs": [
    {
     "name": "stdout",
     "output_type": "stream",
     "text": [
      "(7200, 1)\n",
      "(1701, 1)\n"
     ]
    }
   ],
   "source": [
    "#Standardizing the pos feature\n",
    "from sklearn.preprocessing import StandardScaler\n",
    "scaler=StandardScaler()#intializing StandardScaler\n",
    "scaler.fit(preprocessed_data_train['pos'].values.reshape(-1,1))\n",
    "pos_train=scaler.transform(preprocessed_data_train['pos'].values.reshape(-1,1))\n",
    "pos_test=scaler.transform(preprocessed_data_test['pos'].values.reshape(-1,1))\n",
    "pos_train=pos_train.reshape(-1,1)\n",
    "pos_test=pos_test.reshape(-1,1)\n",
    "print(pos_train.shape)\n",
    "print(pos_test.shape)"
   ]
  },
  {
   "cell_type": "code",
   "execution_count": null,
   "metadata": {
    "colab": {
     "base_uri": "https://localhost:8080/"
    },
    "id": "V3r4LY8rO_PQ",
    "outputId": "7f9d1662-40da-44be-d27c-59d55b4fb2be"
   },
   "outputs": [
    {
     "name": "stdout",
     "output_type": "stream",
     "text": [
      "(7200, 1)\n",
      "(1701, 1)\n"
     ]
    }
   ],
   "source": [
    "#Standardizing the compound feature\n",
    "from sklearn.preprocessing import StandardScaler\n",
    "scaler=StandardScaler()#intializing StandardScaler\n",
    "scaler.fit(preprocessed_data_train['compound'].values.reshape(-1,1))\n",
    "compound_train=scaler.transform(preprocessed_data_train['compound'].values.reshape(-1,1))\n",
    "compound_test=scaler.transform(preprocessed_data_test['compound'].values.reshape(-1,1))\n",
    "compound_train=compound_train.reshape(-1,1)\n",
    "compound_test=compound_test.reshape(-1,1)\n",
    "print(compound_train.shape)\n",
    "print(compound_test.shape)"
   ]
  },
  {
   "cell_type": "code",
   "execution_count": null,
   "metadata": {
    "id": "mGGzFEDfy2N0"
   },
   "outputs": [],
   "source": [
    "y_train=preprocessed_data_train[['commenting','ogling','groping']]#y_train\n",
    "y_test=preprocessed_data_test[['commenting','ogling','groping']]#y_test"
   ]
  },
  {
   "cell_type": "markdown",
   "metadata": {
    "id": "_09St7QgdIrF"
   },
   "source": [
    "Concating fasttext embeddings and numerical features:"
   ]
  },
  {
   "cell_type": "code",
   "execution_count": null,
   "metadata": {
    "colab": {
     "base_uri": "https://localhost:8080/"
    },
    "id": "WyiutSQmxqyy",
    "outputId": "41dad5a8-0c33-4442-8571-700226016a99"
   },
   "outputs": [
    {
     "name": "stdout",
     "output_type": "stream",
     "text": [
      "(7200, 310) (7200, 3)\n",
      "(1701, 310) (7200, 3)\n"
     ]
    }
   ],
   "source": [
    "#concating features\n",
    "from scipy.sparse import hstack\n",
    "X_train=hstack((fasttext_train,char_count_train,word_count_train,stopwords_count_train,unique_words_train,word_density_train,subjectivity_train,neg_train,neu_train,pos_train,compound_train)).tocsr()\n",
    "X_test=hstack((fasttext_test,char_count_test,word_count_test,stopwords_count_test,unique_words_test,word_density_test,subjectivity_test,neg_test,neu_test,pos_test,compound_test)).tocsr()\n",
    "print(X_train.shape,y_train.shape)\n",
    "print(X_test.shape,y_train.shape)"
   ]
  },
  {
   "cell_type": "markdown",
   "metadata": {
    "id": "9XUmQY7xdIrF"
   },
   "source": [
    "BOW features:"
   ]
  },
  {
   "cell_type": "code",
   "execution_count": null,
   "metadata": {
    "id": "oY7Dat6aG5bn"
   },
   "outputs": [],
   "source": [
    "from sklearn.feature_extraction.text import CountVectorizer\n",
    "vectorizer=CountVectorizer(ngram_range=(1,4),max_features=5000)\n",
    "vectorizer.fit(preprocessed_data_train['cleaned_text'].values)#fitting training points\n",
    "bow_train=vectorizer.transform(preprocessed_data_train['cleaned_text'].values)#transforming training points\n",
    "bow_test=vectorizer.transform(preprocessed_data_test['cleaned_text'].values)#transforming test points"
   ]
  },
  {
   "cell_type": "markdown",
   "metadata": {
    "id": "97FPwkJkdIrG"
   },
   "source": [
    "Concating BOW features and numerical features:"
   ]
  },
  {
   "cell_type": "code",
   "execution_count": null,
   "metadata": {
    "colab": {
     "base_uri": "https://localhost:8080/"
    },
    "id": "WJN4y-7tHOlh",
    "outputId": "8dbda14a-e924-49fc-fd05-ad3f0402a1d2"
   },
   "outputs": [
    {
     "name": "stdout",
     "output_type": "stream",
     "text": [
      "(7200, 5010) (7200, 3)\n",
      "(1701, 5010) (7200, 3)\n"
     ]
    }
   ],
   "source": [
    "#concating features\n",
    "from scipy.sparse import hstack\n",
    "X_train1=hstack((bow_train,char_count_train,word_count_train,stopwords_count_train,unique_words_train,word_density_train,subjectivity_train,neg_train,neu_train,pos_train,compound_train)).tocsr()\n",
    "X_test1=hstack((bow_test,char_count_test,word_count_test,stopwords_count_test,unique_words_test,word_density_test,subjectivity_test,neg_test,neu_test,pos_test,compound_test)).tocsr()\n",
    "print(X_train1.shape,y_train.shape)\n",
    "print(X_test1.shape,y_train.shape)"
   ]
  },
  {
   "cell_type": "markdown",
   "metadata": {
    "id": "sH-MR14GdIrH"
   },
   "source": [
    "Tfidf Features:"
   ]
  },
  {
   "cell_type": "code",
   "execution_count": null,
   "metadata": {
    "id": "EM1nwN9cHCRR"
   },
   "outputs": [],
   "source": [
    "from sklearn.feature_extraction.text import TfidfVectorizer\n",
    "vectorizer=TfidfVectorizer(ngram_range=(1,4),max_features=5000)\n",
    "vectorizer.fit(preprocessed_data_train['cleaned_text'].values)#fitting training points\n",
    "tfidf_train=vectorizer.transform(preprocessed_data_train['cleaned_text'].values)#transforming training points\n",
    "tfidf_test=vectorizer.transform(preprocessed_data_test['cleaned_text'].values)#transforming test points"
   ]
  },
  {
   "cell_type": "markdown",
   "metadata": {
    "id": "_hO3Q0OmdIrH"
   },
   "source": [
    "Concating Tfidf features and numerical features:"
   ]
  },
  {
   "cell_type": "code",
   "execution_count": null,
   "metadata": {
    "colab": {
     "base_uri": "https://localhost:8080/"
    },
    "id": "pIQFyb1fHcF2",
    "outputId": "d0916be1-0cbb-4c93-93f9-f267794efa6d"
   },
   "outputs": [
    {
     "name": "stdout",
     "output_type": "stream",
     "text": [
      "(7200, 5010) (7200, 3)\n",
      "(1701, 5010) (7200, 3)\n"
     ]
    }
   ],
   "source": [
    "#concating features\n",
    "from scipy.sparse import hstack\n",
    "X_train2=hstack((tfidf_train,char_count_train,word_count_train,stopwords_count_train,unique_words_train,word_density_train,subjectivity_train,neg_train,neu_train,pos_train,compound_train)).tocsr()\n",
    "X_test2=hstack((tfidf_test,char_count_test,word_count_test,stopwords_count_test,unique_words_test,word_density_test,subjectivity_test,neg_test,neu_test,pos_test,compound_test)).tocsr()\n",
    "print(X_train2.shape,y_train.shape)\n",
    "print(X_test2.shape,y_train.shape)"
   ]
  },
  {
   "cell_type": "markdown",
   "metadata": {
    "id": "Xqd5Gc_adIrI"
   },
   "source": [
    "# Modelling:"
   ]
  },
  {
   "cell_type": "markdown",
   "metadata": {
    "id": "CZ30RpIQjkz2"
   },
   "source": [
    "###Label Powerset:"
   ]
  },
  {
   "cell_type": "markdown",
   "metadata": {
    "id": "vdDvCyfFgZTB"
   },
   "source": [
    "GBDT:"
   ]
  },
  {
   "cell_type": "code",
   "execution_count": null,
   "metadata": {
    "colab": {
     "base_uri": "https://localhost:8080/"
    },
    "id": "lbupocEwjr_W",
    "outputId": "8c59e82a-dcae-4cee-b37c-29f93b0eeaed"
   },
   "outputs": [
    {
     "name": "stdout",
     "output_type": "stream",
     "text": [
      "accuracy : 0.5755437977660199\n",
      "micro f1 score : 0.6126760563380282\n",
      "hamming loss : 0.19400352733686066\n"
     ]
    }
   ],
   "source": [
    "import xgboost as xgb\n",
    "from sklearn.linear_model import LogisticRegression\n",
    "from sklearn import metrics\n",
    "from sklearn.linear_model import SGDClassifier\n",
    "classifier = LabelPowerset(xgb.XGBClassifier())\n",
    "classifier.fit(X_train, y_train)\n",
    "predictions = classifier.predict(X_test)\n",
    "accuracyscore_Xtraingbdt=metrics.accuracy_score(y_test,predictions)\n",
    "f1score_Xtraingbdt=metrics.f1_score(y_test, predictions, average = 'micro')\n",
    "hammingloss_Xtraingbdt=metrics.hamming_loss(y_test,predictions)\n",
    "print(\"accuracy :\",metrics.accuracy_score(y_test,predictions))\n",
    "print(\"micro f1 score :\",metrics.f1_score(y_test, predictions, average = 'micro'))\n",
    "print(\"hamming loss :\",metrics.hamming_loss(y_test,predictions))"
   ]
  },
  {
   "cell_type": "code",
   "execution_count": null,
   "metadata": {
    "colab": {
     "base_uri": "https://localhost:8080/"
    },
    "id": "DXbUxeojgclD",
    "outputId": "df529a32-a853-411c-8ccb-5c095c0cd471"
   },
   "outputs": [
    {
     "name": "stdout",
     "output_type": "stream",
     "text": [
      "accuracy : 0.6019988242210464\n",
      "micro f1 score : 0.6230191826522102\n",
      "hamming loss : 0.17715069566921418\n"
     ]
    }
   ],
   "source": [
    "classifier = LabelPowerset(xgb.XGBClassifier())\n",
    "classifier.fit(X_train1, y_train)\n",
    "predictions = classifier.predict(X_test1)\n",
    "accuracyscore_Xtrain1gbdt=metrics.accuracy_score(y_test,predictions)\n",
    "f1score_Xtrain1gbdt=metrics.f1_score(y_test, predictions, average = 'micro')\n",
    "hammingloss_Xtrain1gbdt=metrics.hamming_loss(y_test,predictions)\n",
    "print(\"accuracy :\",metrics.accuracy_score(y_test,predictions))\n",
    "print(\"micro f1 score :\",metrics.f1_score(y_test, predictions, average = 'micro'))\n",
    "print(\"hamming loss :\",metrics.hamming_loss(y_test,predictions))"
   ]
  },
  {
   "cell_type": "code",
   "execution_count": null,
   "metadata": {
    "colab": {
     "base_uri": "https://localhost:8080/"
    },
    "id": "sup89WUighOd",
    "outputId": "92193028-2f35-4e76-fe71-2e463cda6d37"
   },
   "outputs": [
    {
     "name": "stdout",
     "output_type": "stream",
     "text": [
      "accuracy : 0.5984714873603763\n",
      "micro f1 score : 0.6166174609869253\n",
      "hamming loss : 0.1781305114638448\n"
     ]
    }
   ],
   "source": [
    "classifier = LabelPowerset(xgb.XGBClassifier())\n",
    "classifier.fit(X_train2, y_train)\n",
    "predictions = classifier.predict(X_test2)\n",
    "accuracyscore_Xtrain2gbdt=metrics.accuracy_score(y_test,predictions)\n",
    "f1score_Xtrain2gbdt=metrics.f1_score(y_test, predictions, average = 'micro')\n",
    "hammingloss_Xtrain2gbdt=metrics.hamming_loss(y_test,predictions)\n",
    "print(\"accuracy :\",metrics.accuracy_score(y_test,predictions))\n",
    "print(\"micro f1 score :\",metrics.f1_score(y_test, predictions, average = 'micro'))\n",
    "print(\"hamming loss :\",metrics.hamming_loss(y_test,predictions))"
   ]
  },
  {
   "cell_type": "code",
   "execution_count": null,
   "metadata": {
    "colab": {
     "base_uri": "https://localhost:8080/"
    },
    "id": "e3ORnsuAgcnZ",
    "outputId": "6123e003-2d69-4258-cfb6-278deaf6a573"
   },
   "outputs": [
    {
     "name": "stdout",
     "output_type": "stream",
     "text": [
      "accuracy : 0.5743680188124632\n",
      "micro f1 score : 0.6125490196078431\n",
      "hamming loss : 0.19361160101900843\n"
     ]
    }
   ],
   "source": [
    "classifier = LabelPowerset(xgb.XGBClassifier())\n",
    "classifier.fit(fasttext_train, y_train)\n",
    "predictions = classifier.predict(fasttext_test)\n",
    "accuracyscore_fasttexttraingbdt=metrics.accuracy_score(y_test,predictions)\n",
    "f1score_fasttexttraingbdt=metrics.f1_score(y_test, predictions, average = 'micro')\n",
    "hammingloss_fasttexttraingbdt=metrics.hamming_loss(y_test,predictions)\n",
    "print(\"accuracy :\",metrics.accuracy_score(y_test,predictions))\n",
    "print(\"micro f1 score :\",metrics.f1_score(y_test, predictions, average = 'micro'))\n",
    "print(\"hamming loss :\",metrics.hamming_loss(y_test,predictions))"
   ]
  },
  {
   "cell_type": "code",
   "execution_count": null,
   "metadata": {
    "colab": {
     "base_uri": "https://localhost:8080/"
    },
    "id": "9GiaJqoSgcpq",
    "outputId": "0443b832-1f27-45c9-e376-00767fc3ac7e"
   },
   "outputs": [
    {
     "name": "stdout",
     "output_type": "stream",
     "text": [
      "accuracy : 0.5943562610229277\n",
      "micro f1 score : 0.6142131979695431\n",
      "hamming loss : 0.17871840094062316\n"
     ]
    }
   ],
   "source": [
    "classifier = LabelPowerset(xgb.XGBClassifier())\n",
    "classifier.fit(bow_train, y_train)\n",
    "predictions = classifier.predict(bow_test)\n",
    "accuracyscore_bowtraingbdt=metrics.accuracy_score(y_test,predictions)\n",
    "f1score_bowtraingbdt=metrics.f1_score(y_test, predictions, average = 'micro')\n",
    "hammingloss_bowtraingbdt=metrics.hamming_loss(y_test,predictions)\n",
    "print(\"accuracy :\",metrics.accuracy_score(y_test,predictions))\n",
    "print(\"micro f1 score :\",metrics.f1_score(y_test, predictions, average = 'micro'))\n",
    "print(\"hamming loss :\",metrics.hamming_loss(y_test,predictions))"
   ]
  },
  {
   "cell_type": "code",
   "execution_count": null,
   "metadata": {
    "colab": {
     "base_uri": "https://localhost:8080/"
    },
    "id": "4OQOUEkqgctF",
    "outputId": "c43d85a5-4314-445b-93b3-55ae526534c6"
   },
   "outputs": [
    {
     "name": "stdout",
     "output_type": "stream",
     "text": [
      "accuracy : 0.5961199294532628\n",
      "micro f1 score : 0.6140868831716576\n",
      "hamming loss : 0.17930629041740154\n"
     ]
    }
   ],
   "source": [
    "classifier = LabelPowerset(xgb.XGBClassifier())\n",
    "classifier.fit(tfidf_train, y_train)\n",
    "predictions = classifier.predict(tfidf_test)\n",
    "accuracyscore_tfidftraingbdt=metrics.accuracy_score(y_test,predictions)\n",
    "f1score_tfidftraingbdt=metrics.f1_score(y_test, predictions, average = 'micro')\n",
    "hammingloss_tfidftraingbdt=metrics.hamming_loss(y_test,predictions)\n",
    "print(\"accuracy :\",metrics.accuracy_score(y_test,predictions))\n",
    "print(\"micro f1 score :\",metrics.f1_score(y_test, predictions, average = 'micro'))\n",
    "print(\"hamming loss :\",metrics.hamming_loss(y_test,predictions))"
   ]
  },
  {
   "cell_type": "markdown",
   "metadata": {
    "id": "caKehCeufmbc"
   },
   "source": [
    "Logistic Regression"
   ]
  },
  {
   "cell_type": "code",
   "execution_count": null,
   "metadata": {
    "id": "nzysk7ZUjjb0"
   },
   "outputs": [],
   "source": [
    "from skmultilearn.problem_transform import LabelPowerset\n",
    "from sklearn.linear_model import LogisticRegression"
   ]
  },
  {
   "cell_type": "code",
   "execution_count": null,
   "metadata": {
    "colab": {
     "base_uri": "https://localhost:8080/"
    },
    "id": "uO-5HFWWnUh-",
    "outputId": "2f63e4fa-f0bc-43b0-9e7c-68c8517526ef"
   },
   "outputs": [
    {
     "name": "stdout",
     "output_type": "stream",
     "text": [
      "accuracy : 0.5967078189300411\n",
      "micro f1 score : 0.6458492003046459\n",
      "hamming loss : 0.18224573780129336\n"
     ]
    }
   ],
   "source": [
    "classifier = LabelPowerset(LogisticRegression())\n",
    "classifier.fit(X_train, y_train)\n",
    "predictions = classifier.predict(X_test)\n",
    "accuracyscore_Xtrainlg=metrics.accuracy_score(y_test,predictions)\n",
    "f1score_Xtrainlg=metrics.f1_score(y_test, predictions, average = 'micro')\n",
    "hammingloss_Xtrainlg=metrics.hamming_loss(y_test,predictions)\n",
    "print(\"accuracy :\",metrics.accuracy_score(y_test,predictions))\n",
    "print(\"micro f1 score :\",metrics.f1_score(y_test, predictions, average = 'micro'))\n",
    "print(\"hamming loss :\",metrics.hamming_loss(y_test,predictions))"
   ]
  },
  {
   "cell_type": "code",
   "execution_count": null,
   "metadata": {
    "colab": {
     "base_uri": "https://localhost:8080/"
    },
    "id": "eGRUe71mm7X5",
    "outputId": "3fa44e1c-2945-455c-ee9d-ec323f4f4109"
   },
   "outputs": [
    {
     "name": "stdout",
     "output_type": "stream",
     "text": [
      "accuracy : 0.5990593768371546\n",
      "micro f1 score : 0.6592057761732851\n",
      "hamming loss : 0.18498922202625906\n"
     ]
    }
   ],
   "source": [
    "classifier = LabelPowerset(LogisticRegression())\n",
    "classifier.fit(X_train1, y_train)\n",
    "predictions = classifier.predict(X_test1)\n",
    "accuracyscore_Xtrain1lg=metrics.accuracy_score(y_test,predictions)\n",
    "f1score_Xtrain1lg=metrics.f1_score(y_test, predictions, average = 'micro')\n",
    "hammingloss_Xtrain1lg=metrics.hamming_loss(y_test,predictions)\n",
    "print(\"accuracy :\",metrics.accuracy_score(y_test,predictions))\n",
    "print(\"micro f1 score :\",metrics.f1_score(y_test, predictions, average = 'micro'))\n",
    "print(\"hamming loss :\",metrics.hamming_loss(y_test,predictions))"
   ]
  },
  {
   "cell_type": "code",
   "execution_count": null,
   "metadata": {
    "colab": {
     "base_uri": "https://localhost:8080/"
    },
    "id": "pAYYXKNrg3jd",
    "outputId": "24272138-686b-4e6c-8733-e5e1f26e6c02"
   },
   "outputs": [
    {
     "name": "stdout",
     "output_type": "stream",
     "text": [
      "accuracy : 0.6172839506172839\n",
      "micro f1 score : 0.6617986164488854\n",
      "hamming loss : 0.17244757985498727\n"
     ]
    }
   ],
   "source": [
    "classifier = LabelPowerset(LogisticRegression())\n",
    "classifier.fit(X_train2, y_train)\n",
    "predictions = classifier.predict(X_test2)\n",
    "accuracyscore_Xtrain2lg=metrics.accuracy_score(y_test,predictions)\n",
    "f1score_Xtrain2lg=metrics.f1_score(y_test, predictions, average = 'micro')\n",
    "hammingloss_Xtrain2lg=metrics.hamming_loss(y_test,predictions)\n",
    "print(\"accuracy :\",metrics.accuracy_score(y_test,predictions))\n",
    "print(\"micro f1 score :\",metrics.f1_score(y_test, predictions, average = 'micro'))\n",
    "print(\"hamming loss :\",metrics.hamming_loss(y_test,predictions))"
   ]
  },
  {
   "cell_type": "code",
   "execution_count": null,
   "metadata": {
    "colab": {
     "base_uri": "https://localhost:8080/"
    },
    "id": "6iZ8p6zHg3lq",
    "outputId": "ebb874d6-dfcd-4638-c026-8cd26ced2f60"
   },
   "outputs": [
    {
     "name": "stdout",
     "output_type": "stream",
     "text": [
      "accuracy : 0.588477366255144\n",
      "micro f1 score : 0.64097672644029\n",
      "hamming loss : 0.18440133254948068\n"
     ]
    }
   ],
   "source": [
    "classifier = LabelPowerset(LogisticRegression())\n",
    "classifier.fit(fasttext_train, y_train)\n",
    "predictions = classifier.predict(fasttext_test)\n",
    "accuracyscore_fasttexttrainlg=metrics.accuracy_score(y_test,predictions)\n",
    "f1score_fasttexttrainlg=metrics.f1_score(y_test, predictions, average = 'micro')\n",
    "hammingloss_fasttexttrainlg=metrics.hamming_loss(y_test,predictions)\n",
    "print(\"accuracy :\",metrics.accuracy_score(y_test,predictions))\n",
    "print(\"micro f1 score :\",metrics.f1_score(y_test, predictions, average = 'micro'))\n",
    "print(\"hamming loss :\",metrics.hamming_loss(y_test,predictions))"
   ]
  },
  {
   "cell_type": "code",
   "execution_count": null,
   "metadata": {
    "colab": {
     "base_uri": "https://localhost:8080/"
    },
    "id": "BJSLlKPIg3nu",
    "outputId": "5cb967ca-dae8-4694-cb99-2edea3fe3197"
   },
   "outputs": [
    {
     "name": "stdout",
     "output_type": "stream",
     "text": [
      "accuracy : 0.5943562610229277\n",
      "micro f1 score : 0.6553713049747658\n",
      "hamming loss : 0.18734077993337253\n"
     ]
    }
   ],
   "source": [
    "classifier = LabelPowerset(LogisticRegression())\n",
    "classifier.fit(bow_train, y_train)\n",
    "predictions = classifier.predict(bow_test)\n",
    "accuracyscore_bowtrainlg=metrics.accuracy_score(y_test,predictions)\n",
    "f1score_bowtrainlg=metrics.f1_score(y_test, predictions, average = 'micro')\n",
    "hammingloss_bowtrainlg=metrics.hamming_loss(y_test,predictions)\n",
    "print(\"accuracy :\",metrics.accuracy_score(y_test,predictions))\n",
    "print(\"micro f1 score :\",metrics.f1_score(y_test, predictions, average = 'micro'))\n",
    "print(\"hamming loss :\",metrics.hamming_loss(y_test,predictions))"
   ]
  },
  {
   "cell_type": "code",
   "execution_count": null,
   "metadata": {
    "colab": {
     "base_uri": "https://localhost:8080/"
    },
    "id": "5nKX3AuVg3qM",
    "outputId": "a4842b40-7fac-4980-8457-8d4f7dc2b6fd"
   },
   "outputs": [
    {
     "name": "stdout",
     "output_type": "stream",
     "text": [
      "accuracy : 0.6208112874779541\n",
      "micro f1 score : 0.6604578967792007\n",
      "hamming loss : 0.17146776406035666\n"
     ]
    }
   ],
   "source": [
    "classifier = LabelPowerset(LogisticRegression())\n",
    "classifier.fit(tfidf_train, y_train)\n",
    "predictions = classifier.predict(tfidf_test)\n",
    "accuracyscore_tfidftrainlg=metrics.accuracy_score(y_test,predictions)\n",
    "f1score_tfidftrainlg=metrics.f1_score(y_test, predictions, average = 'micro')\n",
    "hammingloss_tfidftrainlg=metrics.hamming_loss(y_test,predictions)\n",
    "print(\"accuracy :\",metrics.accuracy_score(y_test,predictions))\n",
    "print(\"micro f1 score :\",metrics.f1_score(y_test, predictions, average = 'micro'))\n",
    "print(\"hamming loss :\",metrics.hamming_loss(y_test,predictions))"
   ]
  },
  {
   "cell_type": "code",
   "execution_count": null,
   "metadata": {
    "id": "3It6QvIsVJ2Q"
   },
   "outputs": [],
   "source": [
    "from prettytable import PrettyTable\n",
    "table=PrettyTable()"
   ]
  },
  {
   "cell_type": "code",
   "execution_count": null,
   "metadata": {
    "id": "dGDqMJLNVOaq"
   },
   "outputs": [],
   "source": [
    "table.field_names=['S.NO','MODEL','ACCURACY_SCORE','F1_SCORE','HAMMING_LOSS']\n",
    "table.add_row([1,'LogisticRegression(numerical features and fasttext embeddings)',accuracyscore_Xtrainlg,f1score_Xtrainlg,hammingloss_Xtrainlg])\n",
    "table.add_row([2,'LogisticRegression(numerical features and BOW features)',accuracyscore_Xtrain1lg,f1score_Xtrain1lg,hammingloss_Xtrain1lg])\n",
    "table.add_row([3,'LogisticRegression(numerical features and Tfidf features)',accuracyscore_Xtrain2lg,f1score_Xtrain2lg,hammingloss_Xtrain2lg])\n",
    "table.add_row([4,'LogisticRegression(only fasttext embeddings)',accuracyscore_fasttexttrainlg,f1score_fasttexttrainlg,hammingloss_fasttexttrainlg])\n",
    "table.add_row([5,'LogisticRegression(only BOW featuers)',accuracyscore_bowtrainlg,f1score_bowtrainlg,hammingloss_bowtrainlg])\n",
    "table.add_row([6,'LogisticRegression(only Tfidf features)',accuracyscore_tfidftrainlg,f1score_tfidftrainlg,hammingloss_tfidftrainlg])\n",
    "table.add_row([7,'GBDT(numerical features and fasttext embeddings)',accuracyscore_Xtraingbdt,f1score_Xtraingbdt,hammingloss_Xtraingbdt])\n",
    "table.add_row([8,'GBDT(numerical features and BOW features)',accuracyscore_Xtrain1gbdt,f1score_Xtrain1gbdt,hammingloss_Xtrain1gbdt])\n",
    "table.add_row([9,'GBDT(numerical features and Tfidf features)',accuracyscore_Xtrain2gbdt,f1score_Xtrain2gbdt,hammingloss_Xtrain2gbdt])\n",
    "table.add_row([10,'GBDT(only fasttext embeddings)',accuracyscore_fasttexttraingbdt,f1score_fasttexttraingbdt,hammingloss_fasttexttraingbdt])\n",
    "table.add_row([11,'GBDT(only BOW featuers)',accuracyscore_bowtraingbdt,f1score_bowtraingbdt,hammingloss_bowtraingbdt])\n",
    "table.add_row([12,'GBDT(only Tfidf features)',accuracyscore_tfidftraingbdt,f1score_tfidftraingbdt,hammingloss_tfidftraingbdt])"
   ]
  },
  {
   "cell_type": "code",
   "execution_count": null,
   "metadata": {
    "colab": {
     "base_uri": "https://localhost:8080/"
    },
    "id": "ZrCOpg1-_un2",
    "outputId": "1f06c9c9-fb9e-43bc-df6d-3c03190b9aea"
   },
   "outputs": [
    {
     "name": "stdout",
     "output_type": "stream",
     "text": [
      "+------+----------------------------------------------------------------+--------------------+--------------------+---------------------+\n",
      "| S.NO |                             MODEL                              |   ACCURACY_SCORE   |      F1_SCORE      |     HAMMING_LOSS    |\n",
      "+------+----------------------------------------------------------------+--------------------+--------------------+---------------------+\n",
      "|  1   | LogisticRegression(numerical features and fasttext embeddings) | 0.5967078189300411 | 0.6458492003046459 | 0.18224573780129336 |\n",
      "|  2   |    LogisticRegression(numerical features and BOW features)     | 0.5990593768371546 | 0.6592057761732851 | 0.18498922202625906 |\n",
      "|  3   |   LogisticRegression(numerical features and Tfidf features)    | 0.6172839506172839 | 0.6617986164488854 | 0.17244757985498727 |\n",
      "|  4   |          LogisticRegression(only fasttext embeddings)          | 0.588477366255144  |  0.64097672644029  | 0.18440133254948068 |\n",
      "|  5   |             LogisticRegression(only BOW featuers)              | 0.5943562610229277 | 0.6553713049747658 | 0.18734077993337253 |\n",
      "|  6   |            LogisticRegression(only Tfidf features)             | 0.6208112874779541 | 0.6604578967792007 | 0.17146776406035666 |\n",
      "|  7   |        GBDT(numerical features and fasttext embeddings)        | 0.5755437977660199 | 0.6126760563380282 | 0.19400352733686066 |\n",
      "|  8   |           GBDT(numerical features and BOW features)            | 0.6019988242210464 | 0.6230191826522102 | 0.17715069566921418 |\n",
      "|  9   |          GBDT(numerical features and Tfidf features)           | 0.5984714873603763 | 0.6166174609869253 |  0.1781305114638448 |\n",
      "|  10  |                 GBDT(only fasttext embeddings)                 | 0.5743680188124632 | 0.6125490196078431 | 0.19361160101900843 |\n",
      "|  11  |                    GBDT(only BOW featuers)                     | 0.5943562610229277 | 0.6142131979695431 | 0.17871840094062316 |\n",
      "|  12  |                   GBDT(only Tfidf features)                    | 0.5961199294532628 | 0.6140868831716576 | 0.17930629041740154 |\n",
      "+------+----------------------------------------------------------------+--------------------+--------------------+---------------------+\n"
     ]
    }
   ],
   "source": [
    "print(table)"
   ]
  },
  {
   "cell_type": "markdown",
   "metadata": {
    "id": "YBaKDrKNG9Br"
   },
   "source": [
    "Linear SVC:"
   ]
  },
  {
   "cell_type": "code",
   "execution_count": null,
   "metadata": {
    "colab": {
     "base_uri": "https://localhost:8080/"
    },
    "id": "vb0wNwPYGVQp",
    "outputId": "f28d4d4a-f928-4be7-92fa-5c64b8cdc22d"
   },
   "outputs": [
    {
     "name": "stdout",
     "output_type": "stream",
     "text": [
      "accuracy : 0.586713697824809\n",
      "micro f1 score : 0.6313755795981453\n",
      "hamming loss : 0.18694885361552027\n"
     ]
    }
   ],
   "source": [
    "from sklearn.svm import LinearSVC\n",
    "classifier = LabelPowerset(LinearSVC())\n",
    "classifier.fit(X_train, y_train)\n",
    "predictions = classifier.predict(X_test)\n",
    "accuracyscore_Xtrainsvc=metrics.accuracy_score(y_test,predictions)\n",
    "f1score_Xtrainsvc=metrics.f1_score(y_test, predictions, average = 'micro')\n",
    "hammingloss_Xtrainsvc=metrics.hamming_loss(y_test,predictions)\n",
    "print(\"accuracy :\",metrics.accuracy_score(y_test,predictions))\n",
    "print(\"micro f1 score :\",metrics.f1_score(y_test, predictions, average = 'micro'))\n",
    "print(\"hamming loss :\",metrics.hamming_loss(y_test,predictions))"
   ]
  },
  {
   "cell_type": "code",
   "execution_count": null,
   "metadata": {
    "colab": {
     "base_uri": "https://localhost:8080/"
    },
    "id": "YkE_Z1WAGpqS",
    "outputId": "a931f1da-d180-4635-8001-b39753ccfdb1"
   },
   "outputs": [
    {
     "name": "stdout",
     "output_type": "stream",
     "text": [
      "accuracy : 0.5543797766019988\n",
      "micro f1 score : 0.6428811847862672\n",
      "hamming loss : 0.20791691162061532\n"
     ]
    }
   ],
   "source": [
    "from sklearn.svm import LinearSVC\n",
    "classifier = LabelPowerset(LinearSVC())\n",
    "classifier.fit(X_train1, y_train)\n",
    "predictions = classifier.predict(X_test1)\n",
    "accuracyscore_Xtrain1svc=metrics.accuracy_score(y_test,predictions)\n",
    "f1score_Xtrain1svc=metrics.f1_score(y_test, predictions, average = 'micro')\n",
    "hammingloss_Xtrain1svc=metrics.hamming_loss(y_test,predictions)\n",
    "print(\"accuracy :\",metrics.accuracy_score(y_test,predictions))\n",
    "print(\"micro f1 score :\",metrics.f1_score(y_test, predictions, average = 'micro'))\n",
    "print(\"hamming loss :\",metrics.hamming_loss(y_test,predictions))"
   ]
  },
  {
   "cell_type": "code",
   "execution_count": null,
   "metadata": {
    "colab": {
     "base_uri": "https://localhost:8080/"
    },
    "id": "-s6zN6k_Gqc1",
    "outputId": "31c14834-216d-4fa5-adcf-4890addc3282"
   },
   "outputs": [
    {
     "name": "stdout",
     "output_type": "stream",
     "text": [
      "accuracy : 0.5961199294532628\n",
      "micro f1 score : 0.6579898770788142\n",
      "hamming loss : 0.18538114834411132\n"
     ]
    }
   ],
   "source": [
    "from sklearn.svm import LinearSVC\n",
    "classifier = LabelPowerset(LinearSVC())\n",
    "classifier.fit(X_train2, y_train)\n",
    "predictions = classifier.predict(X_test2)\n",
    "accuracyscore_Xtrain2svc=metrics.accuracy_score(y_test,predictions)\n",
    "f1score_Xtrain2svc=metrics.f1_score(y_test, predictions, average = 'micro')\n",
    "hammingloss_Xtrain2svc=metrics.hamming_loss(y_test,predictions)\n",
    "print(\"accuracy :\",metrics.accuracy_score(y_test,predictions))\n",
    "print(\"micro f1 score :\",metrics.f1_score(y_test, predictions, average = 'micro'))\n",
    "print(\"hamming loss :\",metrics.hamming_loss(y_test,predictions))"
   ]
  },
  {
   "cell_type": "code",
   "execution_count": null,
   "metadata": {
    "colab": {
     "base_uri": "https://localhost:8080/"
    },
    "id": "meYbU1XIGqh-",
    "outputId": "e147c266-b16e-450d-e8b9-a8075e27c4dd"
   },
   "outputs": [
    {
     "name": "stdout",
     "output_type": "stream",
     "text": [
      "accuracy : 0.5831863609641388\n",
      "micro f1 score : 0.627906976744186\n",
      "hamming loss : 0.18812463256907702\n"
     ]
    }
   ],
   "source": [
    "from sklearn.svm import LinearSVC\n",
    "classifier = LabelPowerset(LinearSVC())\n",
    "classifier.fit(fasttext_train, y_train)\n",
    "predictions = classifier.predict(fasttext_test)\n",
    "accuracyscore_fasttexttrainsvc=metrics.accuracy_score(y_test,predictions)\n",
    "f1score_fasttexttrainsvc=metrics.f1_score(y_test, predictions, average = 'micro')\n",
    "hammingloss_fasttexttrainsvc=metrics.hamming_loss(y_test,predictions)\n",
    "print(\"accuracy :\",metrics.accuracy_score(y_test,predictions))\n",
    "print(\"micro f1 score :\",metrics.f1_score(y_test, predictions, average = 'micro'))\n",
    "print(\"hamming loss :\",metrics.hamming_loss(y_test,predictions))"
   ]
  },
  {
   "cell_type": "code",
   "execution_count": null,
   "metadata": {
    "colab": {
     "base_uri": "https://localhost:8080/"
    },
    "id": "_lG79daxGqnn",
    "outputId": "a1314fb8-586b-4311-9d2f-3571111f482d"
   },
   "outputs": [
    {
     "name": "stdout",
     "output_type": "stream",
     "text": [
      "accuracy : 0.5532039976484421\n",
      "micro f1 score : 0.6424974823766365\n",
      "hamming loss : 0.2087007642563198\n"
     ]
    }
   ],
   "source": [
    "from sklearn.svm import LinearSVC\n",
    "classifier = LabelPowerset(LinearSVC())\n",
    "classifier.fit(bow_train, y_train)\n",
    "predictions = classifier.predict(bow_test)\n",
    "accuracyscore_bowtrainsvc=metrics.accuracy_score(y_test,predictions)\n",
    "f1score_bowtrainsvc=metrics.f1_score(y_test, predictions, average = 'micro')\n",
    "hammingloss_bowtrainsvc=metrics.hamming_loss(y_test,predictions)\n",
    "print(\"accuracy :\",metrics.accuracy_score(y_test,predictions))\n",
    "print(\"micro f1 score :\",metrics.f1_score(y_test, predictions, average = 'micro'))\n",
    "print(\"hamming loss :\",metrics.hamming_loss(y_test,predictions))"
   ]
  },
  {
   "cell_type": "code",
   "execution_count": null,
   "metadata": {
    "colab": {
     "base_uri": "https://localhost:8080/"
    },
    "id": "ZJGL5VL5GqtU",
    "outputId": "6cf8f393-428a-43b0-c174-9911544dd3ab"
   },
   "outputs": [
    {
     "name": "stdout",
     "output_type": "stream",
     "text": [
      "accuracy : 0.6014109347442681\n",
      "micro f1 score : 0.6615831517792302\n",
      "hamming loss : 0.1826376641191456\n"
     ]
    }
   ],
   "source": [
    "from sklearn.svm import LinearSVC\n",
    "classifier = LabelPowerset(LinearSVC())\n",
    "classifier.fit(tfidf_train, y_train)\n",
    "predictions = classifier.predict(tfidf_test)\n",
    "accuracyscore_tfidftrainsvc=metrics.accuracy_score(y_test,predictions)\n",
    "f1score_tfidftrainsvc=metrics.f1_score(y_test, predictions, average = 'micro')\n",
    "hammingloss_tfidftrainsvc=metrics.hamming_loss(y_test,predictions)\n",
    "print(\"accuracy :\",metrics.accuracy_score(y_test,predictions))\n",
    "print(\"micro f1 score :\",metrics.f1_score(y_test, predictions, average = 'micro'))\n",
    "print(\"hamming loss :\",metrics.hamming_loss(y_test,predictions))"
   ]
  },
  {
   "cell_type": "markdown",
   "metadata": {
    "id": "dmTPfIScHBmC"
   },
   "source": [
    "NaiveBayes:"
   ]
  },
  {
   "cell_type": "code",
   "execution_count": null,
   "metadata": {
    "colab": {
     "base_uri": "https://localhost:8080/"
    },
    "id": "Pq4tUB9LGqy4",
    "outputId": "61743533-715d-4d74-9835-203ac9ac5bae"
   },
   "outputs": [
    {
     "name": "stdout",
     "output_type": "stream",
     "text": [
      "accuracy : 0.44562022339800117\n",
      "micro f1 score : 0.5350066050198151\n",
      "hamming loss : 0.27591612776797964\n"
     ]
    }
   ],
   "source": [
    "from sklearn.naive_bayes import GaussianNB\n",
    "classifier = LabelPowerset(GaussianNB())\n",
    "classifier.fit(X_train, y_train)\n",
    "predictions = classifier.predict(X_test)\n",
    "accuracyscore_Xtrainnb=metrics.accuracy_score(y_test,predictions)\n",
    "f1score_Xtrainnb=metrics.f1_score(y_test, predictions, average = 'micro')\n",
    "hammingloss_Xtrainnb=metrics.hamming_loss(y_test,predictions)\n",
    "print(\"accuracy :\",metrics.accuracy_score(y_test,predictions))\n",
    "print(\"micro f1 score :\",metrics.f1_score(y_test, predictions, average = 'micro'))\n",
    "print(\"hamming loss :\",metrics.hamming_loss(y_test,predictions))"
   ]
  },
  {
   "cell_type": "code",
   "execution_count": null,
   "metadata": {
    "colab": {
     "base_uri": "https://localhost:8080/"
    },
    "id": "1_9bEK3SZ3xu",
    "outputId": "03930534-3a82-4ea9-8a79-52c31d54fa95"
   },
   "outputs": [
    {
     "name": "stdout",
     "output_type": "stream",
     "text": [
      "accuracy : 0.3133450911228689\n",
      "micro f1 score : 0.5184008472332539\n",
      "hamming loss : 0.3564569860866157\n"
     ]
    }
   ],
   "source": [
    "from sklearn.naive_bayes import GaussianNB\n",
    "classifier = LabelPowerset(GaussianNB())\n",
    "classifier.fit(X_train1, y_train)\n",
    "predictions = classifier.predict(X_test1)\n",
    "accuracyscore_Xtrain1nb=metrics.accuracy_score(y_test,predictions)\n",
    "f1score_Xtrain1nb=metrics.f1_score(y_test, predictions, average = 'micro')\n",
    "hammingloss_Xtrain1nb=metrics.hamming_loss(y_test,predictions)\n",
    "print(\"accuracy :\",metrics.accuracy_score(y_test,predictions))\n",
    "print(\"micro f1 score :\",metrics.f1_score(y_test, predictions, average = 'micro'))\n",
    "print(\"hamming loss :\",metrics.hamming_loss(y_test,predictions))"
   ]
  },
  {
   "cell_type": "code",
   "execution_count": null,
   "metadata": {
    "colab": {
     "base_uri": "https://localhost:8080/"
    },
    "id": "NWlVZ35_Z306",
    "outputId": "c262702e-0afe-46af-957e-a780ff7f9942"
   },
   "outputs": [
    {
     "name": "stdout",
     "output_type": "stream",
     "text": [
      "accuracy : 0.3045267489711934\n",
      "micro f1 score : 0.5063427800269905\n",
      "hamming loss : 0.35841661767587696\n"
     ]
    }
   ],
   "source": [
    "from sklearn.naive_bayes import GaussianNB\n",
    "classifier = LabelPowerset(GaussianNB())\n",
    "classifier.fit(X_train2, y_train)\n",
    "predictions = classifier.predict(X_test2)\n",
    "accuracyscore_Xtrain2nb=metrics.accuracy_score(y_test,predictions)\n",
    "f1score_Xtrain2nb=metrics.f1_score(y_test, predictions, average = 'micro')\n",
    "hammingloss_Xtrain2nb=metrics.hamming_loss(y_test,predictions)\n",
    "print(\"accuracy :\",metrics.accuracy_score(y_test,predictions))\n",
    "print(\"micro f1 score :\",metrics.f1_score(y_test, predictions, average = 'micro'))\n",
    "print(\"hamming loss :\",metrics.hamming_loss(y_test,predictions))"
   ]
  },
  {
   "cell_type": "code",
   "execution_count": null,
   "metadata": {
    "colab": {
     "base_uri": "https://localhost:8080/"
    },
    "id": "Om43mECMZ32_",
    "outputId": "f0a3f2c7-c191-4876-cdd2-866b596019cb"
   },
   "outputs": [
    {
     "name": "stdout",
     "output_type": "stream",
     "text": [
      "accuracy : 0.43915343915343913\n",
      "micro f1 score : 0.5256537570340948\n",
      "hamming loss : 0.2808152067411327\n"
     ]
    }
   ],
   "source": [
    "from sklearn.naive_bayes import GaussianNB\n",
    "classifier = LabelPowerset(GaussianNB())\n",
    "classifier.fit(fasttext_train, y_train)\n",
    "predictions = classifier.predict(fasttext_test)\n",
    "accuracyscore_fasttexttrainnb=metrics.accuracy_score(y_test,predictions)\n",
    "f1score_fasttexttrainnb=metrics.f1_score(y_test, predictions, average = 'micro')\n",
    "hammingloss_fasttexttrainnb=metrics.hamming_loss(y_test,predictions)\n",
    "print(\"accuracy :\",metrics.accuracy_score(y_test,predictions))\n",
    "print(\"micro f1 score :\",metrics.f1_score(y_test, predictions, average = 'micro'))\n",
    "print(\"hamming loss :\",metrics.hamming_loss(y_test,predictions))"
   ]
  },
  {
   "cell_type": "code",
   "execution_count": null,
   "metadata": {
    "colab": {
     "base_uri": "https://localhost:8080/"
    },
    "id": "XEMaZ70WZ343",
    "outputId": "92930fd2-a9d9-46d8-a8f6-b9e8f967b411"
   },
   "outputs": [
    {
     "name": "stdout",
     "output_type": "stream",
     "text": [
      "accuracy : 0.3133450911228689\n",
      "micro f1 score : 0.5184008472332539\n",
      "hamming loss : 0.3564569860866157\n"
     ]
    }
   ],
   "source": [
    "from sklearn.naive_bayes import GaussianNB\n",
    "classifier = LabelPowerset(GaussianNB())\n",
    "classifier.fit(bow_train, y_train)\n",
    "predictions = classifier.predict(bow_test)\n",
    "accuracyscore_bowtrainnb=metrics.accuracy_score(y_test,predictions)\n",
    "f1score_bowtrainnb=metrics.f1_score(y_test, predictions, average = 'micro')\n",
    "hammingloss_bowtrainnb=metrics.hamming_loss(y_test,predictions)\n",
    "print(\"accuracy :\",metrics.accuracy_score(y_test,predictions))\n",
    "print(\"micro f1 score :\",metrics.f1_score(y_test, predictions, average = 'micro'))\n",
    "print(\"hamming loss :\",metrics.hamming_loss(y_test,predictions))"
   ]
  },
  {
   "cell_type": "code",
   "execution_count": null,
   "metadata": {
    "colab": {
     "base_uri": "https://localhost:8080/"
    },
    "id": "Pt0FowllZ37S",
    "outputId": "0748d4f2-98eb-4ad7-fb8d-fd2f7fe50a9c"
   },
   "outputs": [
    {
     "name": "stdout",
     "output_type": "stream",
     "text": [
      "accuracy : 0.3045267489711934\n",
      "micro f1 score : 0.5067240451855837\n",
      "hamming loss : 0.35939643347050754\n"
     ]
    }
   ],
   "source": [
    "from sklearn.naive_bayes import GaussianNB\n",
    "classifier = LabelPowerset(GaussianNB())\n",
    "classifier.fit(tfidf_train, y_train)\n",
    "predictions = classifier.predict(tfidf_test)\n",
    "accuracyscore_tfidftrainnb=metrics.accuracy_score(y_test,predictions)\n",
    "f1score_tfidftrainnb=metrics.f1_score(y_test, predictions, average = 'micro')\n",
    "hammingloss_tfidftrainnb=metrics.hamming_loss(y_test,predictions)\n",
    "print(\"accuracy :\",metrics.accuracy_score(y_test,predictions))\n",
    "print(\"micro f1 score :\",metrics.f1_score(y_test, predictions, average = 'micro'))\n",
    "print(\"hamming loss :\",metrics.hamming_loss(y_test,predictions))"
   ]
  },
  {
   "cell_type": "code",
   "execution_count": null,
   "metadata": {
    "id": "nJ2xlY85IAIg"
   },
   "outputs": [],
   "source": [
    "from prettytable import PrettyTable\n",
    "table2=PrettyTable()"
   ]
  },
  {
   "cell_type": "code",
   "execution_count": null,
   "metadata": {
    "id": "pU45Tw4bIC_a"
   },
   "outputs": [],
   "source": [
    "table2.field_names=['S.NO','MODEL','ACCURACY_SCORE','F1_SCORE','HAMMING_LOSS']\n",
    "table2.add_row([1,'LinearSVC(numerical features and fasttext embeddings)',accuracyscore_Xtrainsvc,f1score_Xtrainsvc,hammingloss_Xtrainsvc])\n",
    "table2.add_row([2,'LinearSVC(numerical features and BOW features)',accuracyscore_Xtrain1svc,f1score_Xtrain1svc,hammingloss_Xtrain1svc])\n",
    "table2.add_row([3,'LinearSVC(numerical features and Tfidf features)',accuracyscore_Xtrain2svc,f1score_Xtrain2svc,hammingloss_Xtrain2svc])\n",
    "table2.add_row([4,'LinearSVC(only fasttext embeddings)',accuracyscore_fasttexttrainsvc,f1score_fasttexttrainsvc,hammingloss_fasttexttrainsvc])\n",
    "table2.add_row([5,'LinearSVC(only BOW featuers)',accuracyscore_bowtrainsvc,f1score_bowtrainsvc,hammingloss_bowtrainsvc])\n",
    "table2.add_row([6,'LinearSVC(only Tfidf features)',accuracyscore_tfidftrainsvc,f1score_tfidftrainsvc,hammingloss_tfidftrainsvc])\n",
    "table2.add_row([7,'NB(numerical features and fasttext embeddings)',accuracyscore_Xtrainnb,f1score_Xtrainnb,hammingloss_Xtrainnb])\n",
    "table2.add_row([8,'NB(numerical features and BOW features)',accuracyscore_Xtrain1nb,f1score_Xtrain1nb,hammingloss_Xtrain1nb])\n",
    "table2.add_row([9,'NB(numerical features and Tfidf features)',accuracyscore_Xtrain2nb,f1score_Xtrain2nb,hammingloss_Xtrain2nb])\n",
    "table2.add_row([10,'NB(only fasttext embeddings)',accuracyscore_fasttexttrainnb,f1score_fasttexttrainnb,hammingloss_fasttexttrainnb])\n",
    "table2.add_row([11,'NB(only BOW featuers)',accuracyscore_bowtrainnb,f1score_bowtrainnb,hammingloss_bowtrainnb])\n",
    "table2.add_row([12,'NB(only Tfidf features)',accuracyscore_tfidftrainnb,f1score_tfidftrainnb,hammingloss_tfidftrainnb])"
   ]
  },
  {
   "cell_type": "code",
   "execution_count": null,
   "metadata": {
    "colab": {
     "base_uri": "https://localhost:8080/"
    },
    "id": "MmRtvwjDbboA",
    "outputId": "296246c1-a486-4b9a-def7-e408a7e61a96"
   },
   "outputs": [
    {
     "name": "stdout",
     "output_type": "stream",
     "text": [
      "+------+-------------------------------------------------------+---------------------+--------------------+---------------------+\n",
      "| S.NO |                         MODEL                         |    ACCURACY_SCORE   |      F1_SCORE      |     HAMMING_LOSS    |\n",
      "+------+-------------------------------------------------------+---------------------+--------------------+---------------------+\n",
      "|  1   | LinearSVC(numerical features and fasttext embeddings) |  0.586713697824809  | 0.6313755795981453 | 0.18694885361552027 |\n",
      "|  2   |     LinearSVC(numerical features and BOW features)    |  0.5543797766019988 | 0.6428811847862672 | 0.20791691162061532 |\n",
      "|  3   |    LinearSVC(numerical features and Tfidf features)   |  0.5961199294532628 | 0.6579898770788142 | 0.18538114834411132 |\n",
      "|  4   |          LinearSVC(only fasttext embeddings)          |  0.5831863609641388 | 0.627906976744186  | 0.18812463256907702 |\n",
      "|  5   |              LinearSVC(only BOW featuers)             |  0.5532039976484421 | 0.6424974823766365 |  0.2087007642563198 |\n",
      "|  6   |             LinearSVC(only Tfidf features)            |  0.6014109347442681 | 0.6615831517792302 |  0.1826376641191456 |\n",
      "|  7   |     NB(numerical features and fasttext embeddings)    | 0.44562022339800117 | 0.5350066050198151 | 0.27591612776797964 |\n",
      "|  8   |        NB(numerical features and BOW features)        |  0.3133450911228689 | 0.5184008472332539 |  0.3564569860866157 |\n",
      "|  9   |       NB(numerical features and Tfidf features)       |  0.3045267489711934 | 0.5063427800269905 | 0.35841661767587696 |\n",
      "|  10  |              NB(only fasttext embeddings)             | 0.43915343915343913 | 0.5256537570340948 |  0.2808152067411327 |\n",
      "|  11  |                 NB(only BOW featuers)                 |  0.3133450911228689 | 0.5184008472332539 |  0.3564569860866157 |\n",
      "|  12  |                NB(only Tfidf features)                |  0.3045267489711934 | 0.5067240451855837 | 0.35939643347050754 |\n",
      "+------+-------------------------------------------------------+---------------------+--------------------+---------------------+\n"
     ]
    }
   ],
   "source": [
    "print(table2)"
   ]
  },
  {
   "cell_type": "markdown",
   "metadata": {
    "id": "c9rgZBP0AUzK"
   },
   "source": [
    "From this table we can clearly see that Logistic Regression with only Tfidf Features gave better Accuracy,F1Score and HammingLoss."
   ]
  },
  {
   "cell_type": "code",
   "execution_count": null,
   "metadata": {
    "id": "TCq5zrBp_t5i"
   },
   "outputs": [],
   "source": [
    "#now we can just try with other MultiLearn Classifiers"
   ]
  },
  {
   "cell_type": "markdown",
   "metadata": {
    "id": "AsN_E6nNbkeb"
   },
   "source": [
    "OneVsRest Classifier:"
   ]
  },
  {
   "cell_type": "code",
   "execution_count": null,
   "metadata": {
    "colab": {
     "base_uri": "https://localhost:8080/"
    },
    "id": "PBFZFBaXb1KW",
    "outputId": "6672cb8e-00f3-4109-f70f-c8e5ac90bd23"
   },
   "outputs": [
    {
     "name": "stdout",
     "output_type": "stream",
     "text": [
      "accuracy : 0.6102292768959435\n",
      "micro f1 score : 0.6529481598733677\n",
      "hamming loss : 0.1718596903782089\n"
     ]
    }
   ],
   "source": [
    "classifier = OneVsRestClassifier(LogisticRegression(), n_jobs=-1)\n",
    "classifier.fit(tfidf_train, y_train)\n",
    "predictions = classifier.predict(tfidf_test)\n",
    "\n",
    "print(\"accuracy :\",metrics.accuracy_score(y_test,predictions))\n",
    "print(\"micro f1 score :\",metrics.f1_score(y_test, predictions, average = 'micro'))\n",
    "print(\"hamming loss :\",metrics.hamming_loss(y_test,predictions))"
   ]
  },
  {
   "cell_type": "markdown",
   "metadata": {
    "id": "0HtrMzwd5zJk"
   },
   "source": [
    "Classifier Chains:"
   ]
  },
  {
   "cell_type": "code",
   "execution_count": null,
   "metadata": {
    "colab": {
     "base_uri": "https://localhost:8080/"
    },
    "id": "Wao0DaZp5xCn",
    "outputId": "b5cc2798-ce35-43c5-df1c-284732e47d51"
   },
   "outputs": [
    {
     "name": "stdout",
     "output_type": "stream",
     "text": [
      "accuracy : 0.6149323927101705\n",
      "micro f1 score : 0.6548463356973996\n",
      "hamming loss : 0.17166372721928277\n"
     ]
    }
   ],
   "source": [
    "from skmultilearn.problem_transform import ClassifierChain\n",
    "classifier = ClassifierChain(LogisticRegression())\n",
    "classifier.fit(tfidf_train, y_train)\n",
    "predictions = classifier.predict(tfidf_test)\n",
    "print(\"accuracy :\",metrics.accuracy_score(y_test,predictions))\n",
    "print(\"micro f1 score :\",metrics.f1_score(y_test, predictions, average = 'micro'))\n",
    "print(\"hamming loss :\",metrics.hamming_loss(y_test,predictions))"
   ]
  },
  {
   "cell_type": "markdown",
   "metadata": {
    "id": "pMf_hNEuJbaw"
   },
   "source": [
    "BinaryRelevance:"
   ]
  },
  {
   "cell_type": "code",
   "execution_count": null,
   "metadata": {
    "colab": {
     "base_uri": "https://localhost:8080/"
    },
    "id": "t3CGxBXO5xPB",
    "outputId": "dfe7f509-a3e7-4fc5-9d5b-59989674de3a"
   },
   "outputs": [
    {
     "name": "stdout",
     "output_type": "stream",
     "text": [
      "accuracy : 0.6102292768959435\n",
      "micro f1 score : 0.6529481598733677\n",
      "hamming loss : 0.1718596903782089\n"
     ]
    }
   ],
   "source": [
    "from skmultilearn.problem_transform import BinaryRelevance\n",
    "classifier = BinaryRelevance(LogisticRegression())\n",
    "classifier.fit(tfidf_train, y_train)\n",
    "predictions = classifier.predict(tfidf_test)\n",
    "print(\"accuracy :\",metrics.accuracy_score(y_test,predictions))\n",
    "print(\"micro f1 score :\",metrics.f1_score(y_test, predictions, average = 'micro'))\n",
    "print(\"hamming loss :\",metrics.hamming_loss(y_test,predictions))"
   ]
  },
  {
   "cell_type": "markdown",
   "metadata": {
    "id": "D02XQSwgunYW"
   },
   "source": [
    "Changing the ngram_range for TfidfVectorizer and checking for best metric values on one model and of all the models Logistic Regression gave better metrics so we can train on Logistic Regression."
   ]
  },
  {
   "cell_type": "code",
   "execution_count": null,
   "metadata": {
    "id": "5GMPw8FOH2Sa"
   },
   "outputs": [],
   "source": [
    "from sklearn.feature_extraction.text import TfidfVectorizer\n",
    "vectorizer=TfidfVectorizer(ngram_range=(1,1),max_features=5000)\n",
    "vectorizer.fit(preprocessed_data_train['cleaned_text'].values)#fitting training points\n",
    "tfidf_train1=vectorizer.transform(preprocessed_data_train['cleaned_text'].values)#transforming training points\n",
    "tfidf_test1=vectorizer.transform(preprocessed_data_test['cleaned_text'].values)#transforming test points"
   ]
  },
  {
   "cell_type": "code",
   "execution_count": null,
   "metadata": {
    "id": "TunsNSQUHeN3"
   },
   "outputs": [],
   "source": [
    "from sklearn.feature_extraction.text import TfidfVectorizer\n",
    "vectorizer=TfidfVectorizer(ngram_range=(2,2),max_features=5000)\n",
    "vectorizer.fit(preprocessed_data_train['cleaned_text'].values)#fitting training points\n",
    "tfidf_train2=vectorizer.transform(preprocessed_data_train['cleaned_text'].values)#transforming training points\n",
    "tfidf_test2=vectorizer.transform(preprocessed_data_test['cleaned_text'].values)#transforming test points"
   ]
  },
  {
   "cell_type": "code",
   "execution_count": null,
   "metadata": {
    "id": "21zHkf5PHeP_"
   },
   "outputs": [],
   "source": [
    "from sklearn.feature_extraction.text import TfidfVectorizer\n",
    "vectorizer=TfidfVectorizer(ngram_range=(3,3),max_features=5000)\n",
    "vectorizer.fit(preprocessed_data_train['cleaned_text'].values)#fitting training points\n",
    "tfidf_train3=vectorizer.transform(preprocessed_data_train['cleaned_text'].values)#transforming training points\n",
    "tfidf_test3=vectorizer.transform(preprocessed_data_test['cleaned_text'].values)#transforming test points"
   ]
  },
  {
   "cell_type": "code",
   "execution_count": null,
   "metadata": {
    "id": "_KJ5otDsHeTm"
   },
   "outputs": [],
   "source": [
    "from sklearn.feature_extraction.text import TfidfVectorizer\n",
    "vectorizer=TfidfVectorizer(ngram_range=(4,4),max_features=5000)\n",
    "vectorizer.fit(preprocessed_data_train['cleaned_text'].values)#fitting training points\n",
    "tfidf_train4=vectorizer.transform(preprocessed_data_train['cleaned_text'].values)#transforming training points\n",
    "tfidf_test4=vectorizer.transform(preprocessed_data_test['cleaned_text'].values)#transforming test points"
   ]
  },
  {
   "cell_type": "code",
   "execution_count": null,
   "metadata": {
    "id": "Kx4QD1MXHmo9"
   },
   "outputs": [],
   "source": [
    "from sklearn.feature_extraction.text import TfidfVectorizer\n",
    "vectorizer=TfidfVectorizer(ngram_range=(1,2),max_features=5000)\n",
    "vectorizer.fit(preprocessed_data_train['cleaned_text'].values)#fitting training points\n",
    "tfidf_train12=vectorizer.transform(preprocessed_data_train['cleaned_text'].values)#transforming training points\n",
    "tfidf_test12=vectorizer.transform(preprocessed_data_test['cleaned_text'].values)#transforming test points"
   ]
  },
  {
   "cell_type": "code",
   "execution_count": null,
   "metadata": {
    "id": "iLP_vBWsHmrH"
   },
   "outputs": [],
   "source": [
    "from sklearn.feature_extraction.text import TfidfVectorizer\n",
    "vectorizer=TfidfVectorizer(ngram_range=(1,3),max_features=5000)\n",
    "vectorizer.fit(preprocessed_data_train['cleaned_text'].values)#fitting training points\n",
    "tfidf_train13=vectorizer.transform(preprocessed_data_train['cleaned_text'].values)#transforming training points\n",
    "tfidf_test13=vectorizer.transform(preprocessed_data_test['cleaned_text'].values)#transforming test points"
   ]
  },
  {
   "cell_type": "code",
   "execution_count": null,
   "metadata": {
    "id": "H6p2HLBbHmuP"
   },
   "outputs": [],
   "source": [
    "from sklearn.feature_extraction.text import TfidfVectorizer\n",
    "vectorizer=TfidfVectorizer(ngram_range=(1,4),max_features=5000)\n",
    "vectorizer.fit(preprocessed_data_train['cleaned_text'].values)#fitting training points\n",
    "tfidf_train14=vectorizer.transform(preprocessed_data_train['cleaned_text'].values)#transforming training points\n",
    "tfidf_test14=vectorizer.transform(preprocessed_data_test['cleaned_text'].values)#transforming test points"
   ]
  },
  {
   "cell_type": "code",
   "execution_count": null,
   "metadata": {
    "id": "HMj0GCThHmv5"
   },
   "outputs": [],
   "source": [
    "from sklearn.feature_extraction.text import TfidfVectorizer\n",
    "vectorizer=TfidfVectorizer(ngram_range=(1,5),max_features=5000)\n",
    "vectorizer.fit(preprocessed_data_train['cleaned_text'].values)#fitting training points\n",
    "tfidf_train15=vectorizer.transform(preprocessed_data_train['cleaned_text'].values)#transforming training points\n",
    "tfidf_test15=vectorizer.transform(preprocessed_data_test['cleaned_text'].values)#transforming test points"
   ]
  },
  {
   "cell_type": "code",
   "execution_count": null,
   "metadata": {
    "id": "sVL57SXyHmxv"
   },
   "outputs": [],
   "source": [
    "from sklearn.feature_extraction.text import TfidfVectorizer\n",
    "vectorizer=TfidfVectorizer(ngram_range=(1,6),max_features=5000)\n",
    "vectorizer.fit(preprocessed_data_train['cleaned_text'].values)#fitting training points\n",
    "tfidf_train16=vectorizer.transform(preprocessed_data_train['cleaned_text'].values)#transforming training points\n",
    "tfidf_test16=vectorizer.transform(preprocessed_data_test['cleaned_text'].values)#transforming test points"
   ]
  },
  {
   "cell_type": "code",
   "execution_count": null,
   "metadata": {
    "colab": {
     "base_uri": "https://localhost:8080/"
    },
    "id": "AfDRI_ZvQmqP",
    "outputId": "5af38de1-6264-4fbe-eca0-f9be3d4f8207"
   },
   "outputs": [
    {
     "name": "stdout",
     "output_type": "stream",
     "text": [
      "accuracy : 0.6155202821869489\n",
      "micro f1 score : 0.6531724406383808\n",
      "hamming loss : 0.1746031746031746\n"
     ]
    }
   ],
   "source": [
    "classifier = LabelPowerset(LogisticRegression())\n",
    "classifier.fit(tfidf_train1, y_train)\n",
    "predictions = classifier.predict(tfidf_test1)\n",
    "accuracyscore_tfidftrainlg1=metrics.accuracy_score(y_test,predictions)\n",
    "f1score_tfidftrainlg1=metrics.f1_score(y_test, predictions, average = 'micro')\n",
    "hammingloss_tfidftrainlg1=metrics.hamming_loss(y_test,predictions)\n",
    "print(\"accuracy :\",metrics.accuracy_score(y_test,predictions))\n",
    "print(\"micro f1 score :\",metrics.f1_score(y_test, predictions, average = 'micro'))\n",
    "print(\"hamming loss :\",metrics.hamming_loss(y_test,predictions))"
   ]
  },
  {
   "cell_type": "code",
   "execution_count": null,
   "metadata": {
    "colab": {
     "base_uri": "https://localhost:8080/"
    },
    "id": "LTqt_-IUIiAE",
    "outputId": "4397f431-7081-4f00-f62b-a35c2ebd2c56"
   },
   "outputs": [
    {
     "name": "stdout",
     "output_type": "stream",
     "text": [
      "accuracy : 0.5185185185185185\n",
      "micro f1 score : 0.53629878304658\n",
      "hamming loss : 0.2165392906133647\n"
     ]
    }
   ],
   "source": [
    "classifier = LabelPowerset(LogisticRegression())\n",
    "classifier.fit(tfidf_train2, y_train)\n",
    "predictions = classifier.predict(tfidf_test2)\n",
    "accuracyscore_tfidftrainlg2=metrics.accuracy_score(y_test,predictions)\n",
    "f1score_tfidftrainlg2=metrics.f1_score(y_test, predictions, average = 'micro')\n",
    "hammingloss_tfidftrainlg2=metrics.hamming_loss(y_test,predictions)\n",
    "print(\"accuracy :\",metrics.accuracy_score(y_test,predictions))\n",
    "print(\"micro f1 score :\",metrics.f1_score(y_test, predictions, average = 'micro'))\n",
    "print(\"hamming loss :\",metrics.hamming_loss(y_test,predictions))"
   ]
  },
  {
   "cell_type": "code",
   "execution_count": null,
   "metadata": {
    "colab": {
     "base_uri": "https://localhost:8080/"
    },
    "id": "wPTQ-Mp4I4wu",
    "outputId": "aa98f02f-9995-4dc5-c185-d72870c9b0ff"
   },
   "outputs": [
    {
     "name": "stdout",
     "output_type": "stream",
     "text": [
      "accuracy : 0.3903586125808348\n",
      "micro f1 score : 0.2817047817047817\n",
      "hamming loss : 0.27082108563590046\n"
     ]
    }
   ],
   "source": [
    "classifier = LabelPowerset(LogisticRegression())\n",
    "classifier.fit(tfidf_train3, y_train)\n",
    "predictions = classifier.predict(tfidf_test3)\n",
    "accuracyscore_tfidftrainlg3=metrics.accuracy_score(y_test,predictions)\n",
    "f1score_tfidftrainlg3=metrics.f1_score(y_test, predictions, average = 'micro')\n",
    "hammingloss_tfidftrainlg3=metrics.hamming_loss(y_test,predictions)\n",
    "print(\"accuracy :\",metrics.accuracy_score(y_test,predictions))\n",
    "print(\"micro f1 score :\",metrics.f1_score(y_test, predictions, average = 'micro'))\n",
    "print(\"hamming loss :\",metrics.hamming_loss(y_test,predictions))"
   ]
  },
  {
   "cell_type": "code",
   "execution_count": null,
   "metadata": {
    "colab": {
     "base_uri": "https://localhost:8080/"
    },
    "id": "T3HNx0-vJAgh",
    "outputId": "33e12112-4401-4689-9de8-d5d1237b97d2"
   },
   "outputs": [
    {
     "name": "stdout",
     "output_type": "stream",
     "text": [
      "accuracy : 0.3321575543797766\n",
      "micro f1 score : 0.08931804465902234\n",
      "hamming loss : 0.29570840681951793\n"
     ]
    }
   ],
   "source": [
    "classifier = LabelPowerset(LogisticRegression())\n",
    "classifier.fit(tfidf_train4, y_train)\n",
    "predictions = classifier.predict(tfidf_test4)\n",
    "accuracyscore_tfidftrainlg4=metrics.accuracy_score(y_test,predictions)\n",
    "f1score_tfidftrainlg4=metrics.f1_score(y_test, predictions, average = 'micro')\n",
    "hammingloss_tfidftrainlg4=metrics.hamming_loss(y_test,predictions)\n",
    "print(\"accuracy :\",metrics.accuracy_score(y_test,predictions))\n",
    "print(\"micro f1 score :\",metrics.f1_score(y_test, predictions, average = 'micro'))\n",
    "print(\"hamming loss :\",metrics.hamming_loss(y_test,predictions))"
   ]
  },
  {
   "cell_type": "code",
   "execution_count": null,
   "metadata": {
    "colab": {
     "base_uri": "https://localhost:8080/"
    },
    "id": "JaNt6rTxJFLJ",
    "outputId": "47d60004-99a6-4200-cfae-a7b0c326daac"
   },
   "outputs": [
    {
     "name": "stdout",
     "output_type": "stream",
     "text": [
      "accuracy : 0.6213991769547325\n",
      "micro f1 score : 0.6617532971295578\n",
      "hamming loss : 0.17087987458357828\n"
     ]
    }
   ],
   "source": [
    "classifier = LabelPowerset(LogisticRegression())\n",
    "classifier.fit(tfidf_train12, y_train)\n",
    "predictions = classifier.predict(tfidf_test12)\n",
    "accuracyscore_tfidftrainlg12=metrics.accuracy_score(y_test,predictions)\n",
    "f1score_tfidftrainlg12=metrics.f1_score(y_test, predictions, average = 'micro')\n",
    "hammingloss_tfidftrainlg12=metrics.hamming_loss(y_test,predictions)\n",
    "print(\"accuracy :\",metrics.accuracy_score(y_test,predictions))\n",
    "print(\"micro f1 score :\",metrics.f1_score(y_test, predictions, average = 'micro'))\n",
    "print(\"hamming loss :\",metrics.hamming_loss(y_test,predictions))"
   ]
  },
  {
   "cell_type": "code",
   "execution_count": null,
   "metadata": {
    "colab": {
     "base_uri": "https://localhost:8080/"
    },
    "id": "gOVT5_rUJIt8",
    "outputId": "83137eaf-4e36-4661-dbeb-1aa194d169c6"
   },
   "outputs": [
    {
     "name": "stdout",
     "output_type": "stream",
     "text": [
      "accuracy : 0.6202233980011758\n",
      "micro f1 score : 0.6604578967792007\n",
      "hamming loss : 0.17146776406035666\n"
     ]
    }
   ],
   "source": [
    "classifier = LabelPowerset(LogisticRegression())\n",
    "classifier.fit(tfidf_train13, y_train)\n",
    "predictions = classifier.predict(tfidf_test13)\n",
    "accuracyscore_tfidftrainlg13=metrics.accuracy_score(y_test,predictions)\n",
    "f1score_tfidftrainlg13=metrics.f1_score(y_test, predictions, average = 'micro')\n",
    "hammingloss_tfidftrainlg13=metrics.hamming_loss(y_test,predictions)\n",
    "print(\"accuracy :\",metrics.accuracy_score(y_test,predictions))\n",
    "print(\"micro f1 score :\",metrics.f1_score(y_test, predictions, average = 'micro'))\n",
    "print(\"hamming loss :\",metrics.hamming_loss(y_test,predictions))"
   ]
  },
  {
   "cell_type": "code",
   "execution_count": null,
   "metadata": {
    "colab": {
     "base_uri": "https://localhost:8080/"
    },
    "id": "PUQZ09WTJOlp",
    "outputId": "15462e3f-a387-434b-cf2a-71b9a13d7713"
   },
   "outputs": [
    {
     "name": "stdout",
     "output_type": "stream",
     "text": [
      "accuracy : 0.6208112874779541\n",
      "micro f1 score : 0.6604578967792007\n",
      "hamming loss : 0.17146776406035666\n"
     ]
    }
   ],
   "source": [
    "classifier = LabelPowerset(LogisticRegression())\n",
    "classifier.fit(tfidf_train14, y_train)\n",
    "predictions = classifier.predict(tfidf_test14)\n",
    "accuracyscore_tfidftrainlg14=metrics.accuracy_score(y_test,predictions)\n",
    "f1score_tfidftrainlg14=metrics.f1_score(y_test, predictions, average = 'micro')\n",
    "hammingloss_tfidftrainlg14=metrics.hamming_loss(y_test,predictions)\n",
    "print(\"accuracy :\",metrics.accuracy_score(y_test,predictions))\n",
    "print(\"micro f1 score :\",metrics.f1_score(y_test, predictions, average = 'micro'))\n",
    "print(\"hamming loss :\",metrics.hamming_loss(y_test,predictions))"
   ]
  },
  {
   "cell_type": "code",
   "execution_count": null,
   "metadata": {
    "colab": {
     "base_uri": "https://localhost:8080/"
    },
    "id": "kCwH_6WjJjJG",
    "outputId": "f18ac079-5436-4c7e-aa01-19dd4f75d5d2"
   },
   "outputs": [
    {
     "name": "stdout",
     "output_type": "stream",
     "text": [
      "accuracy : 0.6225749559082893\n",
      "micro f1 score : 0.661233993015134\n",
      "hamming loss : 0.1710758377425044\n"
     ]
    }
   ],
   "source": [
    "classifier = LabelPowerset(LogisticRegression())\n",
    "classifier.fit(tfidf_train15, y_train)\n",
    "predictions = classifier.predict(tfidf_test15)\n",
    "accuracyscore_tfidftrainlg15=metrics.accuracy_score(y_test,predictions)\n",
    "f1score_tfidftrainlg15=metrics.f1_score(y_test, predictions, average = 'micro')\n",
    "hammingloss_tfidftrainlg15=metrics.hamming_loss(y_test,predictions)\n",
    "print(\"accuracy :\",metrics.accuracy_score(y_test,predictions))\n",
    "print(\"micro f1 score :\",metrics.f1_score(y_test, predictions, average = 'micro'))\n",
    "print(\"hamming loss :\",metrics.hamming_loss(y_test,predictions))"
   ]
  },
  {
   "cell_type": "code",
   "execution_count": null,
   "metadata": {
    "colab": {
     "base_uri": "https://localhost:8080/"
    },
    "id": "QcYLu5o2JsU-",
    "outputId": "c0ed2279-4a81-4d4b-c6fa-9b49877090f5"
   },
   "outputs": [
    {
     "name": "stdout",
     "output_type": "stream",
     "text": [
      "accuracy : 0.6208112874779541\n",
      "micro f1 score : 0.6596736596736598\n",
      "hamming loss : 0.17166372721928277\n"
     ]
    }
   ],
   "source": [
    "classifier = LabelPowerset(LogisticRegression())\n",
    "classifier.fit(tfidf_train16, y_train)\n",
    "predictions = classifier.predict(tfidf_test16)\n",
    "accuracyscore_tfidftrainlg16=metrics.accuracy_score(y_test,predictions)\n",
    "f1score_tfidftrainlg16=metrics.f1_score(y_test, predictions, average = 'micro')\n",
    "hammingloss_tfidftrainlg16=metrics.hamming_loss(y_test,predictions)\n",
    "print(\"accuracy :\",metrics.accuracy_score(y_test,predictions))\n",
    "print(\"micro f1 score :\",metrics.f1_score(y_test, predictions, average = 'micro'))\n",
    "print(\"hamming loss :\",metrics.hamming_loss(y_test,predictions))"
   ]
  },
  {
   "cell_type": "code",
   "execution_count": null,
   "metadata": {
    "id": "kZhHVuDFRLQe"
   },
   "outputs": [],
   "source": [
    "from prettytable import PrettyTable\n",
    "table1=PrettyTable()"
   ]
  },
  {
   "cell_type": "code",
   "execution_count": null,
   "metadata": {
    "id": "geiyLf0VJv81"
   },
   "outputs": [],
   "source": [
    "table1.field_names=['S.NO','MODEL','ACCURACY_SCORE','F1_SCORE','HAMMING_LOSS']\n",
    "table1.add_row([1,'LogisticRegression(only Tfidf features)ngram_range=(1,1)',accuracyscore_tfidftrainlg1,f1score_tfidftrainlg1,hammingloss_tfidftrainlg1])\n",
    "table1.add_row([2,'LogisticRegression(only Tfidf features)ngram_range=(2,2)',accuracyscore_tfidftrainlg2,f1score_tfidftrainlg2,hammingloss_tfidftrainlg2])\n",
    "table1.add_row([3,'LogisticRegression(only Tfidf features)ngram_range=(3,3)',accuracyscore_tfidftrainlg3,f1score_tfidftrainlg3,hammingloss_tfidftrainlg3])\n",
    "table1.add_row([4,'LogisticRegression(only Tfidf features)ngram_range=(4,4)',accuracyscore_tfidftrainlg4,f1score_tfidftrainlg4,hammingloss_tfidftrainlg4])\n",
    "table1.add_row([5,'LogisticRegression(only Tfidf features)ngram_range=(1,2)',accuracyscore_tfidftrainlg12,f1score_tfidftrainlg12,hammingloss_tfidftrainlg12])\n",
    "table1.add_row([6,'LogisticRegression(only Tfidf features)ngram_range=(1,3)',accuracyscore_tfidftrainlg13,f1score_tfidftrainlg13,hammingloss_tfidftrainlg13])\n",
    "table1.add_row([7,'LogisticRegression(only Tfidf features)ngram_range=(1,4)',accuracyscore_tfidftrainlg14,f1score_tfidftrainlg14,hammingloss_tfidftrainlg14])\n",
    "table1.add_row([8,'LogisticRegression(only Tfidf features)ngram_range=(1,5)',accuracyscore_tfidftrainlg15,f1score_tfidftrainlg15,hammingloss_tfidftrainlg15])\n",
    "table1.add_row([9,'LogisticRegression(only Tfidf features)ngram_range=(1,6)',accuracyscore_tfidftrainlg16,f1score_tfidftrainlg16,hammingloss_tfidftrainlg16])"
   ]
  },
  {
   "cell_type": "code",
   "execution_count": null,
   "metadata": {
    "colab": {
     "base_uri": "https://localhost:8080/"
    },
    "id": "-vR_biX2J53p",
    "outputId": "82f27f2e-6137-4d71-8ba9-a93e6fb3bb28"
   },
   "outputs": [
    {
     "name": "stdout",
     "output_type": "stream",
     "text": [
      "+------+----------------------------------------------------------+--------------------+---------------------+---------------------+\n",
      "| S.NO |                          MODEL                           |   ACCURACY_SCORE   |       F1_SCORE      |     HAMMING_LOSS    |\n",
      "+------+----------------------------------------------------------+--------------------+---------------------+---------------------+\n",
      "|  1   | LogisticRegression(only Tfidf features)ngram_range=(1,1) | 0.6155202821869489 |  0.6531724406383808 |  0.1746031746031746 |\n",
      "|  2   | LogisticRegression(only Tfidf features)ngram_range=(2,2) | 0.5185185185185185 |   0.53629878304658  |  0.2165392906133647 |\n",
      "|  3   | LogisticRegression(only Tfidf features)ngram_range=(3,3) | 0.3903586125808348 |  0.2817047817047817 | 0.27082108563590046 |\n",
      "|  4   | LogisticRegression(only Tfidf features)ngram_range=(4,4) | 0.3321575543797766 | 0.08931804465902234 | 0.29570840681951793 |\n",
      "|  5   | LogisticRegression(only Tfidf features)ngram_range=(1,2) | 0.6213991769547325 |  0.6617532971295578 | 0.17087987458357828 |\n",
      "|  6   | LogisticRegression(only Tfidf features)ngram_range=(1,3) | 0.6202233980011758 |  0.6604578967792007 | 0.17146776406035666 |\n",
      "|  7   | LogisticRegression(only Tfidf features)ngram_range=(1,4) | 0.6208112874779541 |  0.6604578967792007 | 0.17146776406035666 |\n",
      "|  8   | LogisticRegression(only Tfidf features)ngram_range=(1,5) | 0.6225749559082893 |  0.661233993015134  |  0.1710758377425044 |\n",
      "|  9   | LogisticRegression(only Tfidf features)ngram_range=(1,6) | 0.6208112874779541 |  0.6596736596736598 | 0.17166372721928277 |\n",
      "+------+----------------------------------------------------------+--------------------+---------------------+---------------------+\n"
     ]
    }
   ],
   "source": [
    "print(table1)"
   ]
  },
  {
   "cell_type": "markdown",
   "metadata": {
    "id": "R-itiMJlRzUY"
   },
   "source": [
    "###Hyperparameter Tuning:"
   ]
  },
  {
   "cell_type": "code",
   "execution_count": null,
   "metadata": {
    "colab": {
     "base_uri": "https://localhost:8080/"
    },
    "id": "Pl0VYZFSRS-3",
    "outputId": "2abd3b0d-d022-43ee-a7c2-5f2a8b1273e9"
   },
   "outputs": [
    {
     "data": {
      "text/plain": [
       "RandomizedSearchCV(cv=5, error_score=nan,\n",
       "                   estimator=LabelPowerset(classifier=LogisticRegression(C=1.0,\n",
       "                                                                         class_weight=None,\n",
       "                                                                         dual=False,\n",
       "                                                                         fit_intercept=True,\n",
       "                                                                         intercept_scaling=1,\n",
       "                                                                         l1_ratio=None,\n",
       "                                                                         max_iter=100,\n",
       "                                                                         multi_class='auto',\n",
       "                                                                         n_jobs=None,\n",
       "                                                                         penalty='l2',\n",
       "                                                                         random_state=None,\n",
       "                                                                         solver='lbfgs',\n",
       "                                                                         tol=0.0001,\n",
       "                                                                         verbose=0,\n",
       "                                                                         warm_start=False),\n",
       "                                           require_dense=[True, True]),\n",
       "                   iid='deprecated', n_iter=10, n_jobs=None,\n",
       "                   param_distributions={'classifier__C': [1e-06, 1e-05, 0.0001,\n",
       "                                                          0.001, 0.01, 0.1, 1,\n",
       "                                                          10, 100, 1000,\n",
       "                                                          10000]},\n",
       "                   pre_dispatch='2*n_jobs', random_state=None, refit='accuracy',\n",
       "                   return_train_score=True, scoring=['f1_micro', 'accuracy'],\n",
       "                   verbose=0)"
      ]
     },
     "execution_count": 105,
     "metadata": {
      "tags": []
     },
     "output_type": "execute_result"
    }
   ],
   "source": [
    "from sklearn.model_selection import RandomizedSearchCV\n",
    "alpha = [0.000001,0.00001,0.0001,0.001,0.01,0.1,1,10,100,1000,10000]\n",
    "params  = {\"classifier__C\":alpha}\n",
    "classifier = LabelPowerset(LogisticRegression())\n",
    "cv = RandomizedSearchCV(estimator=classifier,param_distributions=params,cv=5,refit='accuracy',scoring=['f1_micro','accuracy'],return_train_score=True)\n",
    "cv.fit(tfidf_train15,y_train)"
   ]
  },
  {
   "cell_type": "code",
   "execution_count": null,
   "metadata": {
    "colab": {
     "base_uri": "https://localhost:8080/"
    },
    "id": "mM0djtMeRkft",
    "outputId": "7d0ae525-10d0-4628-aa5c-43bc5007816f"
   },
   "outputs": [
    {
     "name": "stdout",
     "output_type": "stream",
     "text": [
      "{'classifier__C': 1}\n"
     ]
    }
   ],
   "source": [
    "best_alpha=cv.best_params_\n",
    "print(cv.best_params_)"
   ]
  },
  {
   "cell_type": "markdown",
   "metadata": {
    "id": "CaKWn2qYWQ3W"
   },
   "source": [
    "This is default alpha so the better metrics is obtained by using \n",
    "\n",
    "**LogisticRegression with ngram_range(1,5)**\n",
    "\n",
    "Accuracy---->0.6225749559082893\n",
    "\n",
    "Micro f1 score---->0.661233993015134\n",
    "\n",
    "Hamming loss---->0.1710758377425044"
   ]
  },
  {
   "cell_type": "code",
   "execution_count": null,
   "metadata": {
    "colab": {
     "base_uri": "https://localhost:8080/"
    },
    "id": "WnZ1tqykHPS5",
    "outputId": "67ec7744-fade-4a9d-bf62-3500ce372f08"
   },
   "outputs": [
    {
     "data": {
      "text/plain": [
       "RandomizedSearchCV(cv=5, error_score=nan,\n",
       "                   estimator=LabelPowerset(classifier=XGBClassifier(base_score=0.5,\n",
       "                                                                    booster='gbtree',\n",
       "                                                                    colsample_bylevel=1,\n",
       "                                                                    colsample_bynode=1,\n",
       "                                                                    colsample_bytree=1,\n",
       "                                                                    gamma=0,\n",
       "                                                                    learning_rate=0.1,\n",
       "                                                                    max_delta_step=0,\n",
       "                                                                    max_depth=3,\n",
       "                                                                    min_child_weight=1,\n",
       "                                                                    missing=None,\n",
       "                                                                    n_estimators=100,\n",
       "                                                                    n_jobs=1,\n",
       "                                                                    nthread=None,\n",
       "                                                                    objective='binary:logistic',\n",
       "                                                                    random_state=0,\n",
       "                                                                    re...\n",
       "                                                                    seed=None,\n",
       "                                                                    silent=None,\n",
       "                                                                    subsample=1,\n",
       "                                                                    verbosity=1),\n",
       "                                           require_dense=[True, True]),\n",
       "                   iid='deprecated', n_iter=10, n_jobs=None,\n",
       "                   param_distributions={'classifier__eta': [0.0001, 0.001, 0.01,\n",
       "                                                            0.1, 0.2, 0.3],\n",
       "                                        'classifier__n_estimators': [5, 10, 50,\n",
       "                                                                     75, 100,\n",
       "                                                                     200]},\n",
       "                   pre_dispatch='2*n_jobs', random_state=None, refit='accuracy',\n",
       "                   return_train_score=True, scoring=['f1_micro', 'accuracy'],\n",
       "                   verbose=0)"
      ]
     },
     "execution_count": 107,
     "metadata": {
      "tags": []
     },
     "output_type": "execute_result"
    }
   ],
   "source": [
    "from sklearn.model_selection import RandomizedSearchCV\n",
    "params={'classifier__eta':[0.0001,0.001,0.01,0.1,0.2,0.3],'classifier__n_estimators':[5,10,50,75,100,200]}\n",
    "classifier = LabelPowerset(xgb.XGBClassifier())\n",
    "cv = RandomizedSearchCV(estimator=classifier,param_distributions=params,cv=5,refit='accuracy',scoring=['f1_micro','accuracy'],return_train_score=True)\n",
    "cv.fit(tfidf_train15,y_train)"
   ]
  },
  {
   "cell_type": "code",
   "execution_count": null,
   "metadata": {
    "colab": {
     "base_uri": "https://localhost:8080/"
    },
    "id": "iJH-c1iEHRlz",
    "outputId": "e1f6e90d-898b-48f7-aa4a-4aed0ab7cdf2"
   },
   "outputs": [
    {
     "name": "stdout",
     "output_type": "stream",
     "text": [
      "{'classifier__n_estimators': 200, 'classifier__eta': 0.3}\n"
     ]
    }
   ],
   "source": [
    "best_eta=cv.best_params_['classifier__eta']\n",
    "best_n_estimators=cv.best_params_['classifier__n_estimators']\n",
    "print(cv.best_params_)"
   ]
  },
  {
   "cell_type": "code",
   "execution_count": null,
   "metadata": {
    "colab": {
     "base_uri": "https://localhost:8080/"
    },
    "id": "UP0834BWHdAd",
    "outputId": "ab7555a3-a14f-47c6-b89a-8d7c4994209a"
   },
   "outputs": [
    {
     "name": "stdout",
     "output_type": "stream",
     "text": [
      "accuracy : 0.6119929453262787\n",
      "micro f1 score : 0.6404539927036886\n",
      "hamming loss : 0.1738193219674701\n"
     ]
    }
   ],
   "source": [
    "classifier = LabelPowerset(xgb.XGBClassifier(eta=best_eta,n_estimators=best_n_estimators))\n",
    "classifier.fit(tfidf_train15, y_train)\n",
    "predictions = classifier.predict(tfidf_test15)\n",
    "print(\"accuracy :\",metrics.accuracy_score(y_test,predictions))\n",
    "print(\"micro f1 score :\",metrics.f1_score(y_test, predictions, average = 'micro'))\n",
    "print(\"hamming loss :\",metrics.hamming_loss(y_test,predictions))"
   ]
  },
  {
   "cell_type": "markdown",
   "metadata": {
    "id": "JDMyupgdjoXc"
   },
   "source": [
    "**GBDT with ngram_range(1,5)**\n",
    "\n",
    "Accuracy---->0.6119929453262787\n",
    "\n",
    "Micro f1 score---->0.6404539927036886\n",
    "\n",
    "Hamming loss---->0.1738193219674701"
   ]
  },
  {
   "cell_type": "code",
   "execution_count": null,
   "metadata": {
    "colab": {
     "base_uri": "https://localhost:8080/"
    },
    "id": "tNRRLdDBJHhh",
    "outputId": "727c5d43-c4be-486c-e030-d0124be6aa7e"
   },
   "outputs": [
    {
     "data": {
      "text/plain": [
       "RandomizedSearchCV(cv=5, error_score=nan,\n",
       "                   estimator=LabelPowerset(classifier=LinearSVC(C=1.0,\n",
       "                                                                class_weight=None,\n",
       "                                                                dual=True,\n",
       "                                                                fit_intercept=True,\n",
       "                                                                intercept_scaling=1,\n",
       "                                                                loss='squared_hinge',\n",
       "                                                                max_iter=1000,\n",
       "                                                                multi_class='ovr',\n",
       "                                                                penalty='l2',\n",
       "                                                                random_state=None,\n",
       "                                                                tol=0.0001,\n",
       "                                                                verbose=0),\n",
       "                                           require_dense=[True, True]),\n",
       "                   iid='deprecated', n_iter=10, n_jobs=None,\n",
       "                   param_distributions={'classifier__C': [1e-06, 1e-05, 0.0001,\n",
       "                                                          0.001, 0.01, 0.1, 1,\n",
       "                                                          10, 100, 1000,\n",
       "                                                          10000]},\n",
       "                   pre_dispatch='2*n_jobs', random_state=None, refit='accuracy',\n",
       "                   return_train_score=True, scoring=['f1_micro', 'accuracy'],\n",
       "                   verbose=0)"
      ]
     },
     "execution_count": 111,
     "metadata": {
      "tags": []
     },
     "output_type": "execute_result"
    }
   ],
   "source": [
    "from sklearn.model_selection import RandomizedSearchCV\n",
    "alpha = [0.000001,0.00001,0.0001,0.001,0.01,0.1,1,10,100,1000,10000]\n",
    "params  = {\"classifier__C\":alpha}\n",
    "classifier = LabelPowerset(LinearSVC())\n",
    "cv = RandomizedSearchCV(estimator=classifier,param_distributions=params,cv=5,refit='accuracy',scoring=['f1_micro','accuracy'],return_train_score=True)\n",
    "cv.fit(tfidf_train15,y_train)"
   ]
  },
  {
   "cell_type": "code",
   "execution_count": null,
   "metadata": {
    "colab": {
     "base_uri": "https://localhost:8080/"
    },
    "id": "aLcokdYIi83K",
    "outputId": "aa9160a3-48c7-4405-d300-cc5f58f04d1a"
   },
   "outputs": [
    {
     "name": "stdout",
     "output_type": "stream",
     "text": [
      "{'classifier__C': 0.1}\n"
     ]
    }
   ],
   "source": [
    "best_alpha=cv.best_params_['classifier__C']\n",
    "print(cv.best_params_)"
   ]
  },
  {
   "cell_type": "code",
   "execution_count": null,
   "metadata": {
    "colab": {
     "base_uri": "https://localhost:8080/"
    },
    "id": "lKghFfYejJ6k",
    "outputId": "75d57e33-2eab-4423-fb03-fae2938e806f"
   },
   "outputs": [
    {
     "name": "stdout",
     "output_type": "stream",
     "text": [
      "accuracy : 0.6172839506172839\n",
      "micro f1 score : 0.6538461538461537\n",
      "hamming loss : 0.1728395061728395\n"
     ]
    }
   ],
   "source": [
    "classifier = LabelPowerset(LinearSVC(C=best_alpha))\n",
    "classifier.fit(tfidf_train15, y_train)\n",
    "predictions = classifier.predict(tfidf_test15)\n",
    "print(\"accuracy :\",metrics.accuracy_score(y_test,predictions))\n",
    "print(\"micro f1 score :\",metrics.f1_score(y_test, predictions, average = 'micro'))\n",
    "print(\"hamming loss :\",metrics.hamming_loss(y_test,predictions))"
   ]
  },
  {
   "cell_type": "markdown",
   "metadata": {
    "id": "nl_uqLS-i4ic"
   },
   "source": [
    "**LinearSVC for ngram_range(1,5)**\n",
    "\n",
    "Accuracy---->0.6172839506172839\n",
    "\n",
    "Micro f1 score---->0.6538461538461537\n",
    "\n",
    "Hamming loss---->0.1728395061728395"
   ]
  },
  {
   "cell_type": "markdown",
   "metadata": {
    "id": "xs_Yv24QoTue"
   },
   "source": [
    "#Simple DeepLearning Model:"
   ]
  },
  {
   "cell_type": "code",
   "execution_count": 4,
   "metadata": {
    "colab": {
     "base_uri": "https://localhost:8080/"
    },
    "id": "PGJkyTVvn90r",
    "outputId": "ece0d87d-b2ae-47d8-8f6d-f90679379395"
   },
   "outputs": [
    {
     "name": "stdout",
     "output_type": "stream",
     "text": [
      "Downloading...\n",
      "From: https://drive.google.com/uc?id=1CSfnseXxh2H1inuPKmXS4ekacKoB8nCh\n",
      "To: /content/glove_vectors\n",
      "128MB [00:03, 33.3MB/s]\n"
     ]
    }
   ],
   "source": [
    "!gdown --id 1CSfnseXxh2H1inuPKmXS4ekacKoB8nCh"
   ]
  },
  {
   "cell_type": "code",
   "execution_count": 11,
   "metadata": {
    "id": "hzs0Ra5Sb55e"
   },
   "outputs": [],
   "source": [
    "#https://machinelearningmastery.com/use-word-embedding-layers-deep-learning-keras/\n",
    "import tensorflow as tf\n",
    "from tensorflow.keras.preprocessing.text import Tokenizer\n",
    "from tensorflow.keras.preprocessing.sequence import pad_sequences\n",
    "from sklearn.preprocessing import LabelEncoder,StandardScaler\n",
    "tokenizer= Tokenizer()\n",
    "tokenizer.fit_on_texts(preprocessed_data_train['cleaned_text'].tolist())\n",
    "vocab_size = len(tokenizer.word_index) + 1\n",
    "encoded_docs = tokenizer.texts_to_sequences(preprocessed_data_train['cleaned_text'])\n",
    "encoded_docs1 = tokenizer.texts_to_sequences(preprocessed_data_test['cleaned_text'])\n",
    "\n",
    "l=[]\n",
    "for i in encoded_docs:\n",
    "  l.append(len(i))\n",
    "max_length=max(l)\n"
   ]
  },
  {
   "cell_type": "code",
   "execution_count": 14,
   "metadata": {
    "colab": {
     "base_uri": "https://localhost:8080/"
    },
    "id": "t5y4HVykY_tL",
    "outputId": "1fc2af71-7f37-43b9-ec59-57dccb14a595"
   },
   "outputs": [
    {
     "data": {
      "text/plain": [
       "530"
      ]
     },
     "execution_count": 14,
     "metadata": {
      "tags": []
     },
     "output_type": "execute_result"
    }
   ],
   "source": [
    "max_length"
   ]
  },
  {
   "cell_type": "code",
   "execution_count": 15,
   "metadata": {
    "id": "WezQ1CM1Y-lK"
   },
   "outputs": [],
   "source": [
    "padded_docs = pad_sequences(encoded_docs,maxlen=max_length,padding='post',truncating='post')\n",
    "padded_docs1 = pad_sequences(encoded_docs1,maxlen=max_length,padding='post',truncating='post')\n",
    "\n",
    "import pickle\n",
    "with open('glove_vectors', 'rb') as f:\n",
    "    model = pickle.load(f)\n",
    "import numpy as np\n",
    "embedding_matrix = np.zeros((vocab_size, 300))\n",
    "for word, i in tokenizer.word_index.items():\n",
    "    embedding_vector = model.get(word)\n",
    "    if embedding_vector is not None:\n",
    "        embedding_matrix[i] = embedding_vector"
   ]
  },
  {
   "cell_type": "code",
   "execution_count": 16,
   "metadata": {
    "colab": {
     "base_uri": "https://localhost:8080/"
    },
    "id": "M0U8uVmgZ0J1",
    "outputId": "3a034cd1-a106-4e90-cc60-cae1485f3b04"
   },
   "outputs": [
    {
     "name": "stdout",
     "output_type": "stream",
     "text": [
      "Collecting tensorflow-addons\n",
      "\u001b[?25l  Downloading https://files.pythonhosted.org/packages/66/4b/e893d194e626c24b3df2253066aa418f46a432fdb68250cde14bf9bb0700/tensorflow_addons-0.13.0-cp37-cp37m-manylinux2010_x86_64.whl (679kB)\n",
      "\r",
      "\u001b[K     |▌                               | 10kB 26.0MB/s eta 0:00:01\r",
      "\u001b[K     |█                               | 20kB 31.6MB/s eta 0:00:01\r",
      "\u001b[K     |█▌                              | 30kB 35.5MB/s eta 0:00:01\r",
      "\u001b[K     |██                              | 40kB 38.9MB/s eta 0:00:01\r",
      "\u001b[K     |██▍                             | 51kB 25.9MB/s eta 0:00:01\r",
      "\u001b[K     |███                             | 61kB 27.9MB/s eta 0:00:01\r",
      "\u001b[K     |███▍                            | 71kB 27.5MB/s eta 0:00:01\r",
      "\u001b[K     |███▉                            | 81kB 26.8MB/s eta 0:00:01\r",
      "\u001b[K     |████▍                           | 92kB 27.7MB/s eta 0:00:01\r",
      "\u001b[K     |████▉                           | 102kB 27.2MB/s eta 0:00:01\r",
      "\u001b[K     |█████▎                          | 112kB 27.2MB/s eta 0:00:01\r",
      "\u001b[K     |█████▉                          | 122kB 27.2MB/s eta 0:00:01\r",
      "\u001b[K     |██████▎                         | 133kB 27.2MB/s eta 0:00:01\r",
      "\u001b[K     |██████▊                         | 143kB 27.2MB/s eta 0:00:01\r",
      "\u001b[K     |███████▎                        | 153kB 27.2MB/s eta 0:00:01\r",
      "\u001b[K     |███████▊                        | 163kB 27.2MB/s eta 0:00:01\r",
      "\u001b[K     |████████▏                       | 174kB 27.2MB/s eta 0:00:01\r",
      "\u001b[K     |████████▊                       | 184kB 27.2MB/s eta 0:00:01\r",
      "\u001b[K     |█████████▏                      | 194kB 27.2MB/s eta 0:00:01\r",
      "\u001b[K     |█████████▋                      | 204kB 27.2MB/s eta 0:00:01\r",
      "\u001b[K     |██████████▏                     | 215kB 27.2MB/s eta 0:00:01\r",
      "\u001b[K     |██████████▋                     | 225kB 27.2MB/s eta 0:00:01\r",
      "\u001b[K     |███████████                     | 235kB 27.2MB/s eta 0:00:01\r",
      "\u001b[K     |███████████▋                    | 245kB 27.2MB/s eta 0:00:01\r",
      "\u001b[K     |████████████                    | 256kB 27.2MB/s eta 0:00:01\r",
      "\u001b[K     |████████████▌                   | 266kB 27.2MB/s eta 0:00:01\r",
      "\u001b[K     |█████████████                   | 276kB 27.2MB/s eta 0:00:01\r",
      "\u001b[K     |█████████████▌                  | 286kB 27.2MB/s eta 0:00:01\r",
      "\u001b[K     |██████████████                  | 296kB 27.2MB/s eta 0:00:01\r",
      "\u001b[K     |██████████████▌                 | 307kB 27.2MB/s eta 0:00:01\r",
      "\u001b[K     |███████████████                 | 317kB 27.2MB/s eta 0:00:01\r",
      "\u001b[K     |███████████████▍                | 327kB 27.2MB/s eta 0:00:01\r",
      "\u001b[K     |████████████████                | 337kB 27.2MB/s eta 0:00:01\r",
      "\u001b[K     |████████████████▍               | 348kB 27.2MB/s eta 0:00:01\r",
      "\u001b[K     |████████████████▉               | 358kB 27.2MB/s eta 0:00:01\r",
      "\u001b[K     |█████████████████▍              | 368kB 27.2MB/s eta 0:00:01\r",
      "\u001b[K     |█████████████████▉              | 378kB 27.2MB/s eta 0:00:01\r",
      "\u001b[K     |██████████████████▎             | 389kB 27.2MB/s eta 0:00:01\r",
      "\u001b[K     |██████████████████▉             | 399kB 27.2MB/s eta 0:00:01\r",
      "\u001b[K     |███████████████████▎            | 409kB 27.2MB/s eta 0:00:01\r",
      "\u001b[K     |███████████████████▊            | 419kB 27.2MB/s eta 0:00:01\r",
      "\u001b[K     |████████████████████▎           | 430kB 27.2MB/s eta 0:00:01\r",
      "\u001b[K     |████████████████████▊           | 440kB 27.2MB/s eta 0:00:01\r",
      "\u001b[K     |█████████████████████▏          | 450kB 27.2MB/s eta 0:00:01\r",
      "\u001b[K     |█████████████████████▊          | 460kB 27.2MB/s eta 0:00:01\r",
      "\u001b[K     |██████████████████████▏         | 471kB 27.2MB/s eta 0:00:01\r",
      "\u001b[K     |██████████████████████▋         | 481kB 27.2MB/s eta 0:00:01\r",
      "\u001b[K     |███████████████████████▏        | 491kB 27.2MB/s eta 0:00:01\r",
      "\u001b[K     |███████████████████████▋        | 501kB 27.2MB/s eta 0:00:01\r",
      "\u001b[K     |████████████████████████        | 512kB 27.2MB/s eta 0:00:01\r",
      "\u001b[K     |████████████████████████▋       | 522kB 27.2MB/s eta 0:00:01\r",
      "\u001b[K     |█████████████████████████       | 532kB 27.2MB/s eta 0:00:01\r",
      "\u001b[K     |█████████████████████████▌      | 542kB 27.2MB/s eta 0:00:01\r",
      "\u001b[K     |██████████████████████████      | 552kB 27.2MB/s eta 0:00:01\r",
      "\u001b[K     |██████████████████████████▌     | 563kB 27.2MB/s eta 0:00:01\r",
      "\u001b[K     |███████████████████████████     | 573kB 27.2MB/s eta 0:00:01\r",
      "\u001b[K     |███████████████████████████▌    | 583kB 27.2MB/s eta 0:00:01\r",
      "\u001b[K     |████████████████████████████    | 593kB 27.2MB/s eta 0:00:01\r",
      "\u001b[K     |████████████████████████████▍   | 604kB 27.2MB/s eta 0:00:01\r",
      "\u001b[K     |█████████████████████████████   | 614kB 27.2MB/s eta 0:00:01\r",
      "\u001b[K     |█████████████████████████████▍  | 624kB 27.2MB/s eta 0:00:01\r",
      "\u001b[K     |█████████████████████████████▉  | 634kB 27.2MB/s eta 0:00:01\r",
      "\u001b[K     |██████████████████████████████▍ | 645kB 27.2MB/s eta 0:00:01\r",
      "\u001b[K     |██████████████████████████████▉ | 655kB 27.2MB/s eta 0:00:01\r",
      "\u001b[K     |███████████████████████████████▎| 665kB 27.2MB/s eta 0:00:01\r",
      "\u001b[K     |███████████████████████████████▉| 675kB 27.2MB/s eta 0:00:01\r",
      "\u001b[K     |████████████████████████████████| 686kB 27.2MB/s \n",
      "\u001b[?25hRequirement already satisfied: typeguard>=2.7 in /usr/local/lib/python3.7/dist-packages (from tensorflow-addons) (2.7.1)\n",
      "Installing collected packages: tensorflow-addons\n",
      "Successfully installed tensorflow-addons-0.13.0\n"
     ]
    }
   ],
   "source": [
    "!pip install tensorflow-addons\n",
    "import tensorflow_addons as tfa"
   ]
  },
  {
   "cell_type": "code",
   "execution_count": 17,
   "metadata": {
    "id": "IfmTEAVZLstm"
   },
   "outputs": [],
   "source": [
    "y_train=preprocessed_data_train[['commenting','ogling','groping']]#y_train\n",
    "y_test=preprocessed_data_test[['commenting','ogling','groping']]#y_test"
   ]
  },
  {
   "cell_type": "markdown",
   "metadata": {
    "id": "mXEEfgQVO-dr"
   },
   "source": [
    "#Model 1:"
   ]
  },
  {
   "cell_type": "code",
   "execution_count": 18,
   "metadata": {
    "id": "JUhY4Ci-rw-G"
   },
   "outputs": [],
   "source": [
    "#Input layer\n",
    "input_layer =tf.keras.layers.Input(shape=(max_length,))\n",
    "#Embedding layer\n",
    "embedding=tf.keras.layers.Embedding(vocab_size,300, weights=[embedding_matrix], input_length=max_length, trainable=False)(input_layer)\n",
    "lstm_layer=tf.keras.layers.Bidirectional(tf.keras.layers.LSTM(128))(embedding)\n",
    "dense1=tf.keras.layers.Dense(128)(lstm_layer)\n",
    "output=tf.keras.layers.Dense(3,activation='softmax')(dense1)\n",
    "model=tf.keras.Model(inputs=input_layer,outputs=output)"
   ]
  },
  {
   "cell_type": "code",
   "execution_count": 19,
   "metadata": {
    "colab": {
     "base_uri": "https://localhost:8080/"
    },
    "id": "UKReaQHsccXU",
    "outputId": "e16b2105-1086-4453-ab03-5b9a181232a2"
   },
   "outputs": [
    {
     "name": "stdout",
     "output_type": "stream",
     "text": [
      "Model: \"model\"\n",
      "_________________________________________________________________\n",
      "Layer (type)                 Output Shape              Param #   \n",
      "=================================================================\n",
      "input_1 (InputLayer)         [(None, 530)]             0         \n",
      "_________________________________________________________________\n",
      "embedding (Embedding)        (None, 530, 300)          2363400   \n",
      "_________________________________________________________________\n",
      "bidirectional (Bidirectional (None, 256)               439296    \n",
      "_________________________________________________________________\n",
      "dense (Dense)                (None, 128)               32896     \n",
      "_________________________________________________________________\n",
      "dense_1 (Dense)              (None, 3)                 387       \n",
      "=================================================================\n",
      "Total params: 2,835,979\n",
      "Trainable params: 472,579\n",
      "Non-trainable params: 2,363,400\n",
      "_________________________________________________________________\n"
     ]
    }
   ],
   "source": [
    "model.summary()"
   ]
  },
  {
   "cell_type": "code",
   "execution_count": 20,
   "metadata": {
    "colab": {
     "base_uri": "https://localhost:8080/"
    },
    "id": "FXC8kXPbr2vi",
    "outputId": "c8ba0eb9-a2f3-40da-a5b7-8cfcbc03d8f5"
   },
   "outputs": [
    {
     "name": "stdout",
     "output_type": "stream",
     "text": [
      "WARNING:tensorflow:`write_grads` will be ignored in TensorFlow 2.0 for the `TensorBoard` Callback.\n"
     ]
    }
   ],
   "source": [
    "from tensorflow.keras.callbacks import EarlyStopping,TensorBoard,ModelCheckpoint\n",
    "import datetime\n",
    "early_stop = EarlyStopping(monitor='val_accuracy', patience=4, verbose=1)\n",
    "log_dir=\"logs/fit/\" + datetime.datetime.now().strftime(\"%Y%m%d-%H%M%S\")\n",
    "tensorboard_callback = TensorBoard(log_dir=log_dir, histogram_freq=0, write_graph=True,write_grads=True)\n",
    "check_point = ModelCheckpoint('best_model_1.h5', monitor='val_accuracy',  verbose=1, save_best_only=True, mode='min')\n",
    "model.compile(loss='categorical_crossentropy',optimizer=tf.keras.optimizers.Adam(0.00001),metrics=['accuracy',tfa.metrics.F1Score(num_classes=3,average='micro'),tfa.metrics.HammingLoss(mode='multilabel')])"
   ]
  },
  {
   "cell_type": "code",
   "execution_count": 21,
   "metadata": {
    "colab": {
     "base_uri": "https://localhost:8080/"
    },
    "id": "S8TV3BzdZ_Ol",
    "outputId": "df15f9fd-2d07-4a2c-9470-9658d6ff0a8b"
   },
   "outputs": [
    {
     "name": "stdout",
     "output_type": "stream",
     "text": [
      "Epoch 1/10\n",
      "225/225 [==============================] - ETA: 0s - loss: 0.9709 - accuracy: 0.6692 - f1_score: 0.4032 - hamming_loss: 0.3788"
     ]
    },
    {
     "name": "stderr",
     "output_type": "stream",
     "text": [
      "/usr/local/lib/python3.7/dist-packages/tensorflow/python/keras/metrics.py:257: UserWarning: Metric F1Score implements a `reset_states()` method; rename it to `reset_state()` (without the final \"s\"). The name `reset_states()` has been deprecated to improve API consistency.\n",
      "  'consistency.' % (self.__class__.__name__,))\n"
     ]
    },
    {
     "name": "stdout",
     "output_type": "stream",
     "text": [
      "225/225 [==============================] - 23s 64ms/step - loss: 0.9709 - accuracy: 0.6692 - f1_score: 0.4032 - hamming_loss: 0.3788 - val_loss: 0.9767 - val_accuracy: 0.6808 - val_f1_score: 0.3975 - val_hamming_loss: 0.3843\n",
      "\n",
      "Epoch 00001: val_accuracy improved from inf to 0.68078, saving model to best_model_1.h5\n",
      "Epoch 2/10\n",
      "225/225 [==============================] - 13s 58ms/step - loss: 0.9561 - accuracy: 0.6964 - f1_score: 0.4272 - hamming_loss: 0.3636 - val_loss: 0.9630 - val_accuracy: 0.7037 - val_f1_score: 0.4301 - val_hamming_loss: 0.3635\n",
      "\n",
      "Epoch 00002: val_accuracy did not improve from 0.68078\n",
      "Epoch 3/10\n",
      "225/225 [==============================] - 13s 57ms/step - loss: 0.9457 - accuracy: 0.7092 - f1_score: 0.4413 - hamming_loss: 0.3547 - val_loss: 0.9490 - val_accuracy: 0.7143 - val_f1_score: 0.4584 - val_hamming_loss: 0.3455\n",
      "\n",
      "Epoch 00003: val_accuracy did not improve from 0.68078\n",
      "Epoch 4/10\n",
      "225/225 [==============================] - 13s 57ms/step - loss: 0.9297 - accuracy: 0.7051 - f1_score: 0.4675 - hamming_loss: 0.3380 - val_loss: 0.9356 - val_accuracy: 0.7066 - val_f1_score: 0.4836 - val_hamming_loss: 0.3294\n",
      "\n",
      "Epoch 00004: val_accuracy did not improve from 0.68078\n",
      "Epoch 5/10\n",
      "225/225 [==============================] - 13s 57ms/step - loss: 0.9163 - accuracy: 0.7136 - f1_score: 0.5027 - hamming_loss: 0.3157 - val_loss: 0.9236 - val_accuracy: 0.7290 - val_f1_score: 0.5075 - val_hamming_loss: 0.3141\n",
      "\n",
      "Epoch 00005: val_accuracy did not improve from 0.68078\n",
      "Epoch 6/10\n",
      "225/225 [==============================] - 13s 57ms/step - loss: 0.9042 - accuracy: 0.7286 - f1_score: 0.5209 - hamming_loss: 0.3041 - val_loss: 0.9125 - val_accuracy: 0.7384 - val_f1_score: 0.5198 - val_hamming_loss: 0.3063\n",
      "\n",
      "Epoch 00006: val_accuracy did not improve from 0.68078\n",
      "Epoch 7/10\n",
      "225/225 [==============================] - 13s 59ms/step - loss: 0.9010 - accuracy: 0.7149 - f1_score: 0.5207 - hamming_loss: 0.3042 - val_loss: 0.9294 - val_accuracy: 0.7407 - val_f1_score: 0.4836 - val_hamming_loss: 0.3294\n",
      "\n",
      "Epoch 00007: val_accuracy did not improve from 0.68078\n",
      "Epoch 8/10\n",
      "225/225 [==============================] - 13s 58ms/step - loss: 0.9042 - accuracy: 0.7289 - f1_score: 0.5270 - hamming_loss: 0.3002 - val_loss: 0.9072 - val_accuracy: 0.6602 - val_f1_score: 0.5284 - val_hamming_loss: 0.3008\n",
      "\n",
      "Epoch 00008: val_accuracy improved from 0.68078 to 0.66020, saving model to best_model_1.h5\n",
      "Epoch 9/10\n",
      "225/225 [==============================] - 13s 58ms/step - loss: 0.8796 - accuracy: 0.7056 - f1_score: 0.5439 - hamming_loss: 0.2895 - val_loss: 0.8947 - val_accuracy: 0.7478 - val_f1_score: 0.5217 - val_hamming_loss: 0.3051\n",
      "\n",
      "Epoch 00009: val_accuracy did not improve from 0.66020\n",
      "Epoch 10/10\n",
      "225/225 [==============================] - 13s 58ms/step - loss: 0.8667 - accuracy: 0.7004 - f1_score: 0.5476 - hamming_loss: 0.2872 - val_loss: 0.8710 - val_accuracy: 0.7260 - val_f1_score: 0.5481 - val_hamming_loss: 0.2883\n",
      "\n",
      "Epoch 00010: val_accuracy did not improve from 0.66020\n"
     ]
    },
    {
     "data": {
      "text/plain": [
       "<tensorflow.python.keras.callbacks.History at 0x7fd728f52550>"
      ]
     },
     "execution_count": 21,
     "metadata": {
      "tags": []
     },
     "output_type": "execute_result"
    }
   ],
   "source": [
    "model.fit(padded_docs,y_train,validation_data=(padded_docs1,y_test),epochs=10,callbacks=[early_stop,tensorboard_callback,check_point])"
   ]
  },
  {
   "cell_type": "code",
   "execution_count": 22,
   "metadata": {
    "colab": {
     "base_uri": "https://localhost:8080/"
    },
    "id": "arc6-bF8DG_m",
    "outputId": "212074d7-3840-43e8-ccc7-e2d08c05701f"
   },
   "outputs": [
    {
     "name": "stdout",
     "output_type": "stream",
     "text": [
      "Epoch 1/10\n",
      "\r",
      "  1/225 [..............................] - ETA: 20s - loss: 1.1901 - accuracy: 0.7812 - f1_score: 0.6479 - hamming_loss: 0.2604"
     ]
    },
    {
     "name": "stderr",
     "output_type": "stream",
     "text": [
      "/usr/local/lib/python3.7/dist-packages/tensorflow/python/keras/metrics.py:257: UserWarning: Metric F1Score implements a `reset_states()` method; rename it to `reset_state()` (without the final \"s\"). The name `reset_states()` has been deprecated to improve API consistency.\n",
      "  'consistency.' % (self.__class__.__name__,))\n"
     ]
    },
    {
     "name": "stdout",
     "output_type": "stream",
     "text": [
      "224/225 [============================>.] - ETA: 0s - loss: 0.8471 - accuracy: 0.6906 - f1_score: 0.5511 - hamming_loss: 0.2849"
     ]
    },
    {
     "name": "stderr",
     "output_type": "stream",
     "text": [
      "/usr/local/lib/python3.7/dist-packages/tensorflow/python/keras/metrics.py:257: UserWarning: Metric F1Score implements a `reset_states()` method; rename it to `reset_state()` (without the final \"s\"). The name `reset_states()` has been deprecated to improve API consistency.\n",
      "  'consistency.' % (self.__class__.__name__,))\n"
     ]
    },
    {
     "name": "stdout",
     "output_type": "stream",
     "text": [
      "225/225 [==============================] - 14s 62ms/step - loss: 0.8476 - accuracy: 0.6906 - f1_score: 0.5514 - hamming_loss: 0.2848 - val_loss: 0.8538 - val_accuracy: 0.7002 - val_f1_score: 0.5481 - val_hamming_loss: 0.2883\n",
      "\n",
      "Epoch 00001: val_accuracy did not improve from 0.66020\n",
      "Epoch 2/10\n",
      "225/225 [==============================] - 13s 57ms/step - loss: 0.8304 - accuracy: 0.7032 - f1_score: 0.5544 - hamming_loss: 0.2828 - val_loss: 0.8465 - val_accuracy: 0.7049 - val_f1_score: 0.5475 - val_hamming_loss: 0.2887\n",
      "\n",
      "Epoch 00002: val_accuracy did not improve from 0.66020\n",
      "Epoch 3/10\n",
      "225/225 [==============================] - 13s 58ms/step - loss: 0.8250 - accuracy: 0.7089 - f1_score: 0.5553 - hamming_loss: 0.2823 - val_loss: 0.8444 - val_accuracy: 0.7160 - val_f1_score: 0.5395 - val_hamming_loss: 0.2937\n",
      "\n",
      "Epoch 00003: val_accuracy did not improve from 0.66020\n",
      "Epoch 4/10\n",
      "225/225 [==============================] - 13s 58ms/step - loss: 0.8243 - accuracy: 0.7144 - f1_score: 0.5533 - hamming_loss: 0.2836 - val_loss: 0.8386 - val_accuracy: 0.7014 - val_f1_score: 0.5604 - val_hamming_loss: 0.2804\n",
      "\n",
      "Epoch 00004: val_accuracy did not improve from 0.66020\n",
      "Epoch 5/10\n",
      "225/225 [==============================] - 13s 58ms/step - loss: 0.8252 - accuracy: 0.6972 - f1_score: 0.5537 - hamming_loss: 0.2833 - val_loss: 0.8498 - val_accuracy: 0.7384 - val_f1_score: 0.5321 - val_hamming_loss: 0.2985\n",
      "\n",
      "Epoch 00005: val_accuracy did not improve from 0.66020\n",
      "Epoch 6/10\n",
      "225/225 [==============================] - 13s 59ms/step - loss: 0.8518 - accuracy: 0.6729 - f1_score: 0.5426 - hamming_loss: 0.2903 - val_loss: 0.8339 - val_accuracy: 0.6661 - val_f1_score: 0.5542 - val_hamming_loss: 0.2843\n",
      "\n",
      "Epoch 00006: val_accuracy did not improve from 0.66020\n",
      "Epoch 7/10\n",
      "225/225 [==============================] - 13s 58ms/step - loss: 0.8324 - accuracy: 0.6629 - f1_score: 0.5566 - hamming_loss: 0.2814 - val_loss: 0.8472 - val_accuracy: 0.6808 - val_f1_score: 0.5548 - val_hamming_loss: 0.2840\n",
      "\n",
      "Epoch 00007: val_accuracy did not improve from 0.66020\n",
      "Epoch 8/10\n",
      "225/225 [==============================] - 13s 57ms/step - loss: 0.8366 - accuracy: 0.7108 - f1_score: 0.5590 - hamming_loss: 0.2800 - val_loss: 0.8342 - val_accuracy: 0.7284 - val_f1_score: 0.5462 - val_hamming_loss: 0.2894\n",
      "\n",
      "Epoch 00008: val_accuracy did not improve from 0.66020\n",
      "Epoch 9/10\n",
      "225/225 [==============================] - 13s 57ms/step - loss: 0.8296 - accuracy: 0.7322 - f1_score: 0.5571 - hamming_loss: 0.2812 - val_loss: 0.8393 - val_accuracy: 0.7178 - val_f1_score: 0.5419 - val_hamming_loss: 0.2922\n",
      "\n",
      "Epoch 00009: val_accuracy did not improve from 0.66020\n",
      "Epoch 00009: early stopping\n"
     ]
    },
    {
     "data": {
      "text/plain": [
       "<tensorflow.python.keras.callbacks.History at 0x7fd729f67890>"
      ]
     },
     "execution_count": 22,
     "metadata": {
      "tags": []
     },
     "output_type": "execute_result"
    }
   ],
   "source": [
    "tf.keras.backend.set_value(model.optimizer.lr,0.00002)\n",
    "\n",
    "model.fit(padded_docs,y_train,validation_data=(padded_docs1,y_test),epochs=10,callbacks=[early_stop,tensorboard_callback,check_point])\n"
   ]
  },
  {
   "cell_type": "code",
   "execution_count": 23,
   "metadata": {
    "colab": {
     "base_uri": "https://localhost:8080/",
     "height": 533
    },
    "id": "dcR279gmoge2",
    "outputId": "1c859c0f-da80-4623-f82b-f5d481c5aeba"
   },
   "outputs": [
    {
     "data": {
      "image/png": "[encoded data removed]",
      "text/plain": [
       "<IPython.core.display.Image object>"
      ]
     },
     "execution_count": 23,
     "metadata": {
      "tags": []
     },
     "output_type": "execute_result"
    }
   ],
   "source": [
    "tf.keras.utils.plot_model(model, to_file='Model1.png', show_shapes=True)\n"
   ]
  },
  {
   "cell_type": "markdown",
   "metadata": {
    "id": "-RTYbzDVPKTE"
   },
   "source": [
    "#Model 2:"
   ]
  },
  {
   "cell_type": "code",
   "execution_count": 28,
   "metadata": {
    "id": "LkqyVQ7QopUz"
   },
   "outputs": [],
   "source": [
    "##### from tensorflow.keras.models import Model\n",
    "#Input layer\n",
    "input_layer = tf.keras.layers.Input(shape=(max_length,))\n",
    "#Dense hidden layer\n",
    "embed=tf.keras.layers.Embedding(vocab_size,300, weights=[embedding_matrix], input_length=max_length, trainable=False)(input_layer)\n",
    "layer11=tf.keras.layers.Conv1D(filters=10,kernel_size=3,activation='relu')(embed)\n",
    "pool2=tf.keras.layers.MaxPool1D(pool_size=2)(layer11)\n",
    "flatten=tf.keras.layers.Flatten()(pool2)\n",
    "drop1=tf.keras.layers.Dropout(0.3)(flatten)\n",
    "dense1=tf.keras.layers.Dense(32)(drop1)\n",
    "\n",
    "#Output layer\n",
    "output=tf.keras.layers.Dense(3,activation='softmax')(dense1)\n",
    "\n",
    "#Creating a model\n",
    "model = tf.keras.Model(inputs=input_layer,outputs=output)"
   ]
  },
  {
   "cell_type": "code",
   "execution_count": 29,
   "metadata": {
    "id": "ifQQ957WowPa"
   },
   "outputs": [],
   "source": [
    "check_point = ModelCheckpoint('best_model_2.h5', monitor='val_accuracy',  verbose=1, save_best_only=True, mode='min')\n",
    "\n",
    "model.compile(loss='categorical_crossentropy',optimizer=tf.keras.optimizers.Adam(0.0001),metrics=['accuracy',tfa.metrics.F1Score(num_classes=3,average='micro'),tfa.metrics.HammingLoss(mode='multilabel')])"
   ]
  },
  {
   "cell_type": "code",
   "execution_count": 30,
   "metadata": {
    "colab": {
     "base_uri": "https://localhost:8080/"
    },
    "id": "IvmoiJ0royff",
    "outputId": "d0130d2f-bce9-4d48-c54f-0d22b3d114b1"
   },
   "outputs": [
    {
     "name": "stdout",
     "output_type": "stream",
     "text": [
      "Epoch 1/10\n",
      "223/225 [============================>.] - ETA: 0s - loss: 0.9771 - accuracy: 0.5533 - f1_score: 0.3840 - hamming_loss: 0.3910"
     ]
    },
    {
     "name": "stderr",
     "output_type": "stream",
     "text": [
      "/usr/local/lib/python3.7/dist-packages/tensorflow/python/keras/metrics.py:257: UserWarning: Metric F1Score implements a `reset_states()` method; rename it to `reset_state()` (without the final \"s\"). The name `reset_states()` has been deprecated to improve API consistency.\n",
      "  'consistency.' % (self.__class__.__name__,))\n"
     ]
    },
    {
     "name": "stdout",
     "output_type": "stream",
     "text": [
      "225/225 [==============================] - 3s 9ms/step - loss: 0.9766 - accuracy: 0.5550 - f1_score: 0.3851 - hamming_loss: 0.3903 - val_loss: 0.9760 - val_accuracy: 0.6767 - val_f1_score: 0.4018 - val_hamming_loss: 0.3815\n",
      "\n",
      "Epoch 00001: val_accuracy improved from inf to 0.67666, saving model to best_model_2.h5\n",
      "Epoch 2/10\n",
      "225/225 [==============================] - 2s 8ms/step - loss: 0.9589 - accuracy: 0.6187 - f1_score: 0.4267 - hamming_loss: 0.3639 - val_loss: 0.9633 - val_accuracy: 0.6590 - val_f1_score: 0.4412 - val_hamming_loss: 0.3565\n",
      "\n",
      "Epoch 00002: val_accuracy improved from 0.67666 to 0.65902, saving model to best_model_2.h5\n",
      "Epoch 3/10\n",
      "225/225 [==============================] - 2s 8ms/step - loss: 0.9713 - accuracy: 0.5733 - f1_score: 0.4248 - hamming_loss: 0.3651 - val_loss: 0.9772 - val_accuracy: 0.6925 - val_f1_score: 0.4080 - val_hamming_loss: 0.3776\n",
      "\n",
      "Epoch 00003: val_accuracy did not improve from 0.65902\n",
      "Epoch 4/10\n",
      "225/225 [==============================] - 2s 8ms/step - loss: 0.9845 - accuracy: 0.5690 - f1_score: 0.4283 - hamming_loss: 0.3629 - val_loss: 0.9705 - val_accuracy: 0.6972 - val_f1_score: 0.4252 - val_hamming_loss: 0.3666\n",
      "\n",
      "Epoch 00004: val_accuracy did not improve from 0.65902\n",
      "Epoch 5/10\n",
      "225/225 [==============================] - 2s 8ms/step - loss: 1.0054 - accuracy: 0.5472 - f1_score: 0.4096 - hamming_loss: 0.3748 - val_loss: 0.9813 - val_accuracy: 0.5785 - val_f1_score: 0.4571 - val_hamming_loss: 0.3463\n",
      "\n",
      "Epoch 00005: val_accuracy improved from 0.65902 to 0.57848, saving model to best_model_2.h5\n",
      "Epoch 6/10\n",
      "225/225 [==============================] - 2s 8ms/step - loss: 1.0235 - accuracy: 0.5396 - f1_score: 0.4041 - hamming_loss: 0.3783 - val_loss: 0.9881 - val_accuracy: 0.4250 - val_f1_score: 0.4221 - val_hamming_loss: 0.3686\n",
      "\n",
      "Epoch 00006: val_accuracy improved from 0.57848 to 0.42504, saving model to best_model_2.h5\n",
      "Epoch 7/10\n",
      "225/225 [==============================] - 2s 8ms/step - loss: 1.0332 - accuracy: 0.5379 - f1_score: 0.3925 - hamming_loss: 0.3856 - val_loss: 0.9933 - val_accuracy: 0.6355 - val_f1_score: 0.3986 - val_hamming_loss: 0.3837\n",
      "\n",
      "Epoch 00007: val_accuracy did not improve from 0.42504\n",
      "Epoch 8/10\n",
      "225/225 [==============================] - 2s 8ms/step - loss: 1.0512 - accuracy: 0.5315 - f1_score: 0.3940 - hamming_loss: 0.3847 - val_loss: 1.0113 - val_accuracy: 0.6896 - val_f1_score: 0.4080 - val_hamming_loss: 0.3776\n",
      "\n",
      "Epoch 00008: val_accuracy did not improve from 0.42504\n",
      "Epoch 00008: early stopping\n"
     ]
    },
    {
     "data": {
      "text/plain": [
       "<tensorflow.python.keras.callbacks.History at 0x7fd729a91d90>"
      ]
     },
     "execution_count": 30,
     "metadata": {
      "tags": []
     },
     "output_type": "execute_result"
    }
   ],
   "source": [
    "model.fit(padded_docs,y_train,validation_data=(padded_docs1,y_test),epochs=10,callbacks=[early_stop,check_point])"
   ]
  },
  {
   "cell_type": "code",
   "execution_count": 31,
   "metadata": {
    "colab": {
     "base_uri": "https://localhost:8080/",
     "height": 865
    },
    "id": "NnfesEnynpct",
    "outputId": "79531a2a-7203-488c-fbd8-be7125e6d581"
   },
   "outputs": [
    {
     "data": {
      "image/png": "[encoded data removed]",
      "text/plain": [
       "<IPython.core.display.Image object>"
      ]
     },
     "execution_count": 31,
     "metadata": {
      "tags": []
     },
     "output_type": "execute_result"
    }
   ],
   "source": [
    "tf.keras.utils.plot_model(model, to_file='Model2.png', show_shapes=True)\n"
   ]
  },
  {
   "cell_type": "markdown",
   "metadata": {
    "id": "N5O2HGntW01L"
   },
   "source": [
    "#Model 3:"
   ]
  },
  {
   "cell_type": "code",
   "execution_count": 36,
   "metadata": {
    "id": "pe0Daw4yCWry"
   },
   "outputs": [],
   "source": [
    "##### from tensorflow.keras.models import Model\n",
    "#Input layer\n",
    "input_layer = tf.keras.layers.Input(shape=(max_length,))\n",
    "#Dense hidden layer\n",
    "embed=tf.keras.layers.Embedding(vocab_size,300, weights=[embedding_matrix], input_length=max_length, trainable=False)(input_layer)\n",
    "layer11=tf.keras.layers.Conv1D(filters=32,kernel_size=3,activation='relu')(embed)\n",
    "pool2=tf.keras.layers.MaxPool1D(pool_size=2)(layer11)\n",
    "lstm_layer=tf.keras.layers.Bidirectional(tf.keras.layers.LSTM(64))(pool2)\n",
    "dense=tf.keras.layers.Dense(64,activation='relu')(lstm_layer)\n",
    "output=tf.keras.layers.Dense(3,activation='softmax')(dense)\n",
    "\n",
    "#Creating a model\n",
    "model = tf.keras.Model(inputs=input_layer,outputs=output)"
   ]
  },
  {
   "cell_type": "code",
   "execution_count": 37,
   "metadata": {
    "id": "1cesCMnQCnEa"
   },
   "outputs": [],
   "source": [
    "check_point = ModelCheckpoint('best_model_3.h5', monitor='val_accuracy',  verbose=1, save_best_only=True, mode='min')\n",
    "\n",
    "model.compile(loss='categorical_crossentropy',optimizer=tf.keras.optimizers.Adam(0.0001),metrics=['accuracy',tfa.metrics.F1Score(num_classes=3,average='micro'),tfa.metrics.HammingLoss(mode='multilabel')])\n"
   ]
  },
  {
   "cell_type": "code",
   "execution_count": 38,
   "metadata": {
    "colab": {
     "base_uri": "https://localhost:8080/"
    },
    "id": "y_FAatiqD9Ow",
    "outputId": "dc748c00-2c09-44f3-9a63-0054075ba0d5"
   },
   "outputs": [
    {
     "name": "stdout",
     "output_type": "stream",
     "text": [
      "Epoch 1/10\n",
      "223/225 [============================>.] - ETA: 0s - loss: 0.9619 - accuracy: 0.6103 - f1_score: 0.4055 - hamming_loss: 0.3778"
     ]
    },
    {
     "name": "stderr",
     "output_type": "stream",
     "text": [
      "/usr/local/lib/python3.7/dist-packages/tensorflow/python/keras/metrics.py:257: UserWarning: Metric F1Score implements a `reset_states()` method; rename it to `reset_state()` (without the final \"s\"). The name `reset_states()` has been deprecated to improve API consistency.\n",
      "  'consistency.' % (self.__class__.__name__,))\n"
     ]
    },
    {
     "name": "stdout",
     "output_type": "stream",
     "text": [
      "225/225 [==============================] - 9s 30ms/step - loss: 0.9593 - accuracy: 0.6108 - f1_score: 0.4057 - hamming_loss: 0.3773 - val_loss: 0.9548 - val_accuracy: 0.6884 - val_f1_score: 0.4657 - val_hamming_loss: 0.3408\n",
      "\n",
      "Epoch 00001: val_accuracy improved from inf to 0.68842, saving model to best_model_3.h5\n",
      "Epoch 2/10\n",
      "225/225 [==============================] - 6s 26ms/step - loss: 0.8758 - accuracy: 0.7287 - f1_score: 0.5283 - hamming_loss: 0.2994 - val_loss: 0.8567 - val_accuracy: 0.7125 - val_f1_score: 0.5438 - val_hamming_loss: 0.2910\n",
      "\n",
      "Epoch 00002: val_accuracy did not improve from 0.68842\n",
      "Epoch 3/10\n",
      "225/225 [==============================] - 6s 26ms/step - loss: 0.8189 - accuracy: 0.7251 - f1_score: 0.5566 - hamming_loss: 0.2814 - val_loss: 0.8388 - val_accuracy: 0.6767 - val_f1_score: 0.5604 - val_hamming_loss: 0.2804\n",
      "\n",
      "Epoch 00003: val_accuracy improved from 0.68842 to 0.67666, saving model to best_model_3.h5\n",
      "Epoch 4/10\n",
      "225/225 [==============================] - 6s 26ms/step - loss: 0.8183 - accuracy: 0.7021 - f1_score: 0.5684 - hamming_loss: 0.2739 - val_loss: 0.8552 - val_accuracy: 0.7213 - val_f1_score: 0.5542 - val_hamming_loss: 0.2843\n",
      "\n",
      "Epoch 00004: val_accuracy did not improve from 0.67666\n",
      "Epoch 5/10\n",
      "225/225 [==============================] - 6s 26ms/step - loss: 0.8393 - accuracy: 0.6933 - f1_score: 0.5690 - hamming_loss: 0.2736 - val_loss: 0.8527 - val_accuracy: 0.6978 - val_f1_score: 0.5561 - val_hamming_loss: 0.2832\n",
      "\n",
      "Epoch 00005: val_accuracy did not improve from 0.67666\n",
      "Epoch 6/10\n",
      "225/225 [==============================] - 6s 26ms/step - loss: 0.8315 - accuracy: 0.6931 - f1_score: 0.5645 - hamming_loss: 0.2764 - val_loss: 0.8512 - val_accuracy: 0.7331 - val_f1_score: 0.5505 - val_hamming_loss: 0.2867\n",
      "\n",
      "Epoch 00006: val_accuracy did not improve from 0.67666\n",
      "Epoch 7/10\n",
      "225/225 [==============================] - 6s 26ms/step - loss: 0.8386 - accuracy: 0.7035 - f1_score: 0.5552 - hamming_loss: 0.2824 - val_loss: 0.8498 - val_accuracy: 0.5132 - val_f1_score: 0.5303 - val_hamming_loss: 0.2996\n",
      "\n",
      "Epoch 00007: val_accuracy improved from 0.67666 to 0.51323, saving model to best_model_3.h5\n",
      "Epoch 8/10\n",
      "225/225 [==============================] - 6s 26ms/step - loss: 0.8364 - accuracy: 0.6907 - f1_score: 0.5560 - hamming_loss: 0.2818 - val_loss: 0.8495 - val_accuracy: 0.7102 - val_f1_score: 0.5499 - val_hamming_loss: 0.2871\n",
      "\n",
      "Epoch 00008: val_accuracy did not improve from 0.51323\n",
      "Epoch 9/10\n",
      "225/225 [==============================] - 6s 26ms/step - loss: 0.8432 - accuracy: 0.6818 - f1_score: 0.5531 - hamming_loss: 0.2837 - val_loss: 0.8758 - val_accuracy: 0.7407 - val_f1_score: 0.5327 - val_hamming_loss: 0.2981\n",
      "\n",
      "Epoch 00009: val_accuracy did not improve from 0.51323\n",
      "Epoch 10/10\n",
      "225/225 [==============================] - 6s 26ms/step - loss: 0.8529 - accuracy: 0.6778 - f1_score: 0.5390 - hamming_loss: 0.2926 - val_loss: 0.8754 - val_accuracy: 0.7396 - val_f1_score: 0.5315 - val_hamming_loss: 0.2988\n",
      "\n",
      "Epoch 00010: val_accuracy did not improve from 0.51323\n"
     ]
    },
    {
     "data": {
      "text/plain": [
       "<tensorflow.python.keras.callbacks.History at 0x7fd7202cc950>"
      ]
     },
     "execution_count": 38,
     "metadata": {
      "tags": []
     },
     "output_type": "execute_result"
    }
   ],
   "source": [
    "model.fit(padded_docs,y_train,validation_data=(padded_docs1,y_test),epochs=10,callbacks=[early_stop,check_point])\n"
   ]
  },
  {
   "cell_type": "code",
   "execution_count": 39,
   "metadata": {
    "colab": {
     "base_uri": "https://localhost:8080/"
    },
    "id": "w_H3blfwVIyz",
    "outputId": "6945a042-b004-4b86-d3ed-f770973594d9"
   },
   "outputs": [
    {
     "name": "stdout",
     "output_type": "stream",
     "text": [
      "Epoch 1/10\n",
      "  3/225 [..............................] - ETA: 9s - loss: 0.9560 - accuracy: 0.6875 - f1_score: 0.5567 - hamming_loss: 0.2986"
     ]
    },
    {
     "name": "stderr",
     "output_type": "stream",
     "text": [
      "/usr/local/lib/python3.7/dist-packages/tensorflow/python/keras/metrics.py:257: UserWarning: Metric F1Score implements a `reset_states()` method; rename it to `reset_state()` (without the final \"s\"). The name `reset_states()` has been deprecated to improve API consistency.\n",
      "  'consistency.' % (self.__class__.__name__,))\n"
     ]
    },
    {
     "name": "stdout",
     "output_type": "stream",
     "text": [
      "224/225 [============================>.] - ETA: 0s - loss: 0.8646 - accuracy: 0.7068 - f1_score: 0.5371 - hamming_loss: 0.2939"
     ]
    },
    {
     "name": "stderr",
     "output_type": "stream",
     "text": [
      "/usr/local/lib/python3.7/dist-packages/tensorflow/python/keras/metrics.py:257: UserWarning: Metric F1Score implements a `reset_states()` method; rename it to `reset_state()` (without the final \"s\"). The name `reset_states()` has been deprecated to improve API consistency.\n",
      "  'consistency.' % (self.__class__.__name__,))\n"
     ]
    },
    {
     "name": "stdout",
     "output_type": "stream",
     "text": [
      "225/225 [==============================] - 6s 27ms/step - loss: 0.8648 - accuracy: 0.7067 - f1_score: 0.5368 - hamming_loss: 0.2940 - val_loss: 0.8868 - val_accuracy: 0.7255 - val_f1_score: 0.5186 - val_hamming_loss: 0.3071\n",
      "\n",
      "Epoch 00001: val_accuracy did not improve from 0.51323\n",
      "Epoch 2/10\n",
      "225/225 [==============================] - 6s 26ms/step - loss: 0.8602 - accuracy: 0.6949 - f1_score: 0.5301 - hamming_loss: 0.2983 - val_loss: 0.8917 - val_accuracy: 0.5226 - val_f1_score: 0.5106 - val_hamming_loss: 0.3122\n",
      "\n",
      "Epoch 00002: val_accuracy did not improve from 0.51323\n",
      "Epoch 3/10\n",
      "225/225 [==============================] - 6s 26ms/step - loss: 0.8664 - accuracy: 0.6574 - f1_score: 0.5261 - hamming_loss: 0.3008 - val_loss: 0.8870 - val_accuracy: 0.7302 - val_f1_score: 0.5106 - val_hamming_loss: 0.3122\n",
      "\n",
      "Epoch 00003: val_accuracy did not improve from 0.51323\n",
      "Epoch 4/10\n",
      "225/225 [==============================] - 6s 26ms/step - loss: 0.8676 - accuracy: 0.6804 - f1_score: 0.5307 - hamming_loss: 0.2979 - val_loss: 0.8881 - val_accuracy: 0.6226 - val_f1_score: 0.5223 - val_hamming_loss: 0.3047\n",
      "\n",
      "Epoch 00004: val_accuracy did not improve from 0.51323\n",
      "Epoch 5/10\n",
      "225/225 [==============================] - 6s 26ms/step - loss: 0.8706 - accuracy: 0.6892 - f1_score: 0.5263 - hamming_loss: 0.3007 - val_loss: 0.8896 - val_accuracy: 0.5726 - val_f1_score: 0.5223 - val_hamming_loss: 0.3047\n",
      "\n",
      "Epoch 00005: val_accuracy did not improve from 0.51323\n",
      "Epoch 6/10\n",
      "225/225 [==============================] - 6s 26ms/step - loss: 0.8711 - accuracy: 0.6644 - f1_score: 0.5238 - hamming_loss: 0.3023 - val_loss: 0.9024 - val_accuracy: 0.7366 - val_f1_score: 0.4946 - val_hamming_loss: 0.3224\n",
      "\n",
      "Epoch 00006: val_accuracy did not improve from 0.51323\n",
      "Epoch 7/10\n",
      "225/225 [==============================] - 6s 26ms/step - loss: 0.8763 - accuracy: 0.6751 - f1_score: 0.5165 - hamming_loss: 0.3069 - val_loss: 0.8877 - val_accuracy: 0.7437 - val_f1_score: 0.5075 - val_hamming_loss: 0.3141\n",
      "\n",
      "Epoch 00007: val_accuracy did not improve from 0.51323\n",
      "Epoch 8/10\n",
      "225/225 [==============================] - 6s 26ms/step - loss: 0.8728 - accuracy: 0.6699 - f1_score: 0.5206 - hamming_loss: 0.3044 - val_loss: 0.9174 - val_accuracy: 0.7443 - val_f1_score: 0.4891 - val_hamming_loss: 0.3259\n",
      "\n",
      "Epoch 00008: val_accuracy did not improve from 0.51323\n",
      "Epoch 9/10\n",
      "225/225 [==============================] - 6s 26ms/step - loss: 0.8765 - accuracy: 0.6913 - f1_score: 0.5155 - hamming_loss: 0.3075 - val_loss: 0.9182 - val_accuracy: 0.7307 - val_f1_score: 0.4762 - val_hamming_loss: 0.3341\n",
      "\n",
      "Epoch 00009: val_accuracy did not improve from 0.51323\n",
      "Epoch 10/10\n",
      "225/225 [==============================] - 6s 26ms/step - loss: 0.8800 - accuracy: 0.6837 - f1_score: 0.5098 - hamming_loss: 0.3112 - val_loss: 0.9137 - val_accuracy: 0.7278 - val_f1_score: 0.5038 - val_hamming_loss: 0.3165\n",
      "\n",
      "Epoch 00010: val_accuracy did not improve from 0.51323\n"
     ]
    },
    {
     "data": {
      "text/plain": [
       "<tensorflow.python.keras.callbacks.History at 0x7fd6d47e2fd0>"
      ]
     },
     "execution_count": 39,
     "metadata": {
      "tags": []
     },
     "output_type": "execute_result"
    }
   ],
   "source": [
    "model.fit(padded_docs,y_train,validation_data=(padded_docs1,y_test),epochs=10,callbacks=[early_stop,check_point])\n"
   ]
  },
  {
   "cell_type": "code",
   "execution_count": 40,
   "metadata": {
    "colab": {
     "base_uri": "https://localhost:8080/",
     "height": 754
    },
    "id": "FCy9LgxFnu1M",
    "outputId": "c0e2551e-413d-4554-97a3-7ef22749f947"
   },
   "outputs": [
    {
     "data": {
      "image/png": "[encoded data removed]",
      "text/plain": [
       "<IPython.core.display.Image object>"
      ]
     },
     "execution_count": 40,
     "metadata": {
      "tags": []
     },
     "output_type": "execute_result"
    }
   ],
   "source": [
    "tf.keras.utils.plot_model(model, to_file='Model3.png', show_shapes=True)\n"
   ]
  },
  {
   "cell_type": "code",
   "execution_count": null,
   "metadata": {
    "id": "Sjw4gqEnxD-U"
   },
   "outputs": [],
   "source": []
  }
 ],
 "metadata": {
  "accelerator": "GPU",
  "colab": {
   "collapsed_sections": [],
   "name": "Untitled5(5)(3).ipynb",
   "provenance": []
  },
  "kernelspec": {
   "display_name": "Python 3",
   "language": "python",
   "name": "python3"
  },
  "language_info": {
   "codemirror_mode": {
    "name": "ipython",
    "version": 3
   },
   "file_extension": ".py",
   "mimetype": "text/x-python",
   "name": "python",
   "nbconvert_exporter": "python",
   "pygments_lexer": "ipython3",
   "version": "3.8.5"
  }
 },
 "nbformat": 4,
 "nbformat_minor": 1
}
